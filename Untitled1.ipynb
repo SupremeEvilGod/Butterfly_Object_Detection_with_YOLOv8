{
  "nbformat": 4,
  "nbformat_minor": 0,
  "metadata": {
    "colab": {
      "provenance": [],
      "mount_file_id": "1zlpup5B7Z3CJEZOqil-1lnpRbO-gtABL",
      "authorship_tag": "ABX9TyMioZT5qDsoB4c7W88v6Pxb",
      "include_colab_link": true
    },
    "kernelspec": {
      "name": "python3",
      "display_name": "Python 3"
    },
    "language_info": {
      "name": "python"
    }
  },
  "cells": [
    {
      "cell_type": "markdown",
      "metadata": {
        "id": "view-in-github",
        "colab_type": "text"
      },
      "source": [
        "<a href=\"https://colab.research.google.com/github/SupremeEvilGod/Butterfly_Object_Detection_with_YOLOv8/blob/main/Untitled1.ipynb\" target=\"_parent\"><img src=\"https://colab.research.google.com/assets/colab-badge.svg\" alt=\"Open In Colab\"/></a>"
      ]
    },
    {
      "cell_type": "code",
      "execution_count": null,
      "metadata": {
        "colab": {
          "base_uri": "https://localhost:8080/"
        },
        "id": "L7SiGNKTcmq2",
        "outputId": "4f2daced-56fe-4654-ee9c-e6c2ad0a6b16"
      },
      "outputs": [
        {
          "metadata": {
            "tags": null
          },
          "name": "stdout",
          "output_type": "stream",
          "text": [
            "Ultralytics YOLOv8.2.87 🚀 Python-3.10.12 torch-2.3.1+cu121 CPU (Intel Xeon 2.20GHz)\n",
            "\u001b[34m\u001b[1mengine/trainer: \u001b[0mtask=detect, mode=train, model=yolov8n.yaml, data=config.yaml, epochs=100, time=None, patience=100, batch=16, imgsz=640, save=True, save_period=-1, cache=False, device=None, workers=8, project=None, name=train14, exist_ok=False, pretrained=True, optimizer=auto, verbose=True, seed=0, deterministic=True, single_cls=False, rect=False, cos_lr=False, close_mosaic=10, resume=False, amp=True, fraction=1.0, profile=False, freeze=None, multi_scale=False, overlap_mask=True, mask_ratio=4, dropout=0.0, val=True, split=val, save_json=False, save_hybrid=False, conf=None, iou=0.7, max_det=300, half=False, dnn=False, plots=True, source=None, vid_stride=1, stream_buffer=False, visualize=False, augment=False, agnostic_nms=False, classes=None, retina_masks=False, embed=None, show=False, save_frames=False, save_txt=False, save_conf=False, save_crop=False, show_labels=True, show_conf=True, show_boxes=True, line_width=None, format=torchscript, keras=False, optimize=False, int8=False, dynamic=False, simplify=False, opset=None, workspace=4, nms=False, lr0=0.01, lrf=0.01, momentum=0.937, weight_decay=0.0005, warmup_epochs=3.0, warmup_momentum=0.8, warmup_bias_lr=0.1, box=7.5, cls=0.5, dfl=1.5, pose=12.0, kobj=1.0, label_smoothing=0.0, nbs=64, hsv_h=0.015, hsv_s=0.7, hsv_v=0.4, degrees=0.0, translate=0.1, scale=0.5, shear=0.0, perspective=0.0, flipud=0.0, fliplr=0.5, bgr=0.0, mosaic=1.0, mixup=0.0, copy_paste=0.0, auto_augment=randaugment, erasing=0.4, crop_fraction=1.0, cfg=None, tracker=botsort.yaml, save_dir=runs/detect/train14\n",
            "Overriding model.yaml nc=80 with nc=1\n",
            "\n",
            "                   from  n    params  module                                       arguments                     \n",
            "  0                  -1  1       464  ultralytics.nn.modules.conv.Conv             [3, 16, 3, 2]                 \n",
            "  1                  -1  1      4672  ultralytics.nn.modules.conv.Conv             [16, 32, 3, 2]                \n",
            "  2                  -1  1      7360  ultralytics.nn.modules.block.C2f             [32, 32, 1, True]             \n",
            "  3                  -1  1     18560  ultralytics.nn.modules.conv.Conv             [32, 64, 3, 2]                \n",
            "  4                  -1  2     49664  ultralytics.nn.modules.block.C2f             [64, 64, 2, True]             \n",
            "  5                  -1  1     73984  ultralytics.nn.modules.conv.Conv             [64, 128, 3, 2]               \n",
            "  6                  -1  2    197632  ultralytics.nn.modules.block.C2f             [128, 128, 2, True]           \n",
            "  7                  -1  1    295424  ultralytics.nn.modules.conv.Conv             [128, 256, 3, 2]              \n",
            "  8                  -1  1    460288  ultralytics.nn.modules.block.C2f             [256, 256, 1, True]           \n",
            "  9                  -1  1    164608  ultralytics.nn.modules.block.SPPF            [256, 256, 5]                 \n",
            " 10                  -1  1         0  torch.nn.modules.upsampling.Upsample         [None, 2, 'nearest']          \n",
            " 11             [-1, 6]  1         0  ultralytics.nn.modules.conv.Concat           [1]                           \n",
            " 12                  -1  1    148224  ultralytics.nn.modules.block.C2f             [384, 128, 1]                 \n",
            " 13                  -1  1         0  torch.nn.modules.upsampling.Upsample         [None, 2, 'nearest']          \n",
            " 14             [-1, 4]  1         0  ultralytics.nn.modules.conv.Concat           [1]                           \n",
            " 15                  -1  1     37248  ultralytics.nn.modules.block.C2f             [192, 64, 1]                  \n",
            " 16                  -1  1     36992  ultralytics.nn.modules.conv.Conv             [64, 64, 3, 2]                \n",
            " 17            [-1, 12]  1         0  ultralytics.nn.modules.conv.Concat           [1]                           \n",
            " 18                  -1  1    123648  ultralytics.nn.modules.block.C2f             [192, 128, 1]                 \n",
            " 19                  -1  1    147712  ultralytics.nn.modules.conv.Conv             [128, 128, 3, 2]              \n",
            " 20             [-1, 9]  1         0  ultralytics.nn.modules.conv.Concat           [1]                           \n",
            " 21                  -1  1    493056  ultralytics.nn.modules.block.C2f             [384, 256, 1]                 \n",
            " 22        [15, 18, 21]  1    751507  ultralytics.nn.modules.head.Detect           [1, [64, 128, 256]]           \n",
            "YOLOv8n summary: 225 layers, 3,011,043 parameters, 3,011,027 gradients, 8.2 GFLOPs\n",
            "\n",
            "\u001b[34m\u001b[1mTensorBoard: \u001b[0mStart with 'tensorboard --logdir runs/detect/train14', view at http://localhost:6006/\n",
            "Freezing layer 'model.22.dfl.conv.weight'\n"
          ]
        },
        {
          "metadata": {
            "tags": null
          },
          "name": "stderr",
          "output_type": "stream",
          "text": [
            "\u001b[34m\u001b[1mtrain: \u001b[0mScanning /content/datasets/coco8/labels/train.cache... 50 images, 0 backgrounds, 0 corrupt: 100%|██████████| 50/50 [00:00<?, ?it/s]"
          ]
        },
        {
          "metadata": {
            "tags": null
          },
          "name": "stdout",
          "output_type": "stream",
          "text": [
            "\u001b[34m\u001b[1malbumentations: \u001b[0mBlur(p=0.01, blur_limit=(3, 7)), MedianBlur(p=0.01, blur_limit=(3, 7)), ToGray(p=0.01), CLAHE(p=0.01, clip_limit=(1, 4.0), tile_grid_size=(8, 8))\n"
          ]
        },
        {
          "metadata": {
            "tags": null
          },
          "name": "stderr",
          "output_type": "stream",
          "text": [
            "\n",
            "\u001b[34m\u001b[1mval: \u001b[0mScanning /content/datasets/coco8/labels/train.cache... 50 images, 0 backgrounds, 0 corrupt: 100%|██████████| 50/50 [00:00<?, ?it/s]"
          ]
        },
        {
          "metadata": {
            "tags": null
          },
          "name": "stdout",
          "output_type": "stream",
          "text": [
            "Plotting labels to runs/detect/train14/labels.jpg... \n"
          ]
        },
        {
          "metadata": {
            "tags": null
          },
          "name": "stderr",
          "output_type": "stream",
          "text": [
            "\n"
          ]
        },
        {
          "metadata": {
            "tags": null
          },
          "name": "stdout",
          "output_type": "stream",
          "text": [
            "\u001b[34m\u001b[1moptimizer:\u001b[0m 'optimizer=auto' found, ignoring 'lr0=0.01' and 'momentum=0.937' and determining best 'optimizer', 'lr0' and 'momentum' automatically... \n",
            "\u001b[34m\u001b[1moptimizer:\u001b[0m AdamW(lr=0.002, momentum=0.9) with parameter groups 57 weight(decay=0.0), 64 weight(decay=0.0005), 63 bias(decay=0.0)\n",
            "\u001b[34m\u001b[1mTensorBoard: \u001b[0mmodel graph visualization added ✅\n",
            "Image sizes 640 train, 640 val\n",
            "Using 0 dataloader workers\n",
            "Logging results to \u001b[1mruns/detect/train14\u001b[0m\n",
            "Starting training for 100 epochs...\n",
            "\n",
            "      Epoch    GPU_mem   box_loss   cls_loss   dfl_loss  Instances       Size\n"
          ]
        },
        {
          "output_type": "stream",
          "name": "stderr",
          "text": [
            "      1/100         0G      3.309      3.775      4.391          5        640: 100%|██████████| 4/4 [00:52<00:00, 13.21s/it]\n",
            "                 Class     Images  Instances      Box(P          R      mAP50  mAP50-95): 100%|██████████| 2/2 [00:15<00:00,  7.60s/it]"
          ]
        },
        {
          "output_type": "stream",
          "name": "stdout",
          "text": [
            "                   all         50        195    0.00271      0.205    0.00304    0.00109\n"
          ]
        },
        {
          "output_type": "stream",
          "name": "stderr",
          "text": [
            "\n"
          ]
        },
        {
          "output_type": "stream",
          "name": "stdout",
          "text": [
            "\n",
            "      Epoch    GPU_mem   box_loss   cls_loss   dfl_loss  Instances       Size\n"
          ]
        },
        {
          "output_type": "stream",
          "name": "stderr",
          "text": [
            "      2/100         0G      3.323      3.688      4.319          4        640: 100%|██████████| 4/4 [00:42<00:00, 10.55s/it]\n",
            "                 Class     Images  Instances      Box(P          R      mAP50  mAP50-95): 100%|██████████| 2/2 [00:14<00:00,  7.35s/it]"
          ]
        },
        {
          "output_type": "stream",
          "name": "stdout",
          "text": [
            "                   all         50        195    0.00279      0.205     0.0062    0.00206\n"
          ]
        },
        {
          "output_type": "stream",
          "name": "stderr",
          "text": [
            "\n"
          ]
        },
        {
          "output_type": "stream",
          "name": "stdout",
          "text": [
            "\n",
            "      Epoch    GPU_mem   box_loss   cls_loss   dfl_loss  Instances       Size\n"
          ]
        },
        {
          "output_type": "stream",
          "name": "stderr",
          "text": [
            "      3/100         0G      3.444      3.864      4.269          3        640: 100%|██████████| 4/4 [00:42<00:00, 10.55s/it]\n",
            "                 Class     Images  Instances      Box(P          R      mAP50  mAP50-95): 100%|██████████| 2/2 [00:15<00:00,  7.54s/it]"
          ]
        },
        {
          "output_type": "stream",
          "name": "stdout",
          "text": [
            "                   all         50        195    0.00275      0.205    0.00652    0.00206\n"
          ]
        },
        {
          "output_type": "stream",
          "name": "stderr",
          "text": [
            "\n"
          ]
        },
        {
          "output_type": "stream",
          "name": "stdout",
          "text": [
            "\n",
            "      Epoch    GPU_mem   box_loss   cls_loss   dfl_loss  Instances       Size\n"
          ]
        },
        {
          "output_type": "stream",
          "name": "stderr",
          "text": [
            "      4/100         0G      3.499      3.536      4.309          9        640: 100%|██████████| 4/4 [00:46<00:00, 11.59s/it]\n",
            "                 Class     Images  Instances      Box(P          R      mAP50  mAP50-95): 100%|██████████| 2/2 [00:17<00:00,  8.63s/it]"
          ]
        },
        {
          "output_type": "stream",
          "name": "stdout",
          "text": [
            "                   all         50        195    0.00276      0.205    0.00624    0.00187\n"
          ]
        },
        {
          "output_type": "stream",
          "name": "stderr",
          "text": [
            "\n"
          ]
        },
        {
          "output_type": "stream",
          "name": "stdout",
          "text": [
            "\n",
            "      Epoch    GPU_mem   box_loss   cls_loss   dfl_loss  Instances       Size\n"
          ]
        },
        {
          "output_type": "stream",
          "name": "stderr",
          "text": [
            "      5/100         0G      3.773      3.531      4.224          4        640: 100%|██████████| 4/4 [00:45<00:00, 11.48s/it]\n",
            "                 Class     Images  Instances      Box(P          R      mAP50  mAP50-95): 100%|██████████| 2/2 [00:15<00:00,  7.53s/it]"
          ]
        },
        {
          "output_type": "stream",
          "name": "stdout",
          "text": [
            "                   all         50        195    0.00274      0.205    0.00722    0.00271\n"
          ]
        },
        {
          "output_type": "stream",
          "name": "stderr",
          "text": [
            "\n"
          ]
        },
        {
          "output_type": "stream",
          "name": "stdout",
          "text": [
            "\n",
            "      Epoch    GPU_mem   box_loss   cls_loss   dfl_loss  Instances       Size\n"
          ]
        },
        {
          "output_type": "stream",
          "name": "stderr",
          "text": [
            "      6/100         0G      3.501      3.596      4.169          3        640: 100%|██████████| 4/4 [00:44<00:00, 11.25s/it]\n",
            "                 Class     Images  Instances      Box(P          R      mAP50  mAP50-95): 100%|██████████| 2/2 [00:14<00:00,  7.48s/it]"
          ]
        },
        {
          "output_type": "stream",
          "name": "stdout",
          "text": [
            "                   all         50        195    0.00279      0.205    0.00443     0.0014\n"
          ]
        },
        {
          "output_type": "stream",
          "name": "stderr",
          "text": [
            "\n"
          ]
        },
        {
          "output_type": "stream",
          "name": "stdout",
          "text": [
            "\n",
            "      Epoch    GPU_mem   box_loss   cls_loss   dfl_loss  Instances       Size\n"
          ]
        },
        {
          "output_type": "stream",
          "name": "stderr",
          "text": [
            "      7/100         0G      3.451      3.491      4.151        109        640: 100%|██████████| 4/4 [00:44<00:00, 11.00s/it]\n",
            "                 Class     Images  Instances      Box(P          R      mAP50  mAP50-95): 100%|██████████| 2/2 [00:15<00:00,  7.85s/it]"
          ]
        },
        {
          "output_type": "stream",
          "name": "stdout",
          "text": [
            "                   all         50        195    0.00275        0.2    0.00445    0.00144\n"
          ]
        },
        {
          "output_type": "stream",
          "name": "stderr",
          "text": [
            "\n"
          ]
        },
        {
          "output_type": "stream",
          "name": "stdout",
          "text": [
            "\n",
            "      Epoch    GPU_mem   box_loss   cls_loss   dfl_loss  Instances       Size\n"
          ]
        },
        {
          "output_type": "stream",
          "name": "stderr",
          "text": [
            "      8/100         0G      3.275      3.445      4.118          5        640: 100%|██████████| 4/4 [00:46<00:00, 11.74s/it]\n",
            "                 Class     Images  Instances      Box(P          R      mAP50  mAP50-95): 100%|██████████| 2/2 [00:15<00:00,  7.92s/it]"
          ]
        },
        {
          "output_type": "stream",
          "name": "stdout",
          "text": [
            "                   all         50        195     0.0027        0.2    0.00341    0.00121\n"
          ]
        },
        {
          "output_type": "stream",
          "name": "stderr",
          "text": [
            "\n"
          ]
        },
        {
          "output_type": "stream",
          "name": "stdout",
          "text": [
            "\n",
            "      Epoch    GPU_mem   box_loss   cls_loss   dfl_loss  Instances       Size\n"
          ]
        },
        {
          "output_type": "stream",
          "name": "stderr",
          "text": [
            "      9/100         0G      3.682        3.2      4.019         38        640: 100%|██████████| 4/4 [00:45<00:00, 11.32s/it]\n",
            "                 Class     Images  Instances      Box(P          R      mAP50  mAP50-95): 100%|██████████| 2/2 [00:14<00:00,  7.50s/it]"
          ]
        },
        {
          "output_type": "stream",
          "name": "stdout",
          "text": [
            "                   all         50        195    0.00275      0.205    0.00362    0.00122\n"
          ]
        },
        {
          "output_type": "stream",
          "name": "stderr",
          "text": [
            "\n"
          ]
        },
        {
          "output_type": "stream",
          "name": "stdout",
          "text": [
            "\n",
            "      Epoch    GPU_mem   box_loss   cls_loss   dfl_loss  Instances       Size\n"
          ]
        },
        {
          "output_type": "stream",
          "name": "stderr",
          "text": [
            "     10/100         0G      3.198      3.335      3.996          7        640: 100%|██████████| 4/4 [00:44<00:00, 11.20s/it]\n",
            "                 Class     Images  Instances      Box(P          R      mAP50  mAP50-95): 100%|██████████| 2/2 [00:14<00:00,  7.48s/it]"
          ]
        },
        {
          "output_type": "stream",
          "name": "stdout",
          "text": [
            "                   all         50        195    0.00272      0.205    0.00422    0.00151\n"
          ]
        },
        {
          "output_type": "stream",
          "name": "stderr",
          "text": [
            "\n"
          ]
        },
        {
          "output_type": "stream",
          "name": "stdout",
          "text": [
            "\n",
            "      Epoch    GPU_mem   box_loss   cls_loss   dfl_loss  Instances       Size\n"
          ]
        },
        {
          "output_type": "stream",
          "name": "stderr",
          "text": [
            "     11/100         0G      3.125      3.269      3.956          8        640: 100%|██████████| 4/4 [00:43<00:00, 10.82s/it]\n",
            "                 Class     Images  Instances      Box(P          R      mAP50  mAP50-95): 100%|██████████| 2/2 [00:15<00:00,  7.50s/it]"
          ]
        },
        {
          "output_type": "stream",
          "name": "stdout",
          "text": [
            "                   all         50        195    0.00271      0.205    0.00343    0.00119\n"
          ]
        },
        {
          "output_type": "stream",
          "name": "stderr",
          "text": [
            "\n"
          ]
        },
        {
          "output_type": "stream",
          "name": "stdout",
          "text": [
            "\n",
            "      Epoch    GPU_mem   box_loss   cls_loss   dfl_loss  Instances       Size\n"
          ]
        },
        {
          "output_type": "stream",
          "name": "stderr",
          "text": [
            "     12/100         0G      3.062      3.479      3.971          3        640: 100%|██████████| 4/4 [00:41<00:00, 10.48s/it]\n",
            "                 Class     Images  Instances      Box(P          R      mAP50  mAP50-95): 100%|██████████| 2/2 [00:17<00:00,  8.69s/it]"
          ]
        },
        {
          "output_type": "stream",
          "name": "stdout",
          "text": [
            "                   all         50        195    0.00262        0.2    0.00374    0.00125\n"
          ]
        },
        {
          "output_type": "stream",
          "name": "stderr",
          "text": [
            "\n"
          ]
        },
        {
          "output_type": "stream",
          "name": "stdout",
          "text": [
            "\n",
            "      Epoch    GPU_mem   box_loss   cls_loss   dfl_loss  Instances       Size\n"
          ]
        },
        {
          "output_type": "stream",
          "name": "stderr",
          "text": [
            "     13/100         0G      3.603      3.648      3.939          3        640: 100%|██████████| 4/4 [00:41<00:00, 10.45s/it]\n",
            "                 Class     Images  Instances      Box(P          R      mAP50  mAP50-95): 100%|██████████| 2/2 [00:14<00:00,  7.33s/it]"
          ]
        },
        {
          "output_type": "stream",
          "name": "stdout",
          "text": [
            "                   all         50        195     0.0026        0.2    0.00417    0.00139\n"
          ]
        },
        {
          "output_type": "stream",
          "name": "stderr",
          "text": [
            "\n"
          ]
        },
        {
          "output_type": "stream",
          "name": "stdout",
          "text": [
            "\n",
            "      Epoch    GPU_mem   box_loss   cls_loss   dfl_loss  Instances       Size\n"
          ]
        },
        {
          "output_type": "stream",
          "name": "stderr",
          "text": [
            "     14/100         0G      3.297      3.388      3.954          7        640: 100%|██████████| 4/4 [00:42<00:00, 10.70s/it]\n",
            "                 Class     Images  Instances      Box(P          R      mAP50  mAP50-95): 100%|██████████| 2/2 [00:15<00:00,  7.63s/it]"
          ]
        },
        {
          "output_type": "stream",
          "name": "stdout",
          "text": [
            "                   all         50        195     0.0026        0.2     0.0039    0.00142\n"
          ]
        },
        {
          "output_type": "stream",
          "name": "stderr",
          "text": [
            "\n"
          ]
        },
        {
          "output_type": "stream",
          "name": "stdout",
          "text": [
            "\n",
            "      Epoch    GPU_mem   box_loss   cls_loss   dfl_loss  Instances       Size\n"
          ]
        },
        {
          "output_type": "stream",
          "name": "stderr",
          "text": [
            "     15/100         0G      3.611      3.303      3.785         84        640: 100%|██████████| 4/4 [00:43<00:00, 10.80s/it]\n",
            "                 Class     Images  Instances      Box(P          R      mAP50  mAP50-95): 100%|██████████| 2/2 [00:15<00:00,  7.53s/it]"
          ]
        },
        {
          "output_type": "stream",
          "name": "stdout",
          "text": [
            "                   all         50        195    0.00253      0.195    0.00353     0.0015\n"
          ]
        },
        {
          "output_type": "stream",
          "name": "stderr",
          "text": [
            "\n"
          ]
        },
        {
          "output_type": "stream",
          "name": "stdout",
          "text": [
            "\n",
            "      Epoch    GPU_mem   box_loss   cls_loss   dfl_loss  Instances       Size\n"
          ]
        },
        {
          "output_type": "stream",
          "name": "stderr",
          "text": [
            "     16/100         0G      3.109      3.231      3.712          9        640: 100%|██████████| 4/4 [00:42<00:00, 10.64s/it]\n",
            "                 Class     Images  Instances      Box(P          R      mAP50  mAP50-95): 100%|██████████| 2/2 [00:16<00:00,  8.13s/it]"
          ]
        },
        {
          "output_type": "stream",
          "name": "stdout",
          "text": [
            "                   all         50        195    0.00253      0.195    0.00421    0.00165\n"
          ]
        },
        {
          "output_type": "stream",
          "name": "stderr",
          "text": [
            "\n"
          ]
        },
        {
          "output_type": "stream",
          "name": "stdout",
          "text": [
            "\n",
            "      Epoch    GPU_mem   box_loss   cls_loss   dfl_loss  Instances       Size\n"
          ]
        },
        {
          "output_type": "stream",
          "name": "stderr",
          "text": [
            "     17/100         0G      3.018      3.174       3.62          5        640: 100%|██████████| 4/4 [00:41<00:00, 10.32s/it]\n",
            "                 Class     Images  Instances      Box(P          R      mAP50  mAP50-95): 100%|██████████| 2/2 [00:14<00:00,  7.47s/it]"
          ]
        },
        {
          "output_type": "stream",
          "name": "stdout",
          "text": [
            "                   all         50        195    0.00247       0.19    0.00501    0.00174\n"
          ]
        },
        {
          "output_type": "stream",
          "name": "stderr",
          "text": [
            "\n"
          ]
        },
        {
          "output_type": "stream",
          "name": "stdout",
          "text": [
            "\n",
            "      Epoch    GPU_mem   box_loss   cls_loss   dfl_loss  Instances       Size\n"
          ]
        },
        {
          "output_type": "stream",
          "name": "stderr",
          "text": [
            "     18/100         0G      3.074      3.717      3.662          3        640: 100%|██████████| 4/4 [00:43<00:00, 10.81s/it]\n",
            "                 Class     Images  Instances      Box(P          R      mAP50  mAP50-95): 100%|██████████| 2/2 [00:15<00:00,  7.55s/it]"
          ]
        },
        {
          "output_type": "stream",
          "name": "stdout",
          "text": [
            "                   all         50        195      0.003       0.19    0.00549    0.00212\n"
          ]
        },
        {
          "output_type": "stream",
          "name": "stderr",
          "text": [
            "\n"
          ]
        },
        {
          "output_type": "stream",
          "name": "stdout",
          "text": [
            "\n",
            "      Epoch    GPU_mem   box_loss   cls_loss   dfl_loss  Instances       Size\n"
          ]
        },
        {
          "output_type": "stream",
          "name": "stderr",
          "text": [
            "     19/100         0G      3.055      3.196      3.521          6        640: 100%|██████████| 4/4 [00:43<00:00, 10.85s/it]\n",
            "                 Class     Images  Instances      Box(P          R      mAP50  mAP50-95): 100%|██████████| 2/2 [00:14<00:00,  7.46s/it]"
          ]
        },
        {
          "output_type": "stream",
          "name": "stdout",
          "text": [
            "                   all         50        195    0.00316       0.19    0.00486    0.00187\n"
          ]
        },
        {
          "output_type": "stream",
          "name": "stderr",
          "text": [
            "\n"
          ]
        },
        {
          "output_type": "stream",
          "name": "stdout",
          "text": [
            "\n",
            "      Epoch    GPU_mem   box_loss   cls_loss   dfl_loss  Instances       Size\n"
          ]
        },
        {
          "output_type": "stream",
          "name": "stderr",
          "text": [
            "     20/100         0G      3.333      3.557      3.676         10        640: 100%|██████████| 4/4 [00:43<00:00, 10.79s/it]\n",
            "                 Class     Images  Instances      Box(P          R      mAP50  mAP50-95): 100%|██████████| 2/2 [00:15<00:00,  7.55s/it]"
          ]
        },
        {
          "output_type": "stream",
          "name": "stdout",
          "text": [
            "                   all         50        195    0.00322       0.19    0.00327    0.00123\n"
          ]
        },
        {
          "output_type": "stream",
          "name": "stderr",
          "text": [
            "\n"
          ]
        },
        {
          "output_type": "stream",
          "name": "stdout",
          "text": [
            "\n",
            "      Epoch    GPU_mem   box_loss   cls_loss   dfl_loss  Instances       Size\n"
          ]
        },
        {
          "output_type": "stream",
          "name": "stderr",
          "text": [
            "     21/100         0G      3.242      3.066      3.407          5        640: 100%|██████████| 4/4 [00:48<00:00, 12.04s/it]\n",
            "                 Class     Images  Instances      Box(P          R      mAP50  mAP50-95): 100%|██████████| 2/2 [00:14<00:00,  7.42s/it]"
          ]
        },
        {
          "output_type": "stream",
          "name": "stdout",
          "text": [
            "                   all         50        195    0.00293       0.19    0.00391     0.0016\n"
          ]
        },
        {
          "output_type": "stream",
          "name": "stderr",
          "text": [
            "\n"
          ]
        },
        {
          "output_type": "stream",
          "name": "stdout",
          "text": [
            "\n",
            "      Epoch    GPU_mem   box_loss   cls_loss   dfl_loss  Instances       Size\n"
          ]
        },
        {
          "output_type": "stream",
          "name": "stderr",
          "text": [
            "     22/100         0G       2.85       3.48      3.541          2        640: 100%|██████████| 4/4 [00:46<00:00, 11.71s/it]\n",
            "                 Class     Images  Instances      Box(P          R      mAP50  mAP50-95): 100%|██████████| 2/2 [00:15<00:00,  7.55s/it]"
          ]
        },
        {
          "output_type": "stream",
          "name": "stdout",
          "text": [
            "                   all         50        195    0.00331       0.19     0.0055    0.00205\n"
          ]
        },
        {
          "output_type": "stream",
          "name": "stderr",
          "text": [
            "\n"
          ]
        },
        {
          "output_type": "stream",
          "name": "stdout",
          "text": [
            "\n",
            "      Epoch    GPU_mem   box_loss   cls_loss   dfl_loss  Instances       Size\n"
          ]
        },
        {
          "output_type": "stream",
          "name": "stderr",
          "text": [
            "     23/100         0G      2.693      3.161      3.349          3        640: 100%|██████████| 4/4 [00:44<00:00, 11.04s/it]\n",
            "                 Class     Images  Instances      Box(P          R      mAP50  mAP50-95): 100%|██████████| 2/2 [00:15<00:00,  7.60s/it]"
          ]
        },
        {
          "output_type": "stream",
          "name": "stdout",
          "text": [
            "                   all         50        195    0.00351      0.185    0.00724    0.00246\n"
          ]
        },
        {
          "output_type": "stream",
          "name": "stderr",
          "text": [
            "\n"
          ]
        },
        {
          "output_type": "stream",
          "name": "stdout",
          "text": [
            "\n",
            "      Epoch    GPU_mem   box_loss   cls_loss   dfl_loss  Instances       Size\n"
          ]
        },
        {
          "output_type": "stream",
          "name": "stderr",
          "text": [
            "     24/100         0G      3.066      3.268       3.51         13        640: 100%|██████████| 4/4 [00:42<00:00, 10.52s/it]\n",
            "                 Class     Images  Instances      Box(P          R      mAP50  mAP50-95): 100%|██████████| 2/2 [00:14<00:00,  7.49s/it]"
          ]
        },
        {
          "output_type": "stream",
          "name": "stdout",
          "text": [
            "                   all         50        195    0.00608      0.138    0.00849    0.00285\n"
          ]
        },
        {
          "output_type": "stream",
          "name": "stderr",
          "text": [
            "\n"
          ]
        },
        {
          "output_type": "stream",
          "name": "stdout",
          "text": [
            "\n",
            "      Epoch    GPU_mem   box_loss   cls_loss   dfl_loss  Instances       Size\n"
          ]
        },
        {
          "output_type": "stream",
          "name": "stderr",
          "text": [
            "     25/100         0G        3.2      2.865      3.147         64        640: 100%|██████████| 4/4 [00:46<00:00, 11.53s/it]\n",
            "                 Class     Images  Instances      Box(P          R      mAP50  mAP50-95): 100%|██████████| 2/2 [00:14<00:00,  7.37s/it]"
          ]
        },
        {
          "output_type": "stream",
          "name": "stdout",
          "text": [
            "                   all         50        195    0.00918      0.138     0.0149    0.00404\n"
          ]
        },
        {
          "output_type": "stream",
          "name": "stderr",
          "text": [
            "\n"
          ]
        },
        {
          "output_type": "stream",
          "name": "stdout",
          "text": [
            "\n",
            "      Epoch    GPU_mem   box_loss   cls_loss   dfl_loss  Instances       Size\n"
          ]
        },
        {
          "output_type": "stream",
          "name": "stderr",
          "text": [
            "     26/100         0G      3.016       3.09      3.413          5        640: 100%|██████████| 4/4 [00:42<00:00, 10.74s/it]\n",
            "                 Class     Images  Instances      Box(P          R      mAP50  mAP50-95): 100%|██████████| 2/2 [00:14<00:00,  7.48s/it]"
          ]
        },
        {
          "output_type": "stream",
          "name": "stdout",
          "text": [
            "                   all         50        195     0.0123      0.159     0.0116    0.00314\n"
          ]
        },
        {
          "output_type": "stream",
          "name": "stderr",
          "text": [
            "\n"
          ]
        },
        {
          "output_type": "stream",
          "name": "stdout",
          "text": [
            "\n",
            "      Epoch    GPU_mem   box_loss   cls_loss   dfl_loss  Instances       Size\n"
          ]
        },
        {
          "output_type": "stream",
          "name": "stderr",
          "text": [
            "     27/100         0G      3.066      3.209      3.288          5        640: 100%|██████████| 4/4 [00:43<00:00, 10.79s/it]\n",
            "                 Class     Images  Instances      Box(P          R      mAP50  mAP50-95): 100%|██████████| 2/2 [00:15<00:00,  7.54s/it]"
          ]
        },
        {
          "output_type": "stream",
          "name": "stdout",
          "text": [
            "                   all         50        195     0.0134      0.226     0.0102    0.00333\n"
          ]
        },
        {
          "output_type": "stream",
          "name": "stderr",
          "text": [
            "\n"
          ]
        },
        {
          "output_type": "stream",
          "name": "stdout",
          "text": [
            "\n",
            "      Epoch    GPU_mem   box_loss   cls_loss   dfl_loss  Instances       Size\n"
          ]
        },
        {
          "output_type": "stream",
          "name": "stderr",
          "text": [
            "     28/100         0G      2.839      3.167       3.32          4        640: 100%|██████████| 4/4 [00:44<00:00, 11.02s/it]\n",
            "                 Class     Images  Instances      Box(P          R      mAP50  mAP50-95): 100%|██████████| 2/2 [00:15<00:00,  7.54s/it]"
          ]
        },
        {
          "output_type": "stream",
          "name": "stdout",
          "text": [
            "                   all         50        195     0.0202      0.395     0.0232    0.00807\n"
          ]
        },
        {
          "output_type": "stream",
          "name": "stderr",
          "text": [
            "\n"
          ]
        },
        {
          "output_type": "stream",
          "name": "stdout",
          "text": [
            "\n",
            "      Epoch    GPU_mem   box_loss   cls_loss   dfl_loss  Instances       Size\n"
          ]
        },
        {
          "output_type": "stream",
          "name": "stderr",
          "text": [
            "     29/100         0G      2.954      3.084      3.227         10        640: 100%|██████████| 4/4 [00:47<00:00, 11.77s/it]\n",
            "                 Class     Images  Instances      Box(P          R      mAP50  mAP50-95): 100%|██████████| 2/2 [00:15<00:00,  7.61s/it]"
          ]
        },
        {
          "output_type": "stream",
          "name": "stdout",
          "text": [
            "                   all         50        195      0.135      0.138     0.0877      0.025\n"
          ]
        },
        {
          "output_type": "stream",
          "name": "stderr",
          "text": [
            "\n"
          ]
        },
        {
          "output_type": "stream",
          "name": "stdout",
          "text": [
            "\n",
            "      Epoch    GPU_mem   box_loss   cls_loss   dfl_loss  Instances       Size\n"
          ]
        },
        {
          "output_type": "stream",
          "name": "stderr",
          "text": [
            "     30/100         0G      2.978      2.895      3.136          5        640: 100%|██████████| 4/4 [00:46<00:00, 11.58s/it]\n",
            "                 Class     Images  Instances      Box(P          R      mAP50  mAP50-95): 100%|██████████| 2/2 [00:15<00:00,  7.51s/it]"
          ]
        },
        {
          "output_type": "stream",
          "name": "stdout",
          "text": [
            "                   all         50        195      0.283        0.2      0.168     0.0501\n"
          ]
        },
        {
          "output_type": "stream",
          "name": "stderr",
          "text": [
            "\n"
          ]
        },
        {
          "output_type": "stream",
          "name": "stdout",
          "text": [
            "\n",
            "      Epoch    GPU_mem   box_loss   cls_loss   dfl_loss  Instances       Size\n"
          ]
        },
        {
          "output_type": "stream",
          "name": "stderr",
          "text": [
            "     31/100         0G      2.801      2.627       2.85         68        640: 100%|██████████| 4/4 [00:45<00:00, 11.43s/it]\n",
            "                 Class     Images  Instances      Box(P          R      mAP50  mAP50-95): 100%|██████████| 2/2 [00:14<00:00,  7.48s/it]"
          ]
        },
        {
          "output_type": "stream",
          "name": "stdout",
          "text": [
            "                   all         50        195      0.292      0.264      0.201     0.0682\n"
          ]
        },
        {
          "output_type": "stream",
          "name": "stderr",
          "text": [
            "\n"
          ]
        },
        {
          "output_type": "stream",
          "name": "stdout",
          "text": [
            "\n",
            "      Epoch    GPU_mem   box_loss   cls_loss   dfl_loss  Instances       Size\n"
          ]
        },
        {
          "output_type": "stream",
          "name": "stderr",
          "text": [
            "     32/100         0G      2.852      2.796      2.974         32        640: 100%|██████████| 4/4 [00:46<00:00, 11.55s/it]\n",
            "                 Class     Images  Instances      Box(P          R      mAP50  mAP50-95): 100%|██████████| 2/2 [00:15<00:00,  7.53s/it]"
          ]
        },
        {
          "output_type": "stream",
          "name": "stdout",
          "text": [
            "                   all         50        195      0.235      0.262       0.15     0.0512\n"
          ]
        },
        {
          "output_type": "stream",
          "name": "stderr",
          "text": [
            "\n"
          ]
        },
        {
          "output_type": "stream",
          "name": "stdout",
          "text": [
            "\n",
            "      Epoch    GPU_mem   box_loss   cls_loss   dfl_loss  Instances       Size\n"
          ]
        },
        {
          "output_type": "stream",
          "name": "stderr",
          "text": [
            "     33/100         0G      2.777      2.864      3.102          7        640: 100%|██████████| 4/4 [00:48<00:00, 12.04s/it]\n",
            "                 Class     Images  Instances      Box(P          R      mAP50  mAP50-95): 100%|██████████| 2/2 [00:15<00:00,  7.63s/it]"
          ]
        },
        {
          "output_type": "stream",
          "name": "stdout",
          "text": [
            "                   all         50        195       0.29      0.262      0.157     0.0543\n"
          ]
        },
        {
          "output_type": "stream",
          "name": "stderr",
          "text": [
            "\n"
          ]
        },
        {
          "output_type": "stream",
          "name": "stdout",
          "text": [
            "\n",
            "      Epoch    GPU_mem   box_loss   cls_loss   dfl_loss  Instances       Size\n"
          ]
        },
        {
          "output_type": "stream",
          "name": "stderr",
          "text": [
            "     34/100         0G      3.111        3.2      3.316          3        640: 100%|██████████| 4/4 [00:51<00:00, 12.77s/it]\n",
            "                 Class     Images  Instances      Box(P          R      mAP50  mAP50-95): 100%|██████████| 2/2 [00:16<00:00,  8.01s/it]"
          ]
        },
        {
          "output_type": "stream",
          "name": "stdout",
          "text": [
            "                   all         50        195      0.268       0.19      0.129     0.0371\n"
          ]
        },
        {
          "output_type": "stream",
          "name": "stderr",
          "text": [
            "\n"
          ]
        },
        {
          "output_type": "stream",
          "name": "stdout",
          "text": [
            "\n",
            "      Epoch    GPU_mem   box_loss   cls_loss   dfl_loss  Instances       Size\n"
          ]
        },
        {
          "output_type": "stream",
          "name": "stderr",
          "text": [
            "     35/100         0G      2.684      2.849      2.946          5        640: 100%|██████████| 4/4 [00:49<00:00, 12.37s/it]\n",
            "                 Class     Images  Instances      Box(P          R      mAP50  mAP50-95): 100%|██████████| 2/2 [00:15<00:00,  7.85s/it]"
          ]
        },
        {
          "output_type": "stream",
          "name": "stdout",
          "text": [
            "                   all         50        195       0.19      0.231      0.115     0.0346\n"
          ]
        },
        {
          "output_type": "stream",
          "name": "stderr",
          "text": [
            "\n"
          ]
        },
        {
          "output_type": "stream",
          "name": "stdout",
          "text": [
            "\n",
            "      Epoch    GPU_mem   box_loss   cls_loss   dfl_loss  Instances       Size\n"
          ]
        },
        {
          "output_type": "stream",
          "name": "stderr",
          "text": [
            "     36/100         0G      2.451       2.72      2.798          6        640: 100%|██████████| 4/4 [00:45<00:00, 11.33s/it]\n",
            "                 Class     Images  Instances      Box(P          R      mAP50  mAP50-95): 100%|██████████| 2/2 [00:16<00:00,  8.42s/it]"
          ]
        },
        {
          "output_type": "stream",
          "name": "stdout",
          "text": [
            "                   all         50        195      0.297        0.4      0.194     0.0616\n"
          ]
        },
        {
          "output_type": "stream",
          "name": "stderr",
          "text": [
            "\n"
          ]
        },
        {
          "output_type": "stream",
          "name": "stdout",
          "text": [
            "\n",
            "      Epoch    GPU_mem   box_loss   cls_loss   dfl_loss  Instances       Size\n"
          ]
        },
        {
          "output_type": "stream",
          "name": "stderr",
          "text": [
            "     37/100         0G      2.556      2.667      2.899         27        640: 100%|██████████| 4/4 [00:42<00:00, 10.72s/it]\n",
            "                 Class     Images  Instances      Box(P          R      mAP50  mAP50-95): 100%|██████████| 2/2 [00:15<00:00,  7.57s/it]"
          ]
        },
        {
          "output_type": "stream",
          "name": "stdout",
          "text": [
            "                   all         50        195      0.409      0.398      0.305      0.124\n"
          ]
        },
        {
          "output_type": "stream",
          "name": "stderr",
          "text": [
            "\n"
          ]
        },
        {
          "output_type": "stream",
          "name": "stdout",
          "text": [
            "\n",
            "      Epoch    GPU_mem   box_loss   cls_loss   dfl_loss  Instances       Size\n"
          ]
        },
        {
          "output_type": "stream",
          "name": "stderr",
          "text": [
            "     38/100         0G      2.821      2.876      3.087         13        640: 100%|██████████| 4/4 [00:43<00:00, 10.90s/it]\n",
            "                 Class     Images  Instances      Box(P          R      mAP50  mAP50-95): 100%|██████████| 2/2 [00:15<00:00,  7.53s/it]"
          ]
        },
        {
          "output_type": "stream",
          "name": "stdout",
          "text": [
            "                   all         50        195      0.346      0.431      0.318      0.136\n"
          ]
        },
        {
          "output_type": "stream",
          "name": "stderr",
          "text": [
            "\n"
          ]
        },
        {
          "output_type": "stream",
          "name": "stdout",
          "text": [
            "\n",
            "      Epoch    GPU_mem   box_loss   cls_loss   dfl_loss  Instances       Size\n"
          ]
        },
        {
          "output_type": "stream",
          "name": "stderr",
          "text": [
            "     39/100         0G      2.539      2.525      2.795         24        640: 100%|██████████| 4/4 [00:44<00:00, 11.15s/it]\n",
            "                 Class     Images  Instances      Box(P          R      mAP50  mAP50-95): 100%|██████████| 2/2 [00:15<00:00,  7.65s/it]"
          ]
        },
        {
          "output_type": "stream",
          "name": "stdout",
          "text": [
            "                   all         50        195      0.389      0.395       0.35      0.154\n"
          ]
        },
        {
          "output_type": "stream",
          "name": "stderr",
          "text": [
            "\n"
          ]
        },
        {
          "output_type": "stream",
          "name": "stdout",
          "text": [
            "\n",
            "      Epoch    GPU_mem   box_loss   cls_loss   dfl_loss  Instances       Size\n"
          ]
        },
        {
          "output_type": "stream",
          "name": "stderr",
          "text": [
            "     40/100         0G      2.499      2.961      2.966          6        640: 100%|██████████| 4/4 [00:43<00:00, 11.00s/it]\n",
            "                 Class     Images  Instances      Box(P          R      mAP50  mAP50-95): 100%|██████████| 2/2 [00:17<00:00,  8.55s/it]"
          ]
        },
        {
          "output_type": "stream",
          "name": "stdout",
          "text": [
            "                   all         50        195      0.525      0.421      0.419      0.178\n"
          ]
        },
        {
          "output_type": "stream",
          "name": "stderr",
          "text": [
            "\n"
          ]
        },
        {
          "output_type": "stream",
          "name": "stdout",
          "text": [
            "\n",
            "      Epoch    GPU_mem   box_loss   cls_loss   dfl_loss  Instances       Size\n"
          ]
        },
        {
          "output_type": "stream",
          "name": "stderr",
          "text": [
            "     41/100         0G      2.632       2.91      2.965          4        640: 100%|██████████| 4/4 [00:42<00:00, 10.59s/it]\n",
            "                 Class     Images  Instances      Box(P          R      mAP50  mAP50-95): 100%|██████████| 2/2 [00:15<00:00,  7.66s/it]"
          ]
        },
        {
          "output_type": "stream",
          "name": "stdout",
          "text": [
            "                   all         50        195      0.568      0.467      0.447      0.192\n"
          ]
        },
        {
          "output_type": "stream",
          "name": "stderr",
          "text": [
            "\n"
          ]
        },
        {
          "output_type": "stream",
          "name": "stdout",
          "text": [
            "\n",
            "      Epoch    GPU_mem   box_loss   cls_loss   dfl_loss  Instances       Size\n"
          ]
        },
        {
          "output_type": "stream",
          "name": "stderr",
          "text": [
            "     42/100         0G      2.545      2.715      2.765          4        640: 100%|██████████| 4/4 [00:41<00:00, 10.28s/it]\n",
            "                 Class     Images  Instances      Box(P          R      mAP50  mAP50-95): 100%|██████████| 2/2 [00:18<00:00,  9.39s/it]"
          ]
        },
        {
          "output_type": "stream",
          "name": "stdout",
          "text": [
            "                   all         50        195      0.581      0.492       0.48      0.198\n"
          ]
        },
        {
          "output_type": "stream",
          "name": "stderr",
          "text": [
            "\n"
          ]
        },
        {
          "output_type": "stream",
          "name": "stdout",
          "text": [
            "\n",
            "      Epoch    GPU_mem   box_loss   cls_loss   dfl_loss  Instances       Size\n"
          ]
        },
        {
          "output_type": "stream",
          "name": "stderr",
          "text": [
            "     43/100         0G      2.712      2.627      2.859          8        640: 100%|██████████| 4/4 [00:42<00:00, 10.65s/it]\n",
            "                 Class     Images  Instances      Box(P          R      mAP50  mAP50-95): 100%|██████████| 2/2 [00:15<00:00,  7.60s/it]"
          ]
        },
        {
          "output_type": "stream",
          "name": "stdout",
          "text": [
            "                   all         50        195      0.595      0.503      0.491      0.192\n"
          ]
        },
        {
          "output_type": "stream",
          "name": "stderr",
          "text": [
            "\n"
          ]
        },
        {
          "output_type": "stream",
          "name": "stdout",
          "text": [
            "\n",
            "      Epoch    GPU_mem   box_loss   cls_loss   dfl_loss  Instances       Size\n"
          ]
        },
        {
          "output_type": "stream",
          "name": "stderr",
          "text": [
            "     44/100         0G      2.744      2.897      3.094         13        640: 100%|██████████| 4/4 [00:42<00:00, 10.57s/it]\n",
            "                 Class     Images  Instances      Box(P          R      mAP50  mAP50-95): 100%|██████████| 2/2 [00:17<00:00,  8.56s/it]"
          ]
        },
        {
          "output_type": "stream",
          "name": "stdout",
          "text": [
            "                   all         50        195      0.567      0.517      0.511      0.201\n"
          ]
        },
        {
          "output_type": "stream",
          "name": "stderr",
          "text": [
            "\n"
          ]
        },
        {
          "output_type": "stream",
          "name": "stdout",
          "text": [
            "\n",
            "      Epoch    GPU_mem   box_loss   cls_loss   dfl_loss  Instances       Size\n"
          ]
        },
        {
          "output_type": "stream",
          "name": "stderr",
          "text": [
            "     45/100         0G      2.651       2.64      2.843          4        640: 100%|██████████| 4/4 [00:44<00:00, 11.21s/it]\n",
            "                 Class     Images  Instances      Box(P          R      mAP50  mAP50-95): 100%|██████████| 2/2 [00:15<00:00,  7.68s/it]"
          ]
        },
        {
          "output_type": "stream",
          "name": "stdout",
          "text": [
            "                   all         50        195       0.57      0.544      0.518      0.216\n"
          ]
        },
        {
          "output_type": "stream",
          "name": "stderr",
          "text": [
            "\n"
          ]
        },
        {
          "output_type": "stream",
          "name": "stdout",
          "text": [
            "\n",
            "      Epoch    GPU_mem   box_loss   cls_loss   dfl_loss  Instances       Size\n"
          ]
        },
        {
          "output_type": "stream",
          "name": "stderr",
          "text": [
            "     46/100         0G      2.522      2.426      2.713         13        640: 100%|██████████| 4/4 [00:44<00:00, 11.04s/it]\n",
            "                 Class     Images  Instances      Box(P          R      mAP50  mAP50-95): 100%|██████████| 2/2 [00:15<00:00,  7.72s/it]"
          ]
        },
        {
          "output_type": "stream",
          "name": "stdout",
          "text": [
            "                   all         50        195      0.454      0.544      0.443      0.186\n"
          ]
        },
        {
          "output_type": "stream",
          "name": "stderr",
          "text": [
            "\n"
          ]
        },
        {
          "output_type": "stream",
          "name": "stdout",
          "text": [
            "\n",
            "      Epoch    GPU_mem   box_loss   cls_loss   dfl_loss  Instances       Size\n"
          ]
        },
        {
          "output_type": "stream",
          "name": "stderr",
          "text": [
            "     47/100         0G      2.747      2.516      2.933         11        640: 100%|██████████| 4/4 [00:45<00:00, 11.26s/it]\n",
            "                 Class     Images  Instances      Box(P          R      mAP50  mAP50-95): 100%|██████████| 2/2 [00:15<00:00,  7.79s/it]"
          ]
        },
        {
          "output_type": "stream",
          "name": "stdout",
          "text": [
            "                   all         50        195       0.41      0.531       0.36      0.155\n"
          ]
        },
        {
          "output_type": "stream",
          "name": "stderr",
          "text": [
            "\n"
          ]
        },
        {
          "output_type": "stream",
          "name": "stdout",
          "text": [
            "\n",
            "      Epoch    GPU_mem   box_loss   cls_loss   dfl_loss  Instances       Size\n"
          ]
        },
        {
          "output_type": "stream",
          "name": "stderr",
          "text": [
            "     48/100         0G      2.426      2.163      2.417          9        640: 100%|██████████| 4/4 [00:46<00:00, 11.60s/it]\n",
            "                 Class     Images  Instances      Box(P          R      mAP50  mAP50-95): 100%|██████████| 2/2 [00:17<00:00,  8.66s/it]"
          ]
        },
        {
          "output_type": "stream",
          "name": "stdout",
          "text": [
            "                   all         50        195      0.511      0.564      0.447      0.177\n"
          ]
        },
        {
          "output_type": "stream",
          "name": "stderr",
          "text": [
            "\n"
          ]
        },
        {
          "output_type": "stream",
          "name": "stdout",
          "text": [
            "\n",
            "      Epoch    GPU_mem   box_loss   cls_loss   dfl_loss  Instances       Size\n"
          ]
        },
        {
          "output_type": "stream",
          "name": "stderr",
          "text": [
            "     49/100         0G      2.696      2.508      2.773         24        640: 100%|██████████| 4/4 [00:44<00:00, 11.01s/it]\n",
            "                 Class     Images  Instances      Box(P          R      mAP50  mAP50-95): 100%|██████████| 2/2 [00:15<00:00,  7.80s/it]"
          ]
        },
        {
          "output_type": "stream",
          "name": "stdout",
          "text": [
            "                   all         50        195      0.554      0.487      0.455      0.176\n"
          ]
        },
        {
          "output_type": "stream",
          "name": "stderr",
          "text": [
            "\n"
          ]
        },
        {
          "output_type": "stream",
          "name": "stdout",
          "text": [
            "\n",
            "      Epoch    GPU_mem   box_loss   cls_loss   dfl_loss  Instances       Size\n"
          ]
        },
        {
          "output_type": "stream",
          "name": "stderr",
          "text": [
            "     50/100         0G       2.59      3.072      2.801          2        640: 100%|██████████| 4/4 [00:45<00:00, 11.31s/it]\n",
            "                 Class     Images  Instances      Box(P          R      mAP50  mAP50-95): 100%|██████████| 2/2 [00:15<00:00,  7.71s/it]"
          ]
        },
        {
          "output_type": "stream",
          "name": "stdout",
          "text": [
            "                   all         50        195      0.548      0.477      0.455       0.19\n"
          ]
        },
        {
          "output_type": "stream",
          "name": "stderr",
          "text": [
            "\n"
          ]
        },
        {
          "output_type": "stream",
          "name": "stdout",
          "text": [
            "\n",
            "      Epoch    GPU_mem   box_loss   cls_loss   dfl_loss  Instances       Size\n"
          ]
        },
        {
          "output_type": "stream",
          "name": "stderr",
          "text": [
            "     51/100         0G      2.756      2.511      2.833          6        640: 100%|██████████| 4/4 [00:44<00:00, 11.06s/it]\n",
            "                 Class     Images  Instances      Box(P          R      mAP50  mAP50-95): 100%|██████████| 2/2 [00:15<00:00,  7.77s/it]"
          ]
        },
        {
          "output_type": "stream",
          "name": "stdout",
          "text": [
            "                   all         50        195      0.526      0.564      0.519      0.217\n"
          ]
        },
        {
          "output_type": "stream",
          "name": "stderr",
          "text": [
            "\n"
          ]
        },
        {
          "output_type": "stream",
          "name": "stdout",
          "text": [
            "\n",
            "      Epoch    GPU_mem   box_loss   cls_loss   dfl_loss  Instances       Size\n"
          ]
        },
        {
          "output_type": "stream",
          "name": "stderr",
          "text": [
            "     52/100         0G      2.449       2.24      2.628         13        640: 100%|██████████| 4/4 [00:44<00:00, 11.13s/it]\n",
            "                 Class     Images  Instances      Box(P          R      mAP50  mAP50-95): 100%|██████████| 2/2 [00:17<00:00,  8.69s/it]"
          ]
        },
        {
          "output_type": "stream",
          "name": "stdout",
          "text": [
            "                   all         50        195      0.563      0.554       0.54       0.23\n"
          ]
        },
        {
          "output_type": "stream",
          "name": "stderr",
          "text": [
            "\n"
          ]
        },
        {
          "output_type": "stream",
          "name": "stdout",
          "text": [
            "\n",
            "      Epoch    GPU_mem   box_loss   cls_loss   dfl_loss  Instances       Size\n"
          ]
        },
        {
          "output_type": "stream",
          "name": "stderr",
          "text": [
            "     53/100         0G      2.561      2.588       2.79          4        640: 100%|██████████| 4/4 [00:44<00:00, 11.11s/it]\n",
            "                 Class     Images  Instances      Box(P          R      mAP50  mAP50-95): 100%|██████████| 2/2 [00:15<00:00,  7.76s/it]"
          ]
        },
        {
          "output_type": "stream",
          "name": "stdout",
          "text": [
            "                   all         50        195      0.696      0.551       0.62      0.263\n"
          ]
        },
        {
          "output_type": "stream",
          "name": "stderr",
          "text": [
            "\n"
          ]
        },
        {
          "output_type": "stream",
          "name": "stdout",
          "text": [
            "\n",
            "      Epoch    GPU_mem   box_loss   cls_loss   dfl_loss  Instances       Size\n"
          ]
        },
        {
          "output_type": "stream",
          "name": "stderr",
          "text": [
            "     54/100         0G      2.758      2.595      3.007          6        640: 100%|██████████| 4/4 [00:43<00:00, 10.87s/it]\n",
            "                 Class     Images  Instances      Box(P          R      mAP50  mAP50-95): 100%|██████████| 2/2 [00:15<00:00,  7.71s/it]"
          ]
        },
        {
          "output_type": "stream",
          "name": "stdout",
          "text": [
            "                   all         50        195      0.789      0.564      0.639      0.289\n"
          ]
        },
        {
          "output_type": "stream",
          "name": "stderr",
          "text": [
            "\n"
          ]
        },
        {
          "output_type": "stream",
          "name": "stdout",
          "text": [
            "\n",
            "      Epoch    GPU_mem   box_loss   cls_loss   dfl_loss  Instances       Size\n"
          ]
        },
        {
          "output_type": "stream",
          "name": "stderr",
          "text": [
            "     55/100         0G      2.415      2.537      2.483          2        640: 100%|██████████| 4/4 [00:45<00:00, 11.35s/it]\n",
            "                 Class     Images  Instances      Box(P          R      mAP50  mAP50-95): 100%|██████████| 2/2 [00:15<00:00,  7.69s/it]"
          ]
        },
        {
          "output_type": "stream",
          "name": "stdout",
          "text": [
            "                   all         50        195      0.776      0.564      0.636      0.298\n"
          ]
        },
        {
          "output_type": "stream",
          "name": "stderr",
          "text": [
            "\n"
          ]
        },
        {
          "output_type": "stream",
          "name": "stdout",
          "text": [
            "\n",
            "      Epoch    GPU_mem   box_loss   cls_loss   dfl_loss  Instances       Size\n"
          ]
        },
        {
          "output_type": "stream",
          "name": "stderr",
          "text": [
            "     56/100         0G      2.386      2.713      2.874          5        640: 100%|██████████| 4/4 [00:41<00:00, 10.38s/it]\n",
            "                 Class     Images  Instances      Box(P          R      mAP50  mAP50-95): 100%|██████████| 2/2 [00:17<00:00,  8.65s/it]"
          ]
        },
        {
          "output_type": "stream",
          "name": "stdout",
          "text": [
            "                   all         50        195      0.725      0.621       0.64      0.303\n"
          ]
        },
        {
          "output_type": "stream",
          "name": "stderr",
          "text": [
            "\n"
          ]
        },
        {
          "output_type": "stream",
          "name": "stdout",
          "text": [
            "\n",
            "      Epoch    GPU_mem   box_loss   cls_loss   dfl_loss  Instances       Size\n"
          ]
        },
        {
          "output_type": "stream",
          "name": "stderr",
          "text": [
            "     57/100         0G      2.373      2.173      2.579          8        640: 100%|██████████| 4/4 [00:42<00:00, 10.58s/it]\n",
            "                 Class     Images  Instances      Box(P          R      mAP50  mAP50-95): 100%|██████████| 2/2 [00:15<00:00,  7.54s/it]"
          ]
        },
        {
          "output_type": "stream",
          "name": "stdout",
          "text": [
            "                   all         50        195      0.591      0.615      0.574      0.272\n"
          ]
        },
        {
          "output_type": "stream",
          "name": "stderr",
          "text": [
            "\n"
          ]
        },
        {
          "output_type": "stream",
          "name": "stdout",
          "text": [
            "\n",
            "      Epoch    GPU_mem   box_loss   cls_loss   dfl_loss  Instances       Size\n"
          ]
        },
        {
          "output_type": "stream",
          "name": "stderr",
          "text": [
            "     58/100         0G      2.401      2.202      2.495         10        640: 100%|██████████| 4/4 [00:45<00:00, 11.31s/it]\n",
            "                 Class     Images  Instances      Box(P          R      mAP50  mAP50-95): 100%|██████████| 2/2 [00:14<00:00,  7.49s/it]"
          ]
        },
        {
          "output_type": "stream",
          "name": "stdout",
          "text": [
            "                   all         50        195      0.518      0.569      0.466      0.184\n"
          ]
        },
        {
          "output_type": "stream",
          "name": "stderr",
          "text": [
            "\n"
          ]
        },
        {
          "output_type": "stream",
          "name": "stdout",
          "text": [
            "\n",
            "      Epoch    GPU_mem   box_loss   cls_loss   dfl_loss  Instances       Size\n"
          ]
        },
        {
          "output_type": "stream",
          "name": "stderr",
          "text": [
            "     59/100         0G      2.467      2.717      2.903          5        640: 100%|██████████| 4/4 [00:43<00:00, 10.82s/it]\n",
            "                 Class     Images  Instances      Box(P          R      mAP50  mAP50-95): 100%|██████████| 2/2 [00:15<00:00,  7.72s/it]"
          ]
        },
        {
          "output_type": "stream",
          "name": "stdout",
          "text": [
            "                   all         50        195      0.524      0.533      0.501       0.19\n"
          ]
        },
        {
          "output_type": "stream",
          "name": "stderr",
          "text": [
            "\n"
          ]
        },
        {
          "output_type": "stream",
          "name": "stdout",
          "text": [
            "\n",
            "      Epoch    GPU_mem   box_loss   cls_loss   dfl_loss  Instances       Size\n"
          ]
        },
        {
          "output_type": "stream",
          "name": "stderr",
          "text": [
            "     60/100         0G      2.634       2.63      2.872          5        640: 100%|██████████| 4/4 [00:48<00:00, 12.03s/it]\n",
            "                 Class     Images  Instances      Box(P          R      mAP50  mAP50-95): 100%|██████████| 2/2 [00:15<00:00,  7.50s/it]"
          ]
        },
        {
          "output_type": "stream",
          "name": "stdout",
          "text": [
            "                   all         50        195      0.714       0.41       0.57      0.231\n"
          ]
        },
        {
          "output_type": "stream",
          "name": "stderr",
          "text": [
            "\n"
          ]
        },
        {
          "output_type": "stream",
          "name": "stdout",
          "text": [
            "\n",
            "      Epoch    GPU_mem   box_loss   cls_loss   dfl_loss  Instances       Size\n"
          ]
        },
        {
          "output_type": "stream",
          "name": "stderr",
          "text": [
            "     61/100         0G      2.597      2.651      2.808          4        640: 100%|██████████| 4/4 [00:42<00:00, 10.69s/it]\n",
            "                 Class     Images  Instances      Box(P          R      mAP50  mAP50-95): 100%|██████████| 2/2 [00:15<00:00,  7.70s/it]"
          ]
        },
        {
          "output_type": "stream",
          "name": "stdout",
          "text": [
            "                   all         50        195      0.743      0.467      0.597      0.257\n"
          ]
        },
        {
          "output_type": "stream",
          "name": "stderr",
          "text": [
            "\n"
          ]
        },
        {
          "output_type": "stream",
          "name": "stdout",
          "text": [
            "\n",
            "      Epoch    GPU_mem   box_loss   cls_loss   dfl_loss  Instances       Size\n"
          ]
        },
        {
          "output_type": "stream",
          "name": "stderr",
          "text": [
            "     62/100         0G      2.323      2.098      2.417          6        640: 100%|██████████| 4/4 [00:46<00:00, 11.62s/it]\n",
            "                 Class     Images  Instances      Box(P          R      mAP50  mAP50-95): 100%|██████████| 2/2 [00:15<00:00,  7.64s/it]"
          ]
        },
        {
          "output_type": "stream",
          "name": "stdout",
          "text": [
            "                   all         50        195      0.661      0.585      0.609      0.264\n"
          ]
        },
        {
          "output_type": "stream",
          "name": "stderr",
          "text": [
            "\n"
          ]
        },
        {
          "output_type": "stream",
          "name": "stdout",
          "text": [
            "\n",
            "      Epoch    GPU_mem   box_loss   cls_loss   dfl_loss  Instances       Size\n"
          ]
        },
        {
          "output_type": "stream",
          "name": "stderr",
          "text": [
            "     63/100         0G       2.22      1.858      2.178         31        640: 100%|██████████| 4/4 [00:46<00:00, 11.52s/it]\n",
            "                 Class     Images  Instances      Box(P          R      mAP50  mAP50-95): 100%|██████████| 2/2 [00:15<00:00,  7.57s/it]"
          ]
        },
        {
          "output_type": "stream",
          "name": "stdout",
          "text": [
            "                   all         50        195      0.645       0.61       0.61      0.278\n"
          ]
        },
        {
          "output_type": "stream",
          "name": "stderr",
          "text": [
            "\n"
          ]
        },
        {
          "output_type": "stream",
          "name": "stdout",
          "text": [
            "\n",
            "      Epoch    GPU_mem   box_loss   cls_loss   dfl_loss  Instances       Size\n"
          ]
        },
        {
          "output_type": "stream",
          "name": "stderr",
          "text": [
            "     64/100         0G      2.403       2.53       2.62          4        640: 100%|██████████| 4/4 [00:45<00:00, 11.44s/it]\n",
            "                 Class     Images  Instances      Box(P          R      mAP50  mAP50-95): 100%|██████████| 2/2 [00:15<00:00,  7.66s/it]"
          ]
        },
        {
          "output_type": "stream",
          "name": "stdout",
          "text": [
            "                   all         50        195      0.691      0.605      0.644      0.317\n"
          ]
        },
        {
          "output_type": "stream",
          "name": "stderr",
          "text": [
            "\n"
          ]
        },
        {
          "output_type": "stream",
          "name": "stdout",
          "text": [
            "\n",
            "      Epoch    GPU_mem   box_loss   cls_loss   dfl_loss  Instances       Size\n"
          ]
        },
        {
          "output_type": "stream",
          "name": "stderr",
          "text": [
            "     65/100         0G      2.607       2.53      2.803          6        640: 100%|██████████| 4/4 [00:44<00:00, 11.14s/it]\n",
            "                 Class     Images  Instances      Box(P          R      mAP50  mAP50-95): 100%|██████████| 2/2 [00:15<00:00,  7.68s/it]"
          ]
        },
        {
          "output_type": "stream",
          "name": "stdout",
          "text": [
            "                   all         50        195      0.767      0.626      0.664      0.339\n"
          ]
        },
        {
          "output_type": "stream",
          "name": "stderr",
          "text": [
            "\n"
          ]
        },
        {
          "output_type": "stream",
          "name": "stdout",
          "text": [
            "\n",
            "      Epoch    GPU_mem   box_loss   cls_loss   dfl_loss  Instances       Size\n"
          ]
        },
        {
          "output_type": "stream",
          "name": "stderr",
          "text": [
            "     66/100         0G      2.578      2.817      2.817          3        640: 100%|██████████| 4/4 [00:44<00:00, 11.24s/it]\n",
            "                 Class     Images  Instances      Box(P          R      mAP50  mAP50-95): 100%|██████████| 2/2 [00:15<00:00,  7.84s/it]"
          ]
        },
        {
          "output_type": "stream",
          "name": "stdout",
          "text": [
            "                   all         50        195      0.731      0.641      0.644      0.323\n"
          ]
        },
        {
          "output_type": "stream",
          "name": "stderr",
          "text": [
            "\n"
          ]
        },
        {
          "output_type": "stream",
          "name": "stdout",
          "text": [
            "\n",
            "      Epoch    GPU_mem   box_loss   cls_loss   dfl_loss  Instances       Size\n"
          ]
        },
        {
          "output_type": "stream",
          "name": "stderr",
          "text": [
            "     67/100         0G      2.625      2.723      3.051          8        640: 100%|██████████| 4/4 [00:43<00:00, 10.81s/it]\n",
            "                 Class     Images  Instances      Box(P          R      mAP50  mAP50-95): 100%|██████████| 2/2 [00:15<00:00,  7.69s/it]"
          ]
        },
        {
          "output_type": "stream",
          "name": "stdout",
          "text": [
            "                   all         50        195      0.701      0.585       0.58      0.275\n"
          ]
        },
        {
          "output_type": "stream",
          "name": "stderr",
          "text": [
            "\n"
          ]
        },
        {
          "output_type": "stream",
          "name": "stdout",
          "text": [
            "\n",
            "      Epoch    GPU_mem   box_loss   cls_loss   dfl_loss  Instances       Size\n"
          ]
        },
        {
          "output_type": "stream",
          "name": "stderr",
          "text": [
            "     68/100         0G       2.59      2.663      2.823          3        640: 100%|██████████| 4/4 [00:47<00:00, 11.89s/it]\n",
            "                 Class     Images  Instances      Box(P          R      mAP50  mAP50-95): 100%|██████████| 2/2 [00:15<00:00,  7.74s/it]"
          ]
        },
        {
          "output_type": "stream",
          "name": "stdout",
          "text": [
            "                   all         50        195      0.736      0.585      0.595      0.286\n"
          ]
        },
        {
          "output_type": "stream",
          "name": "stderr",
          "text": [
            "\n"
          ]
        },
        {
          "output_type": "stream",
          "name": "stdout",
          "text": [
            "\n",
            "      Epoch    GPU_mem   box_loss   cls_loss   dfl_loss  Instances       Size\n"
          ]
        },
        {
          "output_type": "stream",
          "name": "stderr",
          "text": [
            "     69/100         0G      2.547       2.73      2.885          2        640: 100%|██████████| 4/4 [00:44<00:00, 11.23s/it]\n",
            "                 Class     Images  Instances      Box(P          R      mAP50  mAP50-95): 100%|██████████| 2/2 [00:15<00:00,  7.66s/it]"
          ]
        },
        {
          "output_type": "stream",
          "name": "stdout",
          "text": [
            "                   all         50        195      0.758      0.627      0.628       0.31\n"
          ]
        },
        {
          "output_type": "stream",
          "name": "stderr",
          "text": [
            "\n"
          ]
        },
        {
          "output_type": "stream",
          "name": "stdout",
          "text": [
            "\n",
            "      Epoch    GPU_mem   box_loss   cls_loss   dfl_loss  Instances       Size\n"
          ]
        },
        {
          "output_type": "stream",
          "name": "stderr",
          "text": [
            "     70/100         0G      2.486      2.618      2.771          7        640: 100%|██████████| 4/4 [00:43<00:00, 10.92s/it]\n",
            "                 Class     Images  Instances      Box(P          R      mAP50  mAP50-95): 100%|██████████| 2/2 [00:15<00:00,  7.74s/it]"
          ]
        },
        {
          "output_type": "stream",
          "name": "stdout",
          "text": [
            "                   all         50        195      0.775      0.618       0.65      0.329\n"
          ]
        },
        {
          "output_type": "stream",
          "name": "stderr",
          "text": [
            "\n"
          ]
        },
        {
          "output_type": "stream",
          "name": "stdout",
          "text": [
            "\n",
            "      Epoch    GPU_mem   box_loss   cls_loss   dfl_loss  Instances       Size\n"
          ]
        },
        {
          "output_type": "stream",
          "name": "stderr",
          "text": [
            "     71/100         0G      2.472      2.687      2.834          3        640: 100%|██████████| 4/4 [00:41<00:00, 10.48s/it]\n",
            "                 Class     Images  Instances      Box(P          R      mAP50  mAP50-95): 100%|██████████| 2/2 [00:15<00:00,  7.65s/it]"
          ]
        },
        {
          "output_type": "stream",
          "name": "stdout",
          "text": [
            "                   all         50        195      0.783      0.609      0.659      0.333\n"
          ]
        },
        {
          "output_type": "stream",
          "name": "stderr",
          "text": [
            "\n"
          ]
        },
        {
          "output_type": "stream",
          "name": "stdout",
          "text": [
            "\n",
            "      Epoch    GPU_mem   box_loss   cls_loss   dfl_loss  Instances       Size\n"
          ]
        },
        {
          "output_type": "stream",
          "name": "stderr",
          "text": [
            "     72/100         0G      2.196      1.967      2.252         39        640: 100%|██████████| 4/4 [00:44<00:00, 11.14s/it]\n",
            "                 Class     Images  Instances      Box(P          R      mAP50  mAP50-95): 100%|██████████| 2/2 [00:15<00:00,  7.65s/it]"
          ]
        },
        {
          "output_type": "stream",
          "name": "stdout",
          "text": [
            "                   all         50        195      0.773      0.626      0.663      0.333\n"
          ]
        },
        {
          "output_type": "stream",
          "name": "stderr",
          "text": [
            "\n"
          ]
        },
        {
          "output_type": "stream",
          "name": "stdout",
          "text": [
            "\n",
            "      Epoch    GPU_mem   box_loss   cls_loss   dfl_loss  Instances       Size\n"
          ]
        },
        {
          "output_type": "stream",
          "name": "stderr",
          "text": [
            "     73/100         0G      2.096      2.027        2.3          6        640: 100%|██████████| 4/4 [00:43<00:00, 10.83s/it]\n",
            "                 Class     Images  Instances      Box(P          R      mAP50  mAP50-95): 100%|██████████| 2/2 [00:15<00:00,  7.80s/it]"
          ]
        },
        {
          "output_type": "stream",
          "name": "stdout",
          "text": [
            "                   all         50        195      0.733      0.636      0.655      0.338\n"
          ]
        },
        {
          "output_type": "stream",
          "name": "stderr",
          "text": [
            "\n"
          ]
        },
        {
          "output_type": "stream",
          "name": "stdout",
          "text": [
            "\n",
            "      Epoch    GPU_mem   box_loss   cls_loss   dfl_loss  Instances       Size\n"
          ]
        },
        {
          "output_type": "stream",
          "name": "stderr",
          "text": [
            "     74/100         0G      2.399      2.527       2.72          5        640: 100%|██████████| 4/4 [00:44<00:00, 11.02s/it]\n",
            "                 Class     Images  Instances      Box(P          R      mAP50  mAP50-95): 100%|██████████| 2/2 [00:15<00:00,  7.75s/it]"
          ]
        },
        {
          "output_type": "stream",
          "name": "stdout",
          "text": [
            "                   all         50        195      0.762      0.626      0.667      0.349\n"
          ]
        },
        {
          "output_type": "stream",
          "name": "stderr",
          "text": [
            "\n"
          ]
        },
        {
          "output_type": "stream",
          "name": "stdout",
          "text": [
            "\n",
            "      Epoch    GPU_mem   box_loss   cls_loss   dfl_loss  Instances       Size\n"
          ]
        },
        {
          "output_type": "stream",
          "name": "stderr",
          "text": [
            "     75/100         0G      2.488      2.841      2.926          5        640: 100%|██████████| 4/4 [00:43<00:00, 10.80s/it]\n",
            "                 Class     Images  Instances      Box(P          R      mAP50  mAP50-95): 100%|██████████| 2/2 [00:15<00:00,  7.80s/it]"
          ]
        },
        {
          "output_type": "stream",
          "name": "stdout",
          "text": [
            "                   all         50        195      0.775      0.636      0.678       0.36\n"
          ]
        },
        {
          "output_type": "stream",
          "name": "stderr",
          "text": [
            "\n"
          ]
        },
        {
          "output_type": "stream",
          "name": "stdout",
          "text": [
            "\n",
            "      Epoch    GPU_mem   box_loss   cls_loss   dfl_loss  Instances       Size\n"
          ]
        },
        {
          "output_type": "stream",
          "name": "stderr",
          "text": [
            "     76/100         0G      2.407      2.658       2.76          6        640: 100%|██████████| 4/4 [00:44<00:00, 11.23s/it]\n",
            "                 Class     Images  Instances      Box(P          R      mAP50  mAP50-95): 100%|██████████| 2/2 [00:15<00:00,  7.80s/it]"
          ]
        },
        {
          "output_type": "stream",
          "name": "stdout",
          "text": [
            "                   all         50        195      0.777      0.631       0.68      0.358\n"
          ]
        },
        {
          "output_type": "stream",
          "name": "stderr",
          "text": [
            "\n"
          ]
        },
        {
          "output_type": "stream",
          "name": "stdout",
          "text": [
            "\n",
            "      Epoch    GPU_mem   box_loss   cls_loss   dfl_loss  Instances       Size\n"
          ]
        },
        {
          "output_type": "stream",
          "name": "stderr",
          "text": [
            "     77/100         0G      2.178       2.26      2.457          5        640: 100%|██████████| 4/4 [00:41<00:00, 10.43s/it]\n",
            "                 Class     Images  Instances      Box(P          R      mAP50  mAP50-95): 100%|██████████| 2/2 [00:15<00:00,  7.62s/it]"
          ]
        },
        {
          "output_type": "stream",
          "name": "stdout",
          "text": [
            "                   all         50        195       0.76      0.641      0.659      0.341\n"
          ]
        },
        {
          "output_type": "stream",
          "name": "stderr",
          "text": [
            "\n"
          ]
        },
        {
          "output_type": "stream",
          "name": "stdout",
          "text": [
            "\n",
            "      Epoch    GPU_mem   box_loss   cls_loss   dfl_loss  Instances       Size\n"
          ]
        },
        {
          "output_type": "stream",
          "name": "stderr",
          "text": [
            "     78/100         0G      2.307      2.408      2.609          2        640: 100%|██████████| 4/4 [00:42<00:00, 10.51s/it]\n",
            "                 Class     Images  Instances      Box(P          R      mAP50  mAP50-95): 100%|██████████| 2/2 [00:15<00:00,  7.52s/it]"
          ]
        },
        {
          "output_type": "stream",
          "name": "stdout",
          "text": [
            "                   all         50        195      0.751      0.646      0.661      0.328\n"
          ]
        },
        {
          "output_type": "stream",
          "name": "stderr",
          "text": [
            "\n"
          ]
        },
        {
          "output_type": "stream",
          "name": "stdout",
          "text": [
            "\n",
            "      Epoch    GPU_mem   box_loss   cls_loss   dfl_loss  Instances       Size\n"
          ]
        },
        {
          "output_type": "stream",
          "name": "stderr",
          "text": [
            "     79/100         0G      2.493      2.245      2.449         94        640: 100%|██████████| 4/4 [00:43<00:00, 10.96s/it]\n",
            "                 Class     Images  Instances      Box(P          R      mAP50  mAP50-95): 100%|██████████| 2/2 [00:15<00:00,  7.61s/it]"
          ]
        },
        {
          "output_type": "stream",
          "name": "stdout",
          "text": [
            "                   all         50        195      0.786       0.62      0.664      0.309\n"
          ]
        },
        {
          "output_type": "stream",
          "name": "stderr",
          "text": [
            "\n"
          ]
        },
        {
          "output_type": "stream",
          "name": "stdout",
          "text": [
            "\n",
            "      Epoch    GPU_mem   box_loss   cls_loss   dfl_loss  Instances       Size\n"
          ]
        },
        {
          "output_type": "stream",
          "name": "stderr",
          "text": [
            "     80/100         0G      2.413      2.469      2.782          2        640: 100%|██████████| 4/4 [00:48<00:00, 12.00s/it]\n",
            "                 Class     Images  Instances      Box(P          R      mAP50  mAP50-95): 100%|██████████| 2/2 [00:15<00:00,  7.62s/it]"
          ]
        },
        {
          "output_type": "stream",
          "name": "stdout",
          "text": [
            "                   all         50        195       0.79      0.626      0.655      0.306\n"
          ]
        },
        {
          "output_type": "stream",
          "name": "stderr",
          "text": [
            "\n"
          ]
        },
        {
          "output_type": "stream",
          "name": "stdout",
          "text": [
            "\n",
            "      Epoch    GPU_mem   box_loss   cls_loss   dfl_loss  Instances       Size\n"
          ]
        },
        {
          "output_type": "stream",
          "name": "stderr",
          "text": [
            "     81/100         0G        2.4      2.293      2.529          4        640: 100%|██████████| 4/4 [00:46<00:00, 11.59s/it]\n",
            "                 Class     Images  Instances      Box(P          R      mAP50  mAP50-95): 100%|██████████| 2/2 [00:15<00:00,  7.79s/it]"
          ]
        },
        {
          "output_type": "stream",
          "name": "stdout",
          "text": [
            "                   all         50        195      0.791      0.639      0.666       0.34\n"
          ]
        },
        {
          "output_type": "stream",
          "name": "stderr",
          "text": [
            "\n"
          ]
        },
        {
          "output_type": "stream",
          "name": "stdout",
          "text": [
            "\n",
            "      Epoch    GPU_mem   box_loss   cls_loss   dfl_loss  Instances       Size\n"
          ]
        },
        {
          "output_type": "stream",
          "name": "stderr",
          "text": [
            "     82/100         0G      2.328      1.955      2.338         24        640: 100%|██████████| 4/4 [00:45<00:00, 11.26s/it]\n",
            "                 Class     Images  Instances      Box(P          R      mAP50  mAP50-95): 100%|██████████| 2/2 [00:15<00:00,  7.57s/it]"
          ]
        },
        {
          "output_type": "stream",
          "name": "stdout",
          "text": [
            "                   all         50        195      0.779       0.65      0.695      0.371\n"
          ]
        },
        {
          "output_type": "stream",
          "name": "stderr",
          "text": [
            "\n"
          ]
        },
        {
          "output_type": "stream",
          "name": "stdout",
          "text": [
            "\n",
            "      Epoch    GPU_mem   box_loss   cls_loss   dfl_loss  Instances       Size\n"
          ]
        },
        {
          "output_type": "stream",
          "name": "stderr",
          "text": [
            "     83/100         0G      2.312      2.315      2.679          6        640: 100%|██████████| 4/4 [00:46<00:00, 11.53s/it]\n",
            "                 Class     Images  Instances      Box(P          R      mAP50  mAP50-95): 100%|██████████| 2/2 [00:15<00:00,  7.62s/it]"
          ]
        },
        {
          "output_type": "stream",
          "name": "stdout",
          "text": [
            "                   all         50        195      0.768      0.656      0.722      0.389\n"
          ]
        },
        {
          "output_type": "stream",
          "name": "stderr",
          "text": [
            "\n"
          ]
        },
        {
          "output_type": "stream",
          "name": "stdout",
          "text": [
            "\n",
            "      Epoch    GPU_mem   box_loss   cls_loss   dfl_loss  Instances       Size\n"
          ]
        },
        {
          "output_type": "stream",
          "name": "stderr",
          "text": [
            "     84/100         0G      2.051      1.848      2.192         57        640: 100%|██████████| 4/4 [00:46<00:00, 11.65s/it]\n",
            "                 Class     Images  Instances      Box(P          R      mAP50  mAP50-95): 100%|██████████| 2/2 [00:15<00:00,  7.62s/it]"
          ]
        },
        {
          "output_type": "stream",
          "name": "stdout",
          "text": [
            "                   all         50        195      0.792      0.651      0.732      0.396\n"
          ]
        },
        {
          "output_type": "stream",
          "name": "stderr",
          "text": [
            "\n"
          ]
        },
        {
          "output_type": "stream",
          "name": "stdout",
          "text": [
            "\n",
            "      Epoch    GPU_mem   box_loss   cls_loss   dfl_loss  Instances       Size\n"
          ]
        },
        {
          "output_type": "stream",
          "name": "stderr",
          "text": [
            "     85/100         0G      2.068      1.911      2.248         29        640: 100%|██████████| 4/4 [00:44<00:00, 11.24s/it]\n",
            "                 Class     Images  Instances      Box(P          R      mAP50  mAP50-95): 100%|██████████| 2/2 [00:15<00:00,  7.64s/it]"
          ]
        },
        {
          "output_type": "stream",
          "name": "stdout",
          "text": [
            "                   all         50        195      0.719      0.668      0.717      0.388\n"
          ]
        },
        {
          "output_type": "stream",
          "name": "stderr",
          "text": [
            "\n"
          ]
        },
        {
          "output_type": "stream",
          "name": "stdout",
          "text": [
            "\n",
            "      Epoch    GPU_mem   box_loss   cls_loss   dfl_loss  Instances       Size\n"
          ]
        },
        {
          "output_type": "stream",
          "name": "stderr",
          "text": [
            "     86/100         0G      2.089      1.914      2.268          4        640: 100%|██████████| 4/4 [00:46<00:00, 11.65s/it]\n",
            "                 Class     Images  Instances      Box(P          R      mAP50  mAP50-95): 100%|██████████| 2/2 [00:15<00:00,  7.66s/it]"
          ]
        },
        {
          "output_type": "stream",
          "name": "stdout",
          "text": [
            "                   all         50        195      0.752      0.623      0.717      0.385\n"
          ]
        },
        {
          "output_type": "stream",
          "name": "stderr",
          "text": [
            "\n"
          ]
        },
        {
          "output_type": "stream",
          "name": "stdout",
          "text": [
            "\n",
            "      Epoch    GPU_mem   box_loss   cls_loss   dfl_loss  Instances       Size\n"
          ]
        },
        {
          "output_type": "stream",
          "name": "stderr",
          "text": [
            "     87/100         0G      2.162      2.448      2.519          3        640: 100%|██████████| 4/4 [00:41<00:00, 10.35s/it]\n",
            "                 Class     Images  Instances      Box(P          R      mAP50  mAP50-95): 100%|██████████| 2/2 [00:15<00:00,  7.68s/it]"
          ]
        },
        {
          "output_type": "stream",
          "name": "stdout",
          "text": [
            "                   all         50        195      0.717      0.649      0.716      0.382\n"
          ]
        },
        {
          "output_type": "stream",
          "name": "stderr",
          "text": [
            "\n"
          ]
        },
        {
          "output_type": "stream",
          "name": "stdout",
          "text": [
            "\n",
            "      Epoch    GPU_mem   box_loss   cls_loss   dfl_loss  Instances       Size\n"
          ]
        },
        {
          "output_type": "stream",
          "name": "stderr",
          "text": [
            "     88/100         0G      2.043      1.959        2.3          9        640: 100%|██████████| 4/4 [00:44<00:00, 11.10s/it]\n",
            "                 Class     Images  Instances      Box(P          R      mAP50  mAP50-95): 100%|██████████| 2/2 [00:15<00:00,  7.65s/it]"
          ]
        },
        {
          "output_type": "stream",
          "name": "stdout",
          "text": [
            "                   all         50        195      0.733      0.663      0.736      0.392\n"
          ]
        },
        {
          "output_type": "stream",
          "name": "stderr",
          "text": [
            "\n"
          ]
        },
        {
          "output_type": "stream",
          "name": "stdout",
          "text": [
            "\n",
            "      Epoch    GPU_mem   box_loss   cls_loss   dfl_loss  Instances       Size\n"
          ]
        },
        {
          "output_type": "stream",
          "name": "stderr",
          "text": [
            "     89/100         0G      2.563      2.478      2.669          4        640: 100%|██████████| 4/4 [00:44<00:00, 11.11s/it]\n",
            "                 Class     Images  Instances      Box(P          R      mAP50  mAP50-95): 100%|██████████| 2/2 [00:15<00:00,  7.66s/it]"
          ]
        },
        {
          "output_type": "stream",
          "name": "stdout",
          "text": [
            "                   all         50        195      0.773      0.656      0.744       0.39\n"
          ]
        },
        {
          "output_type": "stream",
          "name": "stderr",
          "text": [
            "\n"
          ]
        },
        {
          "output_type": "stream",
          "name": "stdout",
          "text": [
            "\n",
            "      Epoch    GPU_mem   box_loss   cls_loss   dfl_loss  Instances       Size\n"
          ]
        },
        {
          "output_type": "stream",
          "name": "stderr",
          "text": [
            "     90/100         0G       2.18      2.183      2.609          6        640: 100%|██████████| 4/4 [00:43<00:00, 10.95s/it]\n",
            "                 Class     Images  Instances      Box(P          R      mAP50  mAP50-95): 100%|██████████| 2/2 [00:15<00:00,  7.58s/it]"
          ]
        },
        {
          "output_type": "stream",
          "name": "stdout",
          "text": [
            "                   all         50        195      0.761      0.651      0.751      0.388\n"
          ]
        },
        {
          "output_type": "stream",
          "name": "stderr",
          "text": [
            "\n"
          ]
        },
        {
          "output_type": "stream",
          "name": "stdout",
          "text": [
            "Closing dataloader mosaic\n",
            "\u001b[34m\u001b[1malbumentations: \u001b[0mBlur(p=0.01, blur_limit=(3, 7)), MedianBlur(p=0.01, blur_limit=(3, 7)), ToGray(p=0.01), CLAHE(p=0.01, clip_limit=(1, 4.0), tile_grid_size=(8, 8))\n",
            "\n",
            "      Epoch    GPU_mem   box_loss   cls_loss   dfl_loss  Instances       Size\n"
          ]
        },
        {
          "output_type": "stream",
          "name": "stderr",
          "text": [
            "     91/100         0G      2.176       2.63       2.52         36        640: 100%|██████████| 4/4 [00:46<00:00, 11.50s/it]\n",
            "                 Class     Images  Instances      Box(P          R      mAP50  mAP50-95): 100%|██████████| 2/2 [00:17<00:00,  8.71s/it]"
          ]
        },
        {
          "output_type": "stream",
          "name": "stdout",
          "text": [
            "                   all         50        195      0.805      0.631      0.759      0.391\n"
          ]
        },
        {
          "output_type": "stream",
          "name": "stderr",
          "text": [
            "\n"
          ]
        },
        {
          "output_type": "stream",
          "name": "stdout",
          "text": [
            "\n",
            "      Epoch    GPU_mem   box_loss   cls_loss   dfl_loss  Instances       Size\n"
          ]
        },
        {
          "output_type": "stream",
          "name": "stderr",
          "text": [
            "     92/100         0G      2.093      2.335      2.568          7        640: 100%|██████████| 4/4 [00:43<00:00, 10.94s/it]\n",
            "                 Class     Images  Instances      Box(P          R      mAP50  mAP50-95): 100%|██████████| 2/2 [00:15<00:00,  7.67s/it]"
          ]
        },
        {
          "output_type": "stream",
          "name": "stdout",
          "text": [
            "                   all         50        195       0.81      0.636      0.763      0.392\n"
          ]
        },
        {
          "output_type": "stream",
          "name": "stderr",
          "text": [
            "\n"
          ]
        },
        {
          "output_type": "stream",
          "name": "stdout",
          "text": [
            "\n",
            "      Epoch    GPU_mem   box_loss   cls_loss   dfl_loss  Instances       Size\n"
          ]
        },
        {
          "output_type": "stream",
          "name": "stderr",
          "text": [
            "     93/100         0G      2.005      2.396      2.297          5        640: 100%|██████████| 4/4 [00:41<00:00, 10.49s/it]\n",
            "                 Class     Images  Instances      Box(P          R      mAP50  mAP50-95): 100%|██████████| 2/2 [00:14<00:00,  7.47s/it]"
          ]
        },
        {
          "output_type": "stream",
          "name": "stdout",
          "text": [
            "                   all         50        195      0.809      0.652      0.774       0.39\n"
          ]
        },
        {
          "output_type": "stream",
          "name": "stderr",
          "text": [
            "\n"
          ]
        },
        {
          "output_type": "stream",
          "name": "stdout",
          "text": [
            "\n",
            "      Epoch    GPU_mem   box_loss   cls_loss   dfl_loss  Instances       Size\n"
          ]
        },
        {
          "output_type": "stream",
          "name": "stderr",
          "text": [
            "     94/100         0G      2.264      2.909      2.584          2        640: 100%|██████████| 4/4 [00:41<00:00, 10.44s/it]\n",
            "                 Class     Images  Instances      Box(P          R      mAP50  mAP50-95): 100%|██████████| 2/2 [00:15<00:00,  7.61s/it]"
          ]
        },
        {
          "output_type": "stream",
          "name": "stdout",
          "text": [
            "                   all         50        195      0.804      0.672       0.78      0.387\n"
          ]
        },
        {
          "output_type": "stream",
          "name": "stderr",
          "text": [
            "\n"
          ]
        },
        {
          "output_type": "stream",
          "name": "stdout",
          "text": [
            "\n",
            "      Epoch    GPU_mem   box_loss   cls_loss   dfl_loss  Instances       Size\n"
          ]
        },
        {
          "output_type": "stream",
          "name": "stderr",
          "text": [
            "     95/100         0G      2.092      2.482      2.416          4        640: 100%|██████████| 4/4 [00:43<00:00, 10.95s/it]\n",
            "                 Class     Images  Instances      Box(P          R      mAP50  mAP50-95): 100%|██████████| 2/2 [00:17<00:00,  8.51s/it]"
          ]
        },
        {
          "output_type": "stream",
          "name": "stdout",
          "text": [
            "                   all         50        195      0.813       0.67      0.784      0.388\n"
          ]
        },
        {
          "output_type": "stream",
          "name": "stderr",
          "text": [
            "\n"
          ]
        },
        {
          "output_type": "stream",
          "name": "stdout",
          "text": [
            "\n",
            "      Epoch    GPU_mem   box_loss   cls_loss   dfl_loss  Instances       Size\n"
          ]
        },
        {
          "output_type": "stream",
          "name": "stderr",
          "text": [
            "     96/100         0G      2.156      2.669      2.655          2        640: 100%|██████████| 4/4 [00:44<00:00, 11.14s/it]\n",
            "                 Class     Images  Instances      Box(P          R      mAP50  mAP50-95): 100%|██████████| 2/2 [00:15<00:00,  7.54s/it]"
          ]
        },
        {
          "output_type": "stream",
          "name": "stdout",
          "text": [
            "                   all         50        195      0.823      0.682      0.782      0.394\n"
          ]
        },
        {
          "output_type": "stream",
          "name": "stderr",
          "text": [
            "\n"
          ]
        },
        {
          "output_type": "stream",
          "name": "stdout",
          "text": [
            "\n",
            "      Epoch    GPU_mem   box_loss   cls_loss   dfl_loss  Instances       Size\n"
          ]
        },
        {
          "output_type": "stream",
          "name": "stderr",
          "text": [
            "     97/100         0G      1.986      2.365      2.445          4        640: 100%|██████████| 4/4 [00:44<00:00, 11.05s/it]\n",
            "                 Class     Images  Instances      Box(P          R      mAP50  mAP50-95): 100%|██████████| 2/2 [00:15<00:00,  7.67s/it]"
          ]
        },
        {
          "output_type": "stream",
          "name": "stdout",
          "text": [
            "                   all         50        195      0.815      0.679      0.784      0.399\n"
          ]
        },
        {
          "output_type": "stream",
          "name": "stderr",
          "text": [
            "\n"
          ]
        },
        {
          "output_type": "stream",
          "name": "stdout",
          "text": [
            "\n",
            "      Epoch    GPU_mem   box_loss   cls_loss   dfl_loss  Instances       Size\n"
          ]
        },
        {
          "output_type": "stream",
          "name": "stderr",
          "text": [
            "     98/100         0G      1.945      2.174      2.357          3        640: 100%|██████████| 4/4 [00:44<00:00, 11.08s/it]\n",
            "                 Class     Images  Instances      Box(P          R      mAP50  mAP50-95): 100%|██████████| 2/2 [00:15<00:00,  7.58s/it]"
          ]
        },
        {
          "output_type": "stream",
          "name": "stdout",
          "text": [
            "                   all         50        195      0.814      0.682       0.78      0.403\n"
          ]
        },
        {
          "output_type": "stream",
          "name": "stderr",
          "text": [
            "\n"
          ]
        },
        {
          "output_type": "stream",
          "name": "stdout",
          "text": [
            "\n",
            "      Epoch    GPU_mem   box_loss   cls_loss   dfl_loss  Instances       Size\n"
          ]
        },
        {
          "output_type": "stream",
          "name": "stderr",
          "text": [
            "     99/100         0G      2.085      2.393      2.383          2        640: 100%|██████████| 4/4 [00:43<00:00, 11.00s/it]\n",
            "                 Class     Images  Instances      Box(P          R      mAP50  mAP50-95): 100%|██████████| 2/2 [00:15<00:00,  7.66s/it]"
          ]
        },
        {
          "output_type": "stream",
          "name": "stdout",
          "text": [
            "                   all         50        195      0.801      0.681      0.775      0.405\n"
          ]
        },
        {
          "output_type": "stream",
          "name": "stderr",
          "text": [
            "\n"
          ]
        },
        {
          "output_type": "stream",
          "name": "stdout",
          "text": [
            "\n",
            "      Epoch    GPU_mem   box_loss   cls_loss   dfl_loss  Instances       Size\n"
          ]
        },
        {
          "output_type": "stream",
          "name": "stderr",
          "text": [
            "    100/100         0G      2.335      2.339      2.696          2        640: 100%|██████████| 4/4 [00:43<00:00, 10.83s/it]\n",
            "                 Class     Images  Instances      Box(P          R      mAP50  mAP50-95): 100%|██████████| 2/2 [00:15<00:00,  7.53s/it]"
          ]
        },
        {
          "output_type": "stream",
          "name": "stdout",
          "text": [
            "                   all         50        195      0.794      0.672      0.774      0.412\n"
          ]
        },
        {
          "output_type": "stream",
          "name": "stderr",
          "text": [
            "\n"
          ]
        },
        {
          "output_type": "stream",
          "name": "stdout",
          "text": [
            "\n",
            "100 epochs completed in 1.690 hours.\n",
            "Optimizer stripped from runs/detect/train14/weights/last.pt, 6.3MB\n",
            "Optimizer stripped from runs/detect/train14/weights/best.pt, 6.3MB\n",
            "\n",
            "Validating runs/detect/train14/weights/best.pt...\n",
            "Ultralytics YOLOv8.2.87 🚀 Python-3.10.12 torch-2.3.1+cu121 CPU (Intel Xeon 2.20GHz)\n",
            "YOLOv8n summary (fused): 168 layers, 3,005,843 parameters, 0 gradients, 8.1 GFLOPs\n"
          ]
        },
        {
          "output_type": "stream",
          "name": "stderr",
          "text": [
            "                 Class     Images  Instances      Box(P          R      mAP50  mAP50-95): 100%|██████████| 2/2 [00:12<00:00,  6.40s/it]\n"
          ]
        },
        {
          "output_type": "stream",
          "name": "stdout",
          "text": [
            "                   all         50        195      0.794      0.673      0.774      0.412\n",
            "Speed: 2.3ms preprocess, 210.6ms inference, 0.0ms loss, 4.8ms postprocess per image\n",
            "Results saved to \u001b[1mruns/detect/train14\u001b[0m\n"
          ]
        },
        {
          "output_type": "execute_result",
          "data": {
            "text/plain": [
              "ultralytics.utils.metrics.DetMetrics object with attributes:\n",
              "\n",
              "ap_class_index: array([0])\n",
              "box: ultralytics.utils.metrics.Metric object\n",
              "confusion_matrix: <ultralytics.utils.metrics.ConfusionMatrix object at 0x7d56c99f5ab0>\n",
              "curves: ['Precision-Recall(B)', 'F1-Confidence(B)', 'Precision-Confidence(B)', 'Recall-Confidence(B)']\n",
              "curves_results: [[array([          0,    0.001001,    0.002002,    0.003003,    0.004004,    0.005005,    0.006006,    0.007007,    0.008008,    0.009009,     0.01001,    0.011011,    0.012012,    0.013013,    0.014014,    0.015015,    0.016016,    0.017017,    0.018018,    0.019019,     0.02002,    0.021021,    0.022022,    0.023023,\n",
              "          0.024024,    0.025025,    0.026026,    0.027027,    0.028028,    0.029029,     0.03003,    0.031031,    0.032032,    0.033033,    0.034034,    0.035035,    0.036036,    0.037037,    0.038038,    0.039039,     0.04004,    0.041041,    0.042042,    0.043043,    0.044044,    0.045045,    0.046046,    0.047047,\n",
              "          0.048048,    0.049049,     0.05005,    0.051051,    0.052052,    0.053053,    0.054054,    0.055055,    0.056056,    0.057057,    0.058058,    0.059059,     0.06006,    0.061061,    0.062062,    0.063063,    0.064064,    0.065065,    0.066066,    0.067067,    0.068068,    0.069069,     0.07007,    0.071071,\n",
              "          0.072072,    0.073073,    0.074074,    0.075075,    0.076076,    0.077077,    0.078078,    0.079079,     0.08008,    0.081081,    0.082082,    0.083083,    0.084084,    0.085085,    0.086086,    0.087087,    0.088088,    0.089089,     0.09009,    0.091091,    0.092092,    0.093093,    0.094094,    0.095095,\n",
              "          0.096096,    0.097097,    0.098098,    0.099099,      0.1001,      0.1011,      0.1021,      0.1031,      0.1041,     0.10511,     0.10611,     0.10711,     0.10811,     0.10911,     0.11011,     0.11111,     0.11211,     0.11311,     0.11411,     0.11512,     0.11612,     0.11712,     0.11812,     0.11912,\n",
              "           0.12012,     0.12112,     0.12212,     0.12312,     0.12412,     0.12513,     0.12613,     0.12713,     0.12813,     0.12913,     0.13013,     0.13113,     0.13213,     0.13313,     0.13413,     0.13514,     0.13614,     0.13714,     0.13814,     0.13914,     0.14014,     0.14114,     0.14214,     0.14314,\n",
              "           0.14414,     0.14515,     0.14615,     0.14715,     0.14815,     0.14915,     0.15015,     0.15115,     0.15215,     0.15315,     0.15415,     0.15516,     0.15616,     0.15716,     0.15816,     0.15916,     0.16016,     0.16116,     0.16216,     0.16316,     0.16416,     0.16517,     0.16617,     0.16717,\n",
              "           0.16817,     0.16917,     0.17017,     0.17117,     0.17217,     0.17317,     0.17417,     0.17518,     0.17618,     0.17718,     0.17818,     0.17918,     0.18018,     0.18118,     0.18218,     0.18318,     0.18418,     0.18519,     0.18619,     0.18719,     0.18819,     0.18919,     0.19019,     0.19119,\n",
              "           0.19219,     0.19319,     0.19419,      0.1952,      0.1962,      0.1972,      0.1982,      0.1992,      0.2002,      0.2012,      0.2022,      0.2032,      0.2042,     0.20521,     0.20621,     0.20721,     0.20821,     0.20921,     0.21021,     0.21121,     0.21221,     0.21321,     0.21421,     0.21522,\n",
              "           0.21622,     0.21722,     0.21822,     0.21922,     0.22022,     0.22122,     0.22222,     0.22322,     0.22422,     0.22523,     0.22623,     0.22723,     0.22823,     0.22923,     0.23023,     0.23123,     0.23223,     0.23323,     0.23423,     0.23524,     0.23624,     0.23724,     0.23824,     0.23924,\n",
              "           0.24024,     0.24124,     0.24224,     0.24324,     0.24424,     0.24525,     0.24625,     0.24725,     0.24825,     0.24925,     0.25025,     0.25125,     0.25225,     0.25325,     0.25425,     0.25526,     0.25626,     0.25726,     0.25826,     0.25926,     0.26026,     0.26126,     0.26226,     0.26326,\n",
              "           0.26426,     0.26527,     0.26627,     0.26727,     0.26827,     0.26927,     0.27027,     0.27127,     0.27227,     0.27327,     0.27427,     0.27528,     0.27628,     0.27728,     0.27828,     0.27928,     0.28028,     0.28128,     0.28228,     0.28328,     0.28428,     0.28529,     0.28629,     0.28729,\n",
              "           0.28829,     0.28929,     0.29029,     0.29129,     0.29229,     0.29329,     0.29429,      0.2953,      0.2963,      0.2973,      0.2983,      0.2993,      0.3003,      0.3013,      0.3023,      0.3033,      0.3043,     0.30531,     0.30631,     0.30731,     0.30831,     0.30931,     0.31031,     0.31131,\n",
              "           0.31231,     0.31331,     0.31431,     0.31532,     0.31632,     0.31732,     0.31832,     0.31932,     0.32032,     0.32132,     0.32232,     0.32332,     0.32432,     0.32533,     0.32633,     0.32733,     0.32833,     0.32933,     0.33033,     0.33133,     0.33233,     0.33333,     0.33433,     0.33534,\n",
              "           0.33634,     0.33734,     0.33834,     0.33934,     0.34034,     0.34134,     0.34234,     0.34334,     0.34434,     0.34535,     0.34635,     0.34735,     0.34835,     0.34935,     0.35035,     0.35135,     0.35235,     0.35335,     0.35435,     0.35536,     0.35636,     0.35736,     0.35836,     0.35936,\n",
              "           0.36036,     0.36136,     0.36236,     0.36336,     0.36436,     0.36537,     0.36637,     0.36737,     0.36837,     0.36937,     0.37037,     0.37137,     0.37237,     0.37337,     0.37437,     0.37538,     0.37638,     0.37738,     0.37838,     0.37938,     0.38038,     0.38138,     0.38238,     0.38338,\n",
              "           0.38438,     0.38539,     0.38639,     0.38739,     0.38839,     0.38939,     0.39039,     0.39139,     0.39239,     0.39339,     0.39439,      0.3954,      0.3964,      0.3974,      0.3984,      0.3994,      0.4004,      0.4014,      0.4024,      0.4034,      0.4044,     0.40541,     0.40641,     0.40741,\n",
              "           0.40841,     0.40941,     0.41041,     0.41141,     0.41241,     0.41341,     0.41441,     0.41542,     0.41642,     0.41742,     0.41842,     0.41942,     0.42042,     0.42142,     0.42242,     0.42342,     0.42442,     0.42543,     0.42643,     0.42743,     0.42843,     0.42943,     0.43043,     0.43143,\n",
              "           0.43243,     0.43343,     0.43443,     0.43544,     0.43644,     0.43744,     0.43844,     0.43944,     0.44044,     0.44144,     0.44244,     0.44344,     0.44444,     0.44545,     0.44645,     0.44745,     0.44845,     0.44945,     0.45045,     0.45145,     0.45245,     0.45345,     0.45445,     0.45546,\n",
              "           0.45646,     0.45746,     0.45846,     0.45946,     0.46046,     0.46146,     0.46246,     0.46346,     0.46446,     0.46547,     0.46647,     0.46747,     0.46847,     0.46947,     0.47047,     0.47147,     0.47247,     0.47347,     0.47447,     0.47548,     0.47648,     0.47748,     0.47848,     0.47948,\n",
              "           0.48048,     0.48148,     0.48248,     0.48348,     0.48448,     0.48549,     0.48649,     0.48749,     0.48849,     0.48949,     0.49049,     0.49149,     0.49249,     0.49349,     0.49449,      0.4955,      0.4965,      0.4975,      0.4985,      0.4995,      0.5005,      0.5015,      0.5025,      0.5035,\n",
              "            0.5045,     0.50551,     0.50651,     0.50751,     0.50851,     0.50951,     0.51051,     0.51151,     0.51251,     0.51351,     0.51451,     0.51552,     0.51652,     0.51752,     0.51852,     0.51952,     0.52052,     0.52152,     0.52252,     0.52352,     0.52452,     0.52553,     0.52653,     0.52753,\n",
              "           0.52853,     0.52953,     0.53053,     0.53153,     0.53253,     0.53353,     0.53453,     0.53554,     0.53654,     0.53754,     0.53854,     0.53954,     0.54054,     0.54154,     0.54254,     0.54354,     0.54454,     0.54555,     0.54655,     0.54755,     0.54855,     0.54955,     0.55055,     0.55155,\n",
              "           0.55255,     0.55355,     0.55455,     0.55556,     0.55656,     0.55756,     0.55856,     0.55956,     0.56056,     0.56156,     0.56256,     0.56356,     0.56456,     0.56557,     0.56657,     0.56757,     0.56857,     0.56957,     0.57057,     0.57157,     0.57257,     0.57357,     0.57457,     0.57558,\n",
              "           0.57658,     0.57758,     0.57858,     0.57958,     0.58058,     0.58158,     0.58258,     0.58358,     0.58458,     0.58559,     0.58659,     0.58759,     0.58859,     0.58959,     0.59059,     0.59159,     0.59259,     0.59359,     0.59459,      0.5956,      0.5966,      0.5976,      0.5986,      0.5996,\n",
              "            0.6006,      0.6016,      0.6026,      0.6036,      0.6046,     0.60561,     0.60661,     0.60761,     0.60861,     0.60961,     0.61061,     0.61161,     0.61261,     0.61361,     0.61461,     0.61562,     0.61662,     0.61762,     0.61862,     0.61962,     0.62062,     0.62162,     0.62262,     0.62362,\n",
              "           0.62462,     0.62563,     0.62663,     0.62763,     0.62863,     0.62963,     0.63063,     0.63163,     0.63263,     0.63363,     0.63463,     0.63564,     0.63664,     0.63764,     0.63864,     0.63964,     0.64064,     0.64164,     0.64264,     0.64364,     0.64464,     0.64565,     0.64665,     0.64765,\n",
              "           0.64865,     0.64965,     0.65065,     0.65165,     0.65265,     0.65365,     0.65465,     0.65566,     0.65666,     0.65766,     0.65866,     0.65966,     0.66066,     0.66166,     0.66266,     0.66366,     0.66466,     0.66567,     0.66667,     0.66767,     0.66867,     0.66967,     0.67067,     0.67167,\n",
              "           0.67267,     0.67367,     0.67467,     0.67568,     0.67668,     0.67768,     0.67868,     0.67968,     0.68068,     0.68168,     0.68268,     0.68368,     0.68468,     0.68569,     0.68669,     0.68769,     0.68869,     0.68969,     0.69069,     0.69169,     0.69269,     0.69369,     0.69469,      0.6957,\n",
              "            0.6967,      0.6977,      0.6987,      0.6997,      0.7007,      0.7017,      0.7027,      0.7037,      0.7047,     0.70571,     0.70671,     0.70771,     0.70871,     0.70971,     0.71071,     0.71171,     0.71271,     0.71371,     0.71471,     0.71572,     0.71672,     0.71772,     0.71872,     0.71972,\n",
              "           0.72072,     0.72172,     0.72272,     0.72372,     0.72472,     0.72573,     0.72673,     0.72773,     0.72873,     0.72973,     0.73073,     0.73173,     0.73273,     0.73373,     0.73473,     0.73574,     0.73674,     0.73774,     0.73874,     0.73974,     0.74074,     0.74174,     0.74274,     0.74374,\n",
              "           0.74474,     0.74575,     0.74675,     0.74775,     0.74875,     0.74975,     0.75075,     0.75175,     0.75275,     0.75375,     0.75475,     0.75576,     0.75676,     0.75776,     0.75876,     0.75976,     0.76076,     0.76176,     0.76276,     0.76376,     0.76476,     0.76577,     0.76677,     0.76777,\n",
              "           0.76877,     0.76977,     0.77077,     0.77177,     0.77277,     0.77377,     0.77477,     0.77578,     0.77678,     0.77778,     0.77878,     0.77978,     0.78078,     0.78178,     0.78278,     0.78378,     0.78478,     0.78579,     0.78679,     0.78779,     0.78879,     0.78979,     0.79079,     0.79179,\n",
              "           0.79279,     0.79379,     0.79479,      0.7958,      0.7968,      0.7978,      0.7988,      0.7998,      0.8008,      0.8018,      0.8028,      0.8038,      0.8048,     0.80581,     0.80681,     0.80781,     0.80881,     0.80981,     0.81081,     0.81181,     0.81281,     0.81381,     0.81481,     0.81582,\n",
              "           0.81682,     0.81782,     0.81882,     0.81982,     0.82082,     0.82182,     0.82282,     0.82382,     0.82482,     0.82583,     0.82683,     0.82783,     0.82883,     0.82983,     0.83083,     0.83183,     0.83283,     0.83383,     0.83483,     0.83584,     0.83684,     0.83784,     0.83884,     0.83984,\n",
              "           0.84084,     0.84184,     0.84284,     0.84384,     0.84484,     0.84585,     0.84685,     0.84785,     0.84885,     0.84985,     0.85085,     0.85185,     0.85285,     0.85385,     0.85485,     0.85586,     0.85686,     0.85786,     0.85886,     0.85986,     0.86086,     0.86186,     0.86286,     0.86386,\n",
              "           0.86486,     0.86587,     0.86687,     0.86787,     0.86887,     0.86987,     0.87087,     0.87187,     0.87287,     0.87387,     0.87487,     0.87588,     0.87688,     0.87788,     0.87888,     0.87988,     0.88088,     0.88188,     0.88288,     0.88388,     0.88488,     0.88589,     0.88689,     0.88789,\n",
              "           0.88889,     0.88989,     0.89089,     0.89189,     0.89289,     0.89389,     0.89489,      0.8959,      0.8969,      0.8979,      0.8989,      0.8999,      0.9009,      0.9019,      0.9029,      0.9039,      0.9049,     0.90591,     0.90691,     0.90791,     0.90891,     0.90991,     0.91091,     0.91191,\n",
              "           0.91291,     0.91391,     0.91491,     0.91592,     0.91692,     0.91792,     0.91892,     0.91992,     0.92092,     0.92192,     0.92292,     0.92392,     0.92492,     0.92593,     0.92693,     0.92793,     0.92893,     0.92993,     0.93093,     0.93193,     0.93293,     0.93393,     0.93493,     0.93594,\n",
              "           0.93694,     0.93794,     0.93894,     0.93994,     0.94094,     0.94194,     0.94294,     0.94394,     0.94494,     0.94595,     0.94695,     0.94795,     0.94895,     0.94995,     0.95095,     0.95195,     0.95295,     0.95395,     0.95495,     0.95596,     0.95696,     0.95796,     0.95896,     0.95996,\n",
              "           0.96096,     0.96196,     0.96296,     0.96396,     0.96496,     0.96597,     0.96697,     0.96797,     0.96897,     0.96997,     0.97097,     0.97197,     0.97297,     0.97397,     0.97497,     0.97598,     0.97698,     0.97798,     0.97898,     0.97998,     0.98098,     0.98198,     0.98298,     0.98398,\n",
              "           0.98498,     0.98599,     0.98699,     0.98799,     0.98899,     0.98999,     0.99099,     0.99199,     0.99299,     0.99399,     0.99499,       0.996,       0.997,       0.998,       0.999,           1]), array([[          1,           1,           1,           1,           1,           1,           1,           1,           1,           1,           1,           1,           1,           1,           1,           1,           1,           1,           1,           1,           1,           1,           1,\n",
              "                  1,           1,           1,           1,           1,           1,           1,           1,           1,           1,           1,           1,           1,           1,           1,           1,           1,           1,           1,           1,           1,           1,           1,\n",
              "                  1,           1,           1,           1,           1,           1,           1,           1,           1,           1,           1,           1,           1,           1,           1,           1,           1,           1,           1,           1,           1,           1,           1,\n",
              "                  1,           1,           1,           1,           1,           1,           1,           1,           1,           1,           1,           1,           1,           1,           1,           1,           1,           1,           1,           1,           1,           1,           1,\n",
              "                  1,           1,           1,           1,           1,           1,           1,           1,           1,           1,           1,           1,           1,           1,           1,           1,           1,           1,           1,           1,           1,           1,           1,\n",
              "                  1,           1,           1,           1,           1,           1,           1,           1,           1,           1,           1,           1,           1,           1,           1,           1,           1,           1,           1,           1,           1,           1,           1,\n",
              "                  1,           1,           1,           1,           1,           1,           1,           1,           1,           1,           1,           1,           1,           1,           1,           1,           1,           1,           1,           1,           1,           1,           1,\n",
              "                  1,           1,           1,           1,           1,           1,           1,           1,           1,           1,           1,           1,           1,           1,           1,           1,           1,           1,           1,           1,           1,           1,           1,\n",
              "                  1,           1,           1,           1,           1,           1,           1,           1,           1,           1,           1,           1,           1,           1,           1,           1,           1,           1,           1,           1,           1,           1,           1,\n",
              "                  1,           1,           1,           1,     0.97826,     0.97826,     0.97826,     0.97826,     0.97826,     0.97826,     0.97826,     0.97826,     0.97826,     0.97826,     0.97826,     0.97826,     0.97826,     0.97826,     0.97826,     0.97826,     0.97826,     0.97826,     0.97826,\n",
              "            0.97826,     0.96667,     0.96667,     0.96667,     0.96667,     0.96667,     0.96667,     0.96667,     0.96667,     0.96667,     0.96667,     0.96667,     0.96667,     0.96667,     0.96667,     0.96667,     0.96667,     0.96667,     0.96667,     0.96667,     0.96667,     0.96667,     0.96667,\n",
              "            0.96667,     0.96667,     0.96667,     0.96667,     0.96667,     0.96667,     0.96667,     0.96667,     0.96667,     0.96667,     0.96667,     0.96667,     0.96667,     0.96667,     0.96667,     0.96667,     0.96667,     0.96667,     0.96667,     0.96667,     0.96667,     0.96667,     0.96667,\n",
              "            0.96667,     0.96667,     0.96667,     0.96667,     0.96667,     0.96667,     0.96667,     0.96667,     0.96667,     0.96667,     0.96667,     0.96667,     0.96667,     0.96667,     0.96667,     0.96667,     0.96667,     0.96667,     0.96667,     0.96667,     0.96667,     0.96667,     0.96667,\n",
              "            0.96667,     0.96667,     0.96667,     0.96667,     0.96667,     0.96667,     0.96667,     0.96667,     0.96667,     0.96667,     0.96667,     0.96667,     0.96667,     0.96667,     0.96667,     0.96667,     0.96667,     0.96667,     0.96667,     0.96667,     0.96667,     0.96667,     0.96667,\n",
              "            0.96667,     0.96667,     0.96667,     0.96667,     0.96667,     0.96667,     0.96667,     0.96667,     0.96667,     0.96667,     0.96667,     0.96667,     0.96667,     0.96667,     0.96667,     0.96667,     0.96667,     0.96667,     0.96667,     0.96667,     0.96667,     0.96667,     0.96667,\n",
              "            0.96667,     0.96667,     0.96667,     0.96667,     0.96667,     0.96667,     0.96667,     0.96667,     0.96667,     0.96667,     0.96667,     0.96667,     0.96667,     0.96667,     0.96667,     0.96667,     0.96667,     0.96667,     0.96667,     0.96667,     0.96667,     0.96667,     0.96667,\n",
              "            0.96667,     0.96667,     0.96667,     0.96667,     0.96667,     0.96667,     0.96667,     0.96667,     0.96667,     0.96667,     0.96667,     0.96667,     0.96667,     0.96667,     0.96667,     0.96667,     0.96667,     0.96667,     0.96667,     0.96667,     0.96667,     0.96667,     0.96667,\n",
              "            0.96667,     0.96667,     0.96667,     0.96667,     0.96667,     0.96667,     0.96667,     0.96667,     0.96667,     0.96667,     0.96667,     0.96667,     0.96667,     0.96667,     0.96667,     0.96667,     0.96667,     0.96667,     0.96667,     0.96667,     0.96667,     0.96667,     0.96667,\n",
              "            0.96667,     0.96667,     0.96667,     0.96667,     0.96667,     0.96667,     0.96667,     0.96667,     0.96667,     0.96667,     0.96667,     0.96667,     0.96667,     0.96667,     0.96667,     0.96667,     0.96667,     0.96667,     0.96667,     0.96667,     0.96667,     0.96667,     0.96667,\n",
              "            0.96667,     0.96667,     0.96667,     0.96667,     0.96667,     0.96667,     0.96667,     0.96667,     0.96667,     0.95876,     0.95876,     0.95876,     0.95876,     0.95876,     0.95876,     0.95876,     0.95876,     0.95876,     0.95876,     0.95876,     0.95876,     0.95876,     0.95876,\n",
              "            0.95876,     0.95876,     0.95876,     0.95876,     0.95876,     0.95876,     0.95876,     0.95876,     0.95876,     0.95876,     0.95876,     0.95876,     0.95876,     0.95876,     0.95876,     0.95876,     0.95876,     0.94949,     0.94949,     0.94949,     0.94949,     0.94949,      0.9292,\n",
              "             0.9292,      0.9292,      0.9292,      0.9292,      0.9292,      0.9292,      0.9292,      0.9292,      0.9292,      0.9292,      0.9292,      0.9292,      0.9292,      0.9292,      0.9292,      0.9292,      0.9292,      0.9292,      0.9292,      0.9292,      0.9292,      0.9292,      0.9292,\n",
              "             0.9292,      0.9292,      0.9292,      0.9292,      0.9292,      0.9292,      0.9292,      0.9292,      0.9292,      0.9292,      0.9292,      0.9292,      0.9292,      0.9292,      0.9292,      0.9292,      0.9292,      0.9292,      0.9292,      0.9292,      0.9292,      0.9292,      0.9292,\n",
              "             0.9292,      0.9292,      0.9292,      0.9292,      0.9292,      0.9292,      0.9292,      0.9292,      0.9292,     0.91736,     0.91736,     0.91736,     0.91736,     0.91736,     0.91736,     0.91736,     0.91736,     0.91736,     0.91736,     0.91736,     0.91736,     0.91736,     0.91736,\n",
              "            0.91736,     0.91736,     0.91736,     0.91736,     0.91736,     0.91736,     0.91736,     0.91736,     0.91736,     0.91736,     0.91736,     0.91736,     0.91736,     0.91736,     0.91736,     0.91736,     0.91736,       0.904,       0.904,       0.904,       0.904,       0.904,       0.904,\n",
              "              0.904,       0.904,       0.904,       0.904,     0.89764,     0.89764,     0.89764,     0.89764,     0.89764,     0.89764,     0.87786,     0.87786,     0.87786,     0.87786,     0.87786,     0.87313,     0.87313,     0.87313,     0.87313,     0.87313,     0.87313,     0.87313,     0.87313,\n",
              "            0.87313,     0.87313,     0.86957,     0.86957,     0.86957,     0.86957,     0.86957,     0.86957,     0.86957,     0.86957,     0.86957,     0.86957,     0.86957,     0.86957,     0.86957,     0.86957,     0.86957,     0.85816,     0.85816,     0.85816,     0.85816,     0.85816,     0.85315,\n",
              "            0.85315,     0.85315,     0.85315,     0.85315,     0.85315,     0.84828,     0.84828,     0.84828,     0.84828,     0.84828,     0.84354,     0.84354,     0.84354,     0.84354,     0.84354,     0.83444,     0.83444,     0.83444,     0.83444,     0.83444,     0.83444,     0.83444,     0.83444,\n",
              "            0.83444,     0.83444,     0.83117,     0.83117,     0.83117,     0.83117,     0.83117,     0.83117,     0.83117,     0.83117,     0.83117,     0.83117,     0.81761,     0.81761,     0.81761,     0.81761,     0.81761,     0.81761,     0.81761,     0.81761,     0.81761,     0.81761,     0.81366,\n",
              "            0.81366,     0.81366,     0.81366,     0.81366,     0.81366,     0.79518,     0.79518,     0.79518,     0.79518,     0.79518,     0.78824,     0.78824,     0.78824,     0.78824,     0.78824,     0.78824,     0.78824,     0.78824,     0.78824,     0.78824,     0.76836,     0.76836,     0.76836,\n",
              "            0.76836,     0.76836,     0.76836,     0.76836,     0.76836,     0.76836,     0.76836,     0.76536,     0.76536,     0.76536,     0.76536,     0.76536,     0.75824,     0.75824,     0.75824,     0.75824,     0.75824,     0.74332,     0.74332,     0.74332,     0.74332,     0.74332,     0.74332,\n",
              "            0.73684,     0.73684,     0.73684,     0.73684,     0.73684,        0.71,        0.71,        0.71,        0.71,        0.71,        0.71,        0.71,        0.71,        0.71,        0.71,     0.68095,     0.68095,     0.68095,     0.68095,     0.68095,     0.65158,     0.65158,     0.65158,\n",
              "            0.65158,     0.65158,     0.61441,     0.61441,     0.61441,     0.61441,     0.61441,     0.61088,     0.61088,     0.61088,     0.61088,     0.61088,     0.59756,     0.59756,     0.59756,     0.59756,     0.59756,     0.59756,     0.58964,     0.58964,     0.58964,     0.58964,     0.58964,\n",
              "            0.57752,     0.57752,     0.57752,     0.57752,     0.57752,      0.5572,      0.5572,      0.5572,      0.5572,      0.5572,      0.5572,      0.5572,      0.5572,      0.5572,      0.5572,     0.55474,     0.55474,     0.55474,     0.55474,     0.55474,     0.54643,     0.54643,     0.54643,\n",
              "            0.54643,     0.54643,     0.54225,     0.54225,     0.54225,     0.54225,     0.54225,     0.53448,     0.53448,     0.53448,     0.53448,     0.53448,     0.53448,     0.52508,     0.52508,     0.52508,     0.52508,     0.52508,     0.52508,     0.52508,     0.52508,     0.52508,     0.52508,\n",
              "            0.50318,     0.50318,     0.50318,     0.50318,     0.50318,     0.48624,     0.48624,     0.48624,     0.48624,     0.48624,     0.43011,     0.43011,     0.43011,     0.43011,     0.43011,     0.41927,     0.41927,     0.41927,     0.41927,     0.41927,      0.3785,      0.3785,      0.3785,\n",
              "             0.3785,      0.3785,     0.37045,     0.37045,     0.37045,     0.37045,     0.37045,     0.37045,     0.36203,     0.36203,     0.36203,     0.36203,     0.36203,     0.35032,     0.35032,     0.35032,     0.35032,     0.35032,       0.334,       0.334,       0.334,       0.334,       0.334,\n",
              "            0.33267,     0.33267,     0.33267,     0.33267,     0.33267,     0.32308,     0.32308,     0.32308,     0.32308,     0.32308,      0.3219,      0.3219,      0.3219,      0.3219,      0.3219,     0.31365,     0.31365,     0.31365,     0.31365,     0.31365,     0.30811,     0.30811,     0.30811,\n",
              "            0.30811,     0.30811,     0.30811,     0.28336,     0.28336,     0.28336,     0.28336,     0.28336,     0.28039,     0.28039,     0.28039,     0.28039,     0.28039,     0.26087,     0.26087,     0.26087,     0.26087,     0.26087,     0.25811,     0.25811,     0.25811,     0.25811,     0.25811,\n",
              "            0.21481,     0.21481,     0.21481,     0.21481,     0.21481,     0.21481,     0.21481,     0.21481,     0.21481,     0.21481,     0.20343,     0.20343,     0.20343,     0.20343,     0.20343,     0.19867,     0.19867,     0.19867,     0.19867,     0.19867,     0.19867,     0.19694,     0.19694,\n",
              "            0.19694,     0.19694,     0.19694,     0.18602,     0.18602,     0.18602,     0.18602,     0.18602,     0.18496,     0.18496,     0.18496,     0.18496,     0.18496,     0.15561,     0.15561,     0.15561,     0.15561,     0.15561,     0.13918,     0.13918,     0.13918,     0.13918,     0.13918,\n",
              "            0.13704,     0.13704,     0.13704,     0.13704,     0.13704,     0.13636,     0.13636,     0.13636,     0.13636,     0.13636,     0.11995,     0.11995,     0.11995,     0.11995,     0.11995,     0.11995,     0.11098,     0.11098,     0.11098,     0.11098,     0.11098,     0.11085,     0.11085,\n",
              "            0.11085,     0.11085,     0.11085,     0.10155,     0.10155,     0.10155,     0.10155,     0.10155,    0.097004,    0.097004,    0.097004,    0.097004,    0.097004,    0.082973,    0.082973,    0.082973,    0.082973,    0.082973,    0.074806,    0.074806,    0.074806,    0.074806,    0.074806,\n",
              "           0.016257,    0.016257,    0.016257,    0.016257,    0.016257,    0.012846,    0.010277,   0.0077077,   0.0051385,   0.0025692,           0]]), 'Recall', 'Precision'], [array([          0,    0.001001,    0.002002,    0.003003,    0.004004,    0.005005,    0.006006,    0.007007,    0.008008,    0.009009,     0.01001,    0.011011,    0.012012,    0.013013,    0.014014,    0.015015,    0.016016,    0.017017,    0.018018,    0.019019,     0.02002,    0.021021,    0.022022,    0.023023,\n",
              "          0.024024,    0.025025,    0.026026,    0.027027,    0.028028,    0.029029,     0.03003,    0.031031,    0.032032,    0.033033,    0.034034,    0.035035,    0.036036,    0.037037,    0.038038,    0.039039,     0.04004,    0.041041,    0.042042,    0.043043,    0.044044,    0.045045,    0.046046,    0.047047,\n",
              "          0.048048,    0.049049,     0.05005,    0.051051,    0.052052,    0.053053,    0.054054,    0.055055,    0.056056,    0.057057,    0.058058,    0.059059,     0.06006,    0.061061,    0.062062,    0.063063,    0.064064,    0.065065,    0.066066,    0.067067,    0.068068,    0.069069,     0.07007,    0.071071,\n",
              "          0.072072,    0.073073,    0.074074,    0.075075,    0.076076,    0.077077,    0.078078,    0.079079,     0.08008,    0.081081,    0.082082,    0.083083,    0.084084,    0.085085,    0.086086,    0.087087,    0.088088,    0.089089,     0.09009,    0.091091,    0.092092,    0.093093,    0.094094,    0.095095,\n",
              "          0.096096,    0.097097,    0.098098,    0.099099,      0.1001,      0.1011,      0.1021,      0.1031,      0.1041,     0.10511,     0.10611,     0.10711,     0.10811,     0.10911,     0.11011,     0.11111,     0.11211,     0.11311,     0.11411,     0.11512,     0.11612,     0.11712,     0.11812,     0.11912,\n",
              "           0.12012,     0.12112,     0.12212,     0.12312,     0.12412,     0.12513,     0.12613,     0.12713,     0.12813,     0.12913,     0.13013,     0.13113,     0.13213,     0.13313,     0.13413,     0.13514,     0.13614,     0.13714,     0.13814,     0.13914,     0.14014,     0.14114,     0.14214,     0.14314,\n",
              "           0.14414,     0.14515,     0.14615,     0.14715,     0.14815,     0.14915,     0.15015,     0.15115,     0.15215,     0.15315,     0.15415,     0.15516,     0.15616,     0.15716,     0.15816,     0.15916,     0.16016,     0.16116,     0.16216,     0.16316,     0.16416,     0.16517,     0.16617,     0.16717,\n",
              "           0.16817,     0.16917,     0.17017,     0.17117,     0.17217,     0.17317,     0.17417,     0.17518,     0.17618,     0.17718,     0.17818,     0.17918,     0.18018,     0.18118,     0.18218,     0.18318,     0.18418,     0.18519,     0.18619,     0.18719,     0.18819,     0.18919,     0.19019,     0.19119,\n",
              "           0.19219,     0.19319,     0.19419,      0.1952,      0.1962,      0.1972,      0.1982,      0.1992,      0.2002,      0.2012,      0.2022,      0.2032,      0.2042,     0.20521,     0.20621,     0.20721,     0.20821,     0.20921,     0.21021,     0.21121,     0.21221,     0.21321,     0.21421,     0.21522,\n",
              "           0.21622,     0.21722,     0.21822,     0.21922,     0.22022,     0.22122,     0.22222,     0.22322,     0.22422,     0.22523,     0.22623,     0.22723,     0.22823,     0.22923,     0.23023,     0.23123,     0.23223,     0.23323,     0.23423,     0.23524,     0.23624,     0.23724,     0.23824,     0.23924,\n",
              "           0.24024,     0.24124,     0.24224,     0.24324,     0.24424,     0.24525,     0.24625,     0.24725,     0.24825,     0.24925,     0.25025,     0.25125,     0.25225,     0.25325,     0.25425,     0.25526,     0.25626,     0.25726,     0.25826,     0.25926,     0.26026,     0.26126,     0.26226,     0.26326,\n",
              "           0.26426,     0.26527,     0.26627,     0.26727,     0.26827,     0.26927,     0.27027,     0.27127,     0.27227,     0.27327,     0.27427,     0.27528,     0.27628,     0.27728,     0.27828,     0.27928,     0.28028,     0.28128,     0.28228,     0.28328,     0.28428,     0.28529,     0.28629,     0.28729,\n",
              "           0.28829,     0.28929,     0.29029,     0.29129,     0.29229,     0.29329,     0.29429,      0.2953,      0.2963,      0.2973,      0.2983,      0.2993,      0.3003,      0.3013,      0.3023,      0.3033,      0.3043,     0.30531,     0.30631,     0.30731,     0.30831,     0.30931,     0.31031,     0.31131,\n",
              "           0.31231,     0.31331,     0.31431,     0.31532,     0.31632,     0.31732,     0.31832,     0.31932,     0.32032,     0.32132,     0.32232,     0.32332,     0.32432,     0.32533,     0.32633,     0.32733,     0.32833,     0.32933,     0.33033,     0.33133,     0.33233,     0.33333,     0.33433,     0.33534,\n",
              "           0.33634,     0.33734,     0.33834,     0.33934,     0.34034,     0.34134,     0.34234,     0.34334,     0.34434,     0.34535,     0.34635,     0.34735,     0.34835,     0.34935,     0.35035,     0.35135,     0.35235,     0.35335,     0.35435,     0.35536,     0.35636,     0.35736,     0.35836,     0.35936,\n",
              "           0.36036,     0.36136,     0.36236,     0.36336,     0.36436,     0.36537,     0.36637,     0.36737,     0.36837,     0.36937,     0.37037,     0.37137,     0.37237,     0.37337,     0.37437,     0.37538,     0.37638,     0.37738,     0.37838,     0.37938,     0.38038,     0.38138,     0.38238,     0.38338,\n",
              "           0.38438,     0.38539,     0.38639,     0.38739,     0.38839,     0.38939,     0.39039,     0.39139,     0.39239,     0.39339,     0.39439,      0.3954,      0.3964,      0.3974,      0.3984,      0.3994,      0.4004,      0.4014,      0.4024,      0.4034,      0.4044,     0.40541,     0.40641,     0.40741,\n",
              "           0.40841,     0.40941,     0.41041,     0.41141,     0.41241,     0.41341,     0.41441,     0.41542,     0.41642,     0.41742,     0.41842,     0.41942,     0.42042,     0.42142,     0.42242,     0.42342,     0.42442,     0.42543,     0.42643,     0.42743,     0.42843,     0.42943,     0.43043,     0.43143,\n",
              "           0.43243,     0.43343,     0.43443,     0.43544,     0.43644,     0.43744,     0.43844,     0.43944,     0.44044,     0.44144,     0.44244,     0.44344,     0.44444,     0.44545,     0.44645,     0.44745,     0.44845,     0.44945,     0.45045,     0.45145,     0.45245,     0.45345,     0.45445,     0.45546,\n",
              "           0.45646,     0.45746,     0.45846,     0.45946,     0.46046,     0.46146,     0.46246,     0.46346,     0.46446,     0.46547,     0.46647,     0.46747,     0.46847,     0.46947,     0.47047,     0.47147,     0.47247,     0.47347,     0.47447,     0.47548,     0.47648,     0.47748,     0.47848,     0.47948,\n",
              "           0.48048,     0.48148,     0.48248,     0.48348,     0.48448,     0.48549,     0.48649,     0.48749,     0.48849,     0.48949,     0.49049,     0.49149,     0.49249,     0.49349,     0.49449,      0.4955,      0.4965,      0.4975,      0.4985,      0.4995,      0.5005,      0.5015,      0.5025,      0.5035,\n",
              "            0.5045,     0.50551,     0.50651,     0.50751,     0.50851,     0.50951,     0.51051,     0.51151,     0.51251,     0.51351,     0.51451,     0.51552,     0.51652,     0.51752,     0.51852,     0.51952,     0.52052,     0.52152,     0.52252,     0.52352,     0.52452,     0.52553,     0.52653,     0.52753,\n",
              "           0.52853,     0.52953,     0.53053,     0.53153,     0.53253,     0.53353,     0.53453,     0.53554,     0.53654,     0.53754,     0.53854,     0.53954,     0.54054,     0.54154,     0.54254,     0.54354,     0.54454,     0.54555,     0.54655,     0.54755,     0.54855,     0.54955,     0.55055,     0.55155,\n",
              "           0.55255,     0.55355,     0.55455,     0.55556,     0.55656,     0.55756,     0.55856,     0.55956,     0.56056,     0.56156,     0.56256,     0.56356,     0.56456,     0.56557,     0.56657,     0.56757,     0.56857,     0.56957,     0.57057,     0.57157,     0.57257,     0.57357,     0.57457,     0.57558,\n",
              "           0.57658,     0.57758,     0.57858,     0.57958,     0.58058,     0.58158,     0.58258,     0.58358,     0.58458,     0.58559,     0.58659,     0.58759,     0.58859,     0.58959,     0.59059,     0.59159,     0.59259,     0.59359,     0.59459,      0.5956,      0.5966,      0.5976,      0.5986,      0.5996,\n",
              "            0.6006,      0.6016,      0.6026,      0.6036,      0.6046,     0.60561,     0.60661,     0.60761,     0.60861,     0.60961,     0.61061,     0.61161,     0.61261,     0.61361,     0.61461,     0.61562,     0.61662,     0.61762,     0.61862,     0.61962,     0.62062,     0.62162,     0.62262,     0.62362,\n",
              "           0.62462,     0.62563,     0.62663,     0.62763,     0.62863,     0.62963,     0.63063,     0.63163,     0.63263,     0.63363,     0.63463,     0.63564,     0.63664,     0.63764,     0.63864,     0.63964,     0.64064,     0.64164,     0.64264,     0.64364,     0.64464,     0.64565,     0.64665,     0.64765,\n",
              "           0.64865,     0.64965,     0.65065,     0.65165,     0.65265,     0.65365,     0.65465,     0.65566,     0.65666,     0.65766,     0.65866,     0.65966,     0.66066,     0.66166,     0.66266,     0.66366,     0.66466,     0.66567,     0.66667,     0.66767,     0.66867,     0.66967,     0.67067,     0.67167,\n",
              "           0.67267,     0.67367,     0.67467,     0.67568,     0.67668,     0.67768,     0.67868,     0.67968,     0.68068,     0.68168,     0.68268,     0.68368,     0.68468,     0.68569,     0.68669,     0.68769,     0.68869,     0.68969,     0.69069,     0.69169,     0.69269,     0.69369,     0.69469,      0.6957,\n",
              "            0.6967,      0.6977,      0.6987,      0.6997,      0.7007,      0.7017,      0.7027,      0.7037,      0.7047,     0.70571,     0.70671,     0.70771,     0.70871,     0.70971,     0.71071,     0.71171,     0.71271,     0.71371,     0.71471,     0.71572,     0.71672,     0.71772,     0.71872,     0.71972,\n",
              "           0.72072,     0.72172,     0.72272,     0.72372,     0.72472,     0.72573,     0.72673,     0.72773,     0.72873,     0.72973,     0.73073,     0.73173,     0.73273,     0.73373,     0.73473,     0.73574,     0.73674,     0.73774,     0.73874,     0.73974,     0.74074,     0.74174,     0.74274,     0.74374,\n",
              "           0.74474,     0.74575,     0.74675,     0.74775,     0.74875,     0.74975,     0.75075,     0.75175,     0.75275,     0.75375,     0.75475,     0.75576,     0.75676,     0.75776,     0.75876,     0.75976,     0.76076,     0.76176,     0.76276,     0.76376,     0.76476,     0.76577,     0.76677,     0.76777,\n",
              "           0.76877,     0.76977,     0.77077,     0.77177,     0.77277,     0.77377,     0.77477,     0.77578,     0.77678,     0.77778,     0.77878,     0.77978,     0.78078,     0.78178,     0.78278,     0.78378,     0.78478,     0.78579,     0.78679,     0.78779,     0.78879,     0.78979,     0.79079,     0.79179,\n",
              "           0.79279,     0.79379,     0.79479,      0.7958,      0.7968,      0.7978,      0.7988,      0.7998,      0.8008,      0.8018,      0.8028,      0.8038,      0.8048,     0.80581,     0.80681,     0.80781,     0.80881,     0.80981,     0.81081,     0.81181,     0.81281,     0.81381,     0.81481,     0.81582,\n",
              "           0.81682,     0.81782,     0.81882,     0.81982,     0.82082,     0.82182,     0.82282,     0.82382,     0.82482,     0.82583,     0.82683,     0.82783,     0.82883,     0.82983,     0.83083,     0.83183,     0.83283,     0.83383,     0.83483,     0.83584,     0.83684,     0.83784,     0.83884,     0.83984,\n",
              "           0.84084,     0.84184,     0.84284,     0.84384,     0.84484,     0.84585,     0.84685,     0.84785,     0.84885,     0.84985,     0.85085,     0.85185,     0.85285,     0.85385,     0.85485,     0.85586,     0.85686,     0.85786,     0.85886,     0.85986,     0.86086,     0.86186,     0.86286,     0.86386,\n",
              "           0.86486,     0.86587,     0.86687,     0.86787,     0.86887,     0.86987,     0.87087,     0.87187,     0.87287,     0.87387,     0.87487,     0.87588,     0.87688,     0.87788,     0.87888,     0.87988,     0.88088,     0.88188,     0.88288,     0.88388,     0.88488,     0.88589,     0.88689,     0.88789,\n",
              "           0.88889,     0.88989,     0.89089,     0.89189,     0.89289,     0.89389,     0.89489,      0.8959,      0.8969,      0.8979,      0.8989,      0.8999,      0.9009,      0.9019,      0.9029,      0.9039,      0.9049,     0.90591,     0.90691,     0.90791,     0.90891,     0.90991,     0.91091,     0.91191,\n",
              "           0.91291,     0.91391,     0.91491,     0.91592,     0.91692,     0.91792,     0.91892,     0.91992,     0.92092,     0.92192,     0.92292,     0.92392,     0.92492,     0.92593,     0.92693,     0.92793,     0.92893,     0.92993,     0.93093,     0.93193,     0.93293,     0.93393,     0.93493,     0.93594,\n",
              "           0.93694,     0.93794,     0.93894,     0.93994,     0.94094,     0.94194,     0.94294,     0.94394,     0.94494,     0.94595,     0.94695,     0.94795,     0.94895,     0.94995,     0.95095,     0.95195,     0.95295,     0.95395,     0.95495,     0.95596,     0.95696,     0.95796,     0.95896,     0.95996,\n",
              "           0.96096,     0.96196,     0.96296,     0.96396,     0.96496,     0.96597,     0.96697,     0.96797,     0.96897,     0.96997,     0.97097,     0.97197,     0.97297,     0.97397,     0.97497,     0.97598,     0.97698,     0.97798,     0.97898,     0.97998,     0.98098,     0.98198,     0.98298,     0.98398,\n",
              "           0.98498,     0.98599,     0.98699,     0.98799,     0.98899,     0.98999,     0.99099,     0.99199,     0.99299,     0.99399,     0.99499,       0.996,       0.997,       0.998,       0.999,           1]), array([[   0.025981,    0.025981,    0.030148,    0.039267,    0.049805,     0.06056,    0.070324,    0.079731,    0.088516,     0.09782,      0.1069,     0.11651,     0.12656,     0.13549,     0.14351,     0.15289,      0.1613,      0.1702,     0.17764,     0.18708,     0.19619,     0.20127,     0.21062,\n",
              "            0.21898,     0.22598,     0.23431,     0.23937,     0.24448,     0.25316,     0.26148,     0.26759,     0.27488,     0.28356,     0.28967,     0.29898,     0.30828,     0.31511,     0.32364,     0.32668,     0.33309,     0.34141,     0.34504,     0.35289,     0.36261,     0.36962,     0.37674,\n",
              "            0.38514,     0.39229,     0.39864,     0.40364,     0.40995,     0.41506,      0.4222,     0.42644,     0.43064,     0.43825,     0.44448,     0.44968,      0.4558,     0.45685,     0.46145,     0.46668,     0.46865,     0.47435,     0.47709,     0.47846,     0.48399,     0.48666,     0.49206,\n",
              "            0.49568,     0.49884,     0.50377,     0.50764,      0.5104,     0.51115,     0.51898,     0.51916,      0.5247,      0.5296,     0.53314,     0.53963,      0.5448,     0.55102,     0.55412,     0.56052,     0.56322,     0.56633,     0.56817,     0.57217,     0.57446,     0.57729,     0.58107,\n",
              "            0.58466,     0.58558,     0.58948,     0.59168,     0.59359,     0.59505,     0.59676,     0.60057,      0.6029,     0.60397,     0.60837,     0.60781,     0.61687,     0.61885,     0.62031,     0.61849,     0.62213,     0.62393,     0.62539,     0.63032,     0.63441,      0.6354,     0.63136,\n",
              "            0.63279,     0.63443,     0.63584,      0.6365,     0.63811,     0.64084,     0.64255,     0.64095,     0.64142,      0.6434,      0.6421,     0.64207,     0.64524,     0.64684,     0.64768,     0.64579,     0.64487,     0.64297,     0.64398,     0.64704,     0.64812,     0.64931,     0.65034,\n",
              "            0.65181,     0.65398,     0.65601,     0.65621,     0.65683,     0.65818,     0.66059,     0.66168,     0.66355,     0.66307,     0.66627,     0.66373,     0.66543,     0.66628,     0.66737,     0.67112,     0.67252,      0.6709,     0.67002,     0.67134,     0.67278,     0.67351,     0.67418,\n",
              "            0.67562,     0.67997,     0.68205,     0.68328,     0.68533,     0.68674,     0.68854,     0.69014,     0.69149,     0.69471,     0.69806,      0.7028,     0.70334,     0.70387,     0.70441,     0.70445,     0.70396,     0.70934,     0.71044,     0.71105,     0.71165,     0.71315,      0.7148,\n",
              "            0.71572,     0.71626,     0.71681,     0.71846,       0.715,     0.71354,     0.71272,     0.71369,     0.71455,     0.71524,     0.71594,     0.71813,      0.7186,     0.71907,     0.71954,     0.72027,     0.72129,     0.72354,     0.72495,     0.72681,      0.7264,     0.72529,     0.72417,\n",
              "            0.72647,     0.72769,     0.72671,     0.72561,     0.72451,     0.72499,     0.72563,     0.72627,     0.72741,     0.73204,     0.73071,     0.72938,     0.72914,     0.72996,     0.73073,     0.73118,     0.73163,     0.73207,     0.73252,     0.73137,     0.72976,     0.72996,     0.73108,\n",
              "            0.73032,     0.72935,     0.72839,      0.7272,     0.72558,     0.72442,     0.72485,     0.72527,      0.7257,     0.72612,     0.72649,     0.72683,     0.72716,     0.72749,     0.72783,     0.72816,      0.7289,     0.72983,      0.7336,     0.73347,     0.73253,     0.73158,     0.73059,\n",
              "            0.72931,     0.72802,     0.72739,     0.72769,     0.72798,     0.72827,     0.72856,     0.72885,     0.72914,     0.73067,     0.73052,      0.7295,     0.72849,       0.728,     0.72873,     0.72945,     0.73009,     0.73065,      0.7312,     0.73176,     0.73402,     0.73469,     0.73537,\n",
              "            0.73568,     0.73336,     0.73274,     0.73334,     0.73394,     0.73408,     0.73086,     0.73032,     0.72979,     0.72926,     0.72873,     0.72819,     0.72766,     0.72761,     0.72886,     0.72946,     0.72966,     0.72985,     0.73005,     0.73024,     0.73044,     0.73063,     0.73082,\n",
              "            0.73102,     0.73121,     0.73141,     0.73184,      0.7323,     0.73276,     0.73322,     0.73143,     0.72963,     0.72929,     0.72895,     0.72862,     0.72828,     0.72794,      0.7276,     0.72726,     0.72692,     0.72658,     0.72624,     0.72717,     0.72816,     0.72807,     0.72777,\n",
              "            0.72747,     0.72717,     0.72687,     0.72657,     0.72627,     0.72596,     0.72566,     0.72536,     0.72506,     0.72476,      0.7211,      0.7232,     0.72347,     0.72373,       0.724,     0.72426,     0.72453,     0.72479,     0.72506,     0.72483,     0.72435,     0.72387,     0.72339,\n",
              "            0.72291,     0.72244,     0.72196,     0.72148,     0.72195,     0.72259,     0.72322,     0.71987,      0.7203,     0.72073,     0.72116,     0.72159,     0.71955,     0.71882,     0.71968,     0.72007,     0.71961,     0.71914,     0.71867,     0.71821,     0.71774,     0.71727,     0.71681,\n",
              "            0.71644,     0.71656,     0.71669,     0.71681,     0.71693,     0.71706,     0.71718,      0.7173,     0.71743,     0.71755,     0.71768,      0.7178,     0.71792,     0.71804,     0.71817,     0.71829,     0.71841,     0.71854,      0.7205,     0.71996,     0.71943,     0.71889,     0.71835,\n",
              "            0.71782,     0.71728,      0.7167,     0.71599,     0.71527,     0.71455,     0.71383,     0.71311,     0.71253,     0.71198,     0.71142,     0.71087,     0.71031,     0.70976,      0.7092,     0.70962,     0.71029,     0.71096,     0.70902,     0.70346,      0.7039,     0.70433,     0.70476,\n",
              "             0.7052,     0.70533,     0.70458,     0.70383,     0.70307,     0.70232,     0.70156,      0.7022,     0.70288,     0.70355,     0.70475,     0.70619,     0.70807,     0.70761,     0.70714,     0.70667,     0.70621,     0.70574,     0.70527,      0.7048,     0.70433,     0.70607,     0.70549,\n",
              "            0.70492,     0.70434,     0.70376,     0.70319,     0.70261,     0.70212,     0.70188,     0.70163,     0.70139,     0.70114,     0.70089,     0.70065,      0.7004,     0.70016,     0.69991,     0.69966,     0.69942,     0.69917,     0.69892,     0.69868,     0.69843,     0.69818,     0.69828,\n",
              "            0.69852,     0.69876,     0.69899,     0.69923,     0.69947,      0.6997,     0.69994,     0.70018,      0.7005,     0.70095,     0.70141,     0.70186,     0.70231,     0.70128,     0.69879,      0.6938,     0.69294,     0.69209,     0.69123,     0.69038,     0.68941,     0.68839,     0.68736,\n",
              "            0.68634,     0.68091,     0.67759,     0.67787,     0.67816,     0.67844,     0.67873,     0.67901,      0.6793,     0.67958,     0.68019,     0.68083,     0.68147,     0.68138,     0.68042,     0.67945,     0.67847,     0.67744,     0.67389,      0.6677,     0.66349,     0.66101,     0.65529,\n",
              "            0.65437,     0.65346,     0.65254,     0.65162,     0.64865,     0.64637,     0.64587,     0.64537,     0.64487,     0.64437,     0.64387,     0.64337,     0.64287,     0.64237,     0.64131,     0.63978,     0.63824,     0.63358,     0.63374,     0.63456,     0.63572,     0.63737,     0.63771,\n",
              "            0.63806,      0.6384,     0.63875,     0.63909,     0.63943,     0.63592,     0.63612,     0.63492,     0.63372,     0.63253,     0.63172,       0.631,     0.63028,     0.62956,     0.62885,     0.62812,     0.62736,     0.62648,     0.62559,      0.6247,     0.62382,     0.62293,      0.6195,\n",
              "            0.61348,     0.61179,     0.61028,     0.60878,     0.60943,      0.6104,      0.6098,      0.6092,      0.6086,       0.608,     0.60739,     0.60679,     0.60619,     0.60552,     0.60422,     0.60292,     0.60161,     0.60055,     0.60004,     0.59952,     0.59901,      0.5985,     0.59798,\n",
              "            0.59747,     0.59696,     0.59644,     0.59593,     0.59258,      0.5901,     0.58906,     0.58802,     0.58698,     0.58594,     0.58471,     0.58342,     0.58213,     0.58084,     0.57955,     0.57825,     0.57695,     0.57566,     0.57446,     0.57327,     0.57207,     0.57088,     0.56936,\n",
              "            0.56761,     0.56585,     0.56216,     0.55658,     0.54938,     0.54865,     0.54793,     0.54721,     0.54648,     0.54576,     0.54503,     0.54431,     0.54215,     0.53947,     0.53456,     0.52776,     0.52665,     0.52555,     0.52444,     0.52333,     0.51886,        0.51,     0.49207,\n",
              "            0.48894,      0.4872,     0.48566,     0.48411,     0.48256,     0.48095,     0.47934,     0.47773,     0.47037,      0.4689,     0.46742,     0.46594,     0.46455,     0.46328,       0.462,     0.46073,     0.45945,     0.45222,     0.45063,     0.44904,     0.44745,     0.44493,     0.44209,\n",
              "            0.43778,     0.43071,     0.42772,     0.42662,     0.42552,     0.42442,     0.42331,      0.4166,     0.41126,     0.40887,     0.40771,     0.40655,     0.40539,     0.40423,     0.40311,     0.40226,      0.4014,     0.40055,      0.3997,     0.39884,     0.39798,     0.39713,     0.39477,\n",
              "            0.39127,     0.39041,     0.39064,     0.39088,     0.39111,     0.39134,     0.39157,      0.3918,       0.384,     0.38151,       0.379,      0.3766,     0.37421,     0.37195,     0.37325,     0.36803,     0.36009,     0.35858,     0.35729,       0.356,      0.3547,     0.35341,      0.3479,\n",
              "             0.3461,     0.34624,     0.34638,     0.34652,     0.34666,      0.3468,     0.34693,     0.34707,     0.34721,     0.34735,     0.34706,      0.3448,     0.34254,     0.33946,     0.32882,     0.31883,     0.31798,     0.31713,     0.31629,     0.31544,     0.31459,     0.31374,     0.31289,\n",
              "            0.31204,     0.30952,     0.30582,     0.30021,      0.2891,     0.28481,     0.28066,     0.27681,     0.26646,      0.2652,     0.26394,     0.26269,     0.26142,     0.26016,      0.2589,     0.25785,     0.25679,     0.25573,     0.25467,     0.25361,     0.25255,     0.25149,     0.24747,\n",
              "            0.23502,     0.23224,     0.22946,     0.22709,     0.22624,     0.22539,     0.22453,     0.22368,     0.22283,     0.22197,     0.22112,     0.22026,      0.2194,     0.21789,     0.21614,     0.21438,     0.21262,     0.21086,     0.20918,      0.2075,     0.20582,     0.20413,     0.19438,\n",
              "             0.1939,     0.19342,     0.19294,     0.19246,     0.19198,      0.1915,     0.19101,     0.19053,     0.19005,     0.18957,     0.18909,      0.1886,     0.18812,     0.18764,     0.18715,     0.18667,     0.18619,     0.17358,     0.16837,      0.1664,     0.16442,     0.16244,     0.16046,\n",
              "            0.15345,     0.14451,     0.14223,     0.14146,      0.1407,     0.13993,     0.13916,      0.1384,     0.13763,     0.13686,     0.13609,     0.13532,     0.13455,     0.13269,     0.12757,      0.1245,     0.12349,     0.12248,     0.12148,     0.12047,     0.11946,     0.11845,     0.11743,\n",
              "            0.11642,      0.1153,     0.11409,     0.11288,     0.11167,     0.11046,     0.10924,     0.10802,      0.1068,     0.10489,     0.10296,     0.10103,    0.099095,    0.097423,     0.09676,    0.096097,    0.095433,    0.094769,    0.094105,     0.09344,    0.092774,    0.092108,    0.091442,\n",
              "           0.090775,    0.090107,    0.089439,    0.088771,     0.08744,    0.083435,    0.079413,    0.073799,    0.068811,     0.06675,    0.064684,    0.062614,    0.060539,     0.05887,    0.057477,    0.056081,    0.054683,    0.053283,    0.051882,    0.050478,    0.048932,    0.047311,    0.045688,\n",
              "           0.044062,    0.042433,    0.040802,     0.03982,    0.039218,    0.038615,    0.038012,    0.037408,    0.036805,      0.0362,    0.035596,    0.034991,    0.034385,    0.033779,    0.033173,    0.032567,     0.03196,    0.031353,    0.030745,    0.029275,    0.025504,    0.021718,    0.019731,\n",
              "           0.018818,    0.017903,    0.016988,    0.016071,    0.015154,    0.014236,    0.013317,    0.012398,    0.011477,    0.010556,           0,           0,           0,           0,           0,           0,           0,           0,           0,           0,           0,           0,           0,\n",
              "                  0,           0,           0,           0,           0,           0,           0,           0,           0,           0,           0,           0,           0,           0,           0,           0,           0,           0,           0,           0,           0,           0,           0,\n",
              "                  0,           0,           0,           0,           0,           0,           0,           0,           0,           0,           0,           0,           0,           0,           0,           0,           0,           0,           0,           0,           0,           0,           0,\n",
              "                  0,           0,           0,           0,           0,           0,           0,           0,           0,           0,           0,           0,           0,           0,           0,           0,           0,           0,           0,           0,           0,           0,           0,\n",
              "                  0,           0,           0,           0,           0,           0,           0,           0,           0,           0,           0,           0,           0,           0,           0,           0,           0,           0,           0,           0,           0,           0,           0,\n",
              "                  0,           0,           0,           0,           0,           0,           0,           0,           0,           0,           0]]), 'Confidence', 'F1'], [array([          0,    0.001001,    0.002002,    0.003003,    0.004004,    0.005005,    0.006006,    0.007007,    0.008008,    0.009009,     0.01001,    0.011011,    0.012012,    0.013013,    0.014014,    0.015015,    0.016016,    0.017017,    0.018018,    0.019019,     0.02002,    0.021021,    0.022022,    0.023023,\n",
              "          0.024024,    0.025025,    0.026026,    0.027027,    0.028028,    0.029029,     0.03003,    0.031031,    0.032032,    0.033033,    0.034034,    0.035035,    0.036036,    0.037037,    0.038038,    0.039039,     0.04004,    0.041041,    0.042042,    0.043043,    0.044044,    0.045045,    0.046046,    0.047047,\n",
              "          0.048048,    0.049049,     0.05005,    0.051051,    0.052052,    0.053053,    0.054054,    0.055055,    0.056056,    0.057057,    0.058058,    0.059059,     0.06006,    0.061061,    0.062062,    0.063063,    0.064064,    0.065065,    0.066066,    0.067067,    0.068068,    0.069069,     0.07007,    0.071071,\n",
              "          0.072072,    0.073073,    0.074074,    0.075075,    0.076076,    0.077077,    0.078078,    0.079079,     0.08008,    0.081081,    0.082082,    0.083083,    0.084084,    0.085085,    0.086086,    0.087087,    0.088088,    0.089089,     0.09009,    0.091091,    0.092092,    0.093093,    0.094094,    0.095095,\n",
              "          0.096096,    0.097097,    0.098098,    0.099099,      0.1001,      0.1011,      0.1021,      0.1031,      0.1041,     0.10511,     0.10611,     0.10711,     0.10811,     0.10911,     0.11011,     0.11111,     0.11211,     0.11311,     0.11411,     0.11512,     0.11612,     0.11712,     0.11812,     0.11912,\n",
              "           0.12012,     0.12112,     0.12212,     0.12312,     0.12412,     0.12513,     0.12613,     0.12713,     0.12813,     0.12913,     0.13013,     0.13113,     0.13213,     0.13313,     0.13413,     0.13514,     0.13614,     0.13714,     0.13814,     0.13914,     0.14014,     0.14114,     0.14214,     0.14314,\n",
              "           0.14414,     0.14515,     0.14615,     0.14715,     0.14815,     0.14915,     0.15015,     0.15115,     0.15215,     0.15315,     0.15415,     0.15516,     0.15616,     0.15716,     0.15816,     0.15916,     0.16016,     0.16116,     0.16216,     0.16316,     0.16416,     0.16517,     0.16617,     0.16717,\n",
              "           0.16817,     0.16917,     0.17017,     0.17117,     0.17217,     0.17317,     0.17417,     0.17518,     0.17618,     0.17718,     0.17818,     0.17918,     0.18018,     0.18118,     0.18218,     0.18318,     0.18418,     0.18519,     0.18619,     0.18719,     0.18819,     0.18919,     0.19019,     0.19119,\n",
              "           0.19219,     0.19319,     0.19419,      0.1952,      0.1962,      0.1972,      0.1982,      0.1992,      0.2002,      0.2012,      0.2022,      0.2032,      0.2042,     0.20521,     0.20621,     0.20721,     0.20821,     0.20921,     0.21021,     0.21121,     0.21221,     0.21321,     0.21421,     0.21522,\n",
              "           0.21622,     0.21722,     0.21822,     0.21922,     0.22022,     0.22122,     0.22222,     0.22322,     0.22422,     0.22523,     0.22623,     0.22723,     0.22823,     0.22923,     0.23023,     0.23123,     0.23223,     0.23323,     0.23423,     0.23524,     0.23624,     0.23724,     0.23824,     0.23924,\n",
              "           0.24024,     0.24124,     0.24224,     0.24324,     0.24424,     0.24525,     0.24625,     0.24725,     0.24825,     0.24925,     0.25025,     0.25125,     0.25225,     0.25325,     0.25425,     0.25526,     0.25626,     0.25726,     0.25826,     0.25926,     0.26026,     0.26126,     0.26226,     0.26326,\n",
              "           0.26426,     0.26527,     0.26627,     0.26727,     0.26827,     0.26927,     0.27027,     0.27127,     0.27227,     0.27327,     0.27427,     0.27528,     0.27628,     0.27728,     0.27828,     0.27928,     0.28028,     0.28128,     0.28228,     0.28328,     0.28428,     0.28529,     0.28629,     0.28729,\n",
              "           0.28829,     0.28929,     0.29029,     0.29129,     0.29229,     0.29329,     0.29429,      0.2953,      0.2963,      0.2973,      0.2983,      0.2993,      0.3003,      0.3013,      0.3023,      0.3033,      0.3043,     0.30531,     0.30631,     0.30731,     0.30831,     0.30931,     0.31031,     0.31131,\n",
              "           0.31231,     0.31331,     0.31431,     0.31532,     0.31632,     0.31732,     0.31832,     0.31932,     0.32032,     0.32132,     0.32232,     0.32332,     0.32432,     0.32533,     0.32633,     0.32733,     0.32833,     0.32933,     0.33033,     0.33133,     0.33233,     0.33333,     0.33433,     0.33534,\n",
              "           0.33634,     0.33734,     0.33834,     0.33934,     0.34034,     0.34134,     0.34234,     0.34334,     0.34434,     0.34535,     0.34635,     0.34735,     0.34835,     0.34935,     0.35035,     0.35135,     0.35235,     0.35335,     0.35435,     0.35536,     0.35636,     0.35736,     0.35836,     0.35936,\n",
              "           0.36036,     0.36136,     0.36236,     0.36336,     0.36436,     0.36537,     0.36637,     0.36737,     0.36837,     0.36937,     0.37037,     0.37137,     0.37237,     0.37337,     0.37437,     0.37538,     0.37638,     0.37738,     0.37838,     0.37938,     0.38038,     0.38138,     0.38238,     0.38338,\n",
              "           0.38438,     0.38539,     0.38639,     0.38739,     0.38839,     0.38939,     0.39039,     0.39139,     0.39239,     0.39339,     0.39439,      0.3954,      0.3964,      0.3974,      0.3984,      0.3994,      0.4004,      0.4014,      0.4024,      0.4034,      0.4044,     0.40541,     0.40641,     0.40741,\n",
              "           0.40841,     0.40941,     0.41041,     0.41141,     0.41241,     0.41341,     0.41441,     0.41542,     0.41642,     0.41742,     0.41842,     0.41942,     0.42042,     0.42142,     0.42242,     0.42342,     0.42442,     0.42543,     0.42643,     0.42743,     0.42843,     0.42943,     0.43043,     0.43143,\n",
              "           0.43243,     0.43343,     0.43443,     0.43544,     0.43644,     0.43744,     0.43844,     0.43944,     0.44044,     0.44144,     0.44244,     0.44344,     0.44444,     0.44545,     0.44645,     0.44745,     0.44845,     0.44945,     0.45045,     0.45145,     0.45245,     0.45345,     0.45445,     0.45546,\n",
              "           0.45646,     0.45746,     0.45846,     0.45946,     0.46046,     0.46146,     0.46246,     0.46346,     0.46446,     0.46547,     0.46647,     0.46747,     0.46847,     0.46947,     0.47047,     0.47147,     0.47247,     0.47347,     0.47447,     0.47548,     0.47648,     0.47748,     0.47848,     0.47948,\n",
              "           0.48048,     0.48148,     0.48248,     0.48348,     0.48448,     0.48549,     0.48649,     0.48749,     0.48849,     0.48949,     0.49049,     0.49149,     0.49249,     0.49349,     0.49449,      0.4955,      0.4965,      0.4975,      0.4985,      0.4995,      0.5005,      0.5015,      0.5025,      0.5035,\n",
              "            0.5045,     0.50551,     0.50651,     0.50751,     0.50851,     0.50951,     0.51051,     0.51151,     0.51251,     0.51351,     0.51451,     0.51552,     0.51652,     0.51752,     0.51852,     0.51952,     0.52052,     0.52152,     0.52252,     0.52352,     0.52452,     0.52553,     0.52653,     0.52753,\n",
              "           0.52853,     0.52953,     0.53053,     0.53153,     0.53253,     0.53353,     0.53453,     0.53554,     0.53654,     0.53754,     0.53854,     0.53954,     0.54054,     0.54154,     0.54254,     0.54354,     0.54454,     0.54555,     0.54655,     0.54755,     0.54855,     0.54955,     0.55055,     0.55155,\n",
              "           0.55255,     0.55355,     0.55455,     0.55556,     0.55656,     0.55756,     0.55856,     0.55956,     0.56056,     0.56156,     0.56256,     0.56356,     0.56456,     0.56557,     0.56657,     0.56757,     0.56857,     0.56957,     0.57057,     0.57157,     0.57257,     0.57357,     0.57457,     0.57558,\n",
              "           0.57658,     0.57758,     0.57858,     0.57958,     0.58058,     0.58158,     0.58258,     0.58358,     0.58458,     0.58559,     0.58659,     0.58759,     0.58859,     0.58959,     0.59059,     0.59159,     0.59259,     0.59359,     0.59459,      0.5956,      0.5966,      0.5976,      0.5986,      0.5996,\n",
              "            0.6006,      0.6016,      0.6026,      0.6036,      0.6046,     0.60561,     0.60661,     0.60761,     0.60861,     0.60961,     0.61061,     0.61161,     0.61261,     0.61361,     0.61461,     0.61562,     0.61662,     0.61762,     0.61862,     0.61962,     0.62062,     0.62162,     0.62262,     0.62362,\n",
              "           0.62462,     0.62563,     0.62663,     0.62763,     0.62863,     0.62963,     0.63063,     0.63163,     0.63263,     0.63363,     0.63463,     0.63564,     0.63664,     0.63764,     0.63864,     0.63964,     0.64064,     0.64164,     0.64264,     0.64364,     0.64464,     0.64565,     0.64665,     0.64765,\n",
              "           0.64865,     0.64965,     0.65065,     0.65165,     0.65265,     0.65365,     0.65465,     0.65566,     0.65666,     0.65766,     0.65866,     0.65966,     0.66066,     0.66166,     0.66266,     0.66366,     0.66466,     0.66567,     0.66667,     0.66767,     0.66867,     0.66967,     0.67067,     0.67167,\n",
              "           0.67267,     0.67367,     0.67467,     0.67568,     0.67668,     0.67768,     0.67868,     0.67968,     0.68068,     0.68168,     0.68268,     0.68368,     0.68468,     0.68569,     0.68669,     0.68769,     0.68869,     0.68969,     0.69069,     0.69169,     0.69269,     0.69369,     0.69469,      0.6957,\n",
              "            0.6967,      0.6977,      0.6987,      0.6997,      0.7007,      0.7017,      0.7027,      0.7037,      0.7047,     0.70571,     0.70671,     0.70771,     0.70871,     0.70971,     0.71071,     0.71171,     0.71271,     0.71371,     0.71471,     0.71572,     0.71672,     0.71772,     0.71872,     0.71972,\n",
              "           0.72072,     0.72172,     0.72272,     0.72372,     0.72472,     0.72573,     0.72673,     0.72773,     0.72873,     0.72973,     0.73073,     0.73173,     0.73273,     0.73373,     0.73473,     0.73574,     0.73674,     0.73774,     0.73874,     0.73974,     0.74074,     0.74174,     0.74274,     0.74374,\n",
              "           0.74474,     0.74575,     0.74675,     0.74775,     0.74875,     0.74975,     0.75075,     0.75175,     0.75275,     0.75375,     0.75475,     0.75576,     0.75676,     0.75776,     0.75876,     0.75976,     0.76076,     0.76176,     0.76276,     0.76376,     0.76476,     0.76577,     0.76677,     0.76777,\n",
              "           0.76877,     0.76977,     0.77077,     0.77177,     0.77277,     0.77377,     0.77477,     0.77578,     0.77678,     0.77778,     0.77878,     0.77978,     0.78078,     0.78178,     0.78278,     0.78378,     0.78478,     0.78579,     0.78679,     0.78779,     0.78879,     0.78979,     0.79079,     0.79179,\n",
              "           0.79279,     0.79379,     0.79479,      0.7958,      0.7968,      0.7978,      0.7988,      0.7998,      0.8008,      0.8018,      0.8028,      0.8038,      0.8048,     0.80581,     0.80681,     0.80781,     0.80881,     0.80981,     0.81081,     0.81181,     0.81281,     0.81381,     0.81481,     0.81582,\n",
              "           0.81682,     0.81782,     0.81882,     0.81982,     0.82082,     0.82182,     0.82282,     0.82382,     0.82482,     0.82583,     0.82683,     0.82783,     0.82883,     0.82983,     0.83083,     0.83183,     0.83283,     0.83383,     0.83483,     0.83584,     0.83684,     0.83784,     0.83884,     0.83984,\n",
              "           0.84084,     0.84184,     0.84284,     0.84384,     0.84484,     0.84585,     0.84685,     0.84785,     0.84885,     0.84985,     0.85085,     0.85185,     0.85285,     0.85385,     0.85485,     0.85586,     0.85686,     0.85786,     0.85886,     0.85986,     0.86086,     0.86186,     0.86286,     0.86386,\n",
              "           0.86486,     0.86587,     0.86687,     0.86787,     0.86887,     0.86987,     0.87087,     0.87187,     0.87287,     0.87387,     0.87487,     0.87588,     0.87688,     0.87788,     0.87888,     0.87988,     0.88088,     0.88188,     0.88288,     0.88388,     0.88488,     0.88589,     0.88689,     0.88789,\n",
              "           0.88889,     0.88989,     0.89089,     0.89189,     0.89289,     0.89389,     0.89489,      0.8959,      0.8969,      0.8979,      0.8989,      0.8999,      0.9009,      0.9019,      0.9029,      0.9039,      0.9049,     0.90591,     0.90691,     0.90791,     0.90891,     0.90991,     0.91091,     0.91191,\n",
              "           0.91291,     0.91391,     0.91491,     0.91592,     0.91692,     0.91792,     0.91892,     0.91992,     0.92092,     0.92192,     0.92292,     0.92392,     0.92492,     0.92593,     0.92693,     0.92793,     0.92893,     0.92993,     0.93093,     0.93193,     0.93293,     0.93393,     0.93493,     0.93594,\n",
              "           0.93694,     0.93794,     0.93894,     0.93994,     0.94094,     0.94194,     0.94294,     0.94394,     0.94494,     0.94595,     0.94695,     0.94795,     0.94895,     0.94995,     0.95095,     0.95195,     0.95295,     0.95395,     0.95495,     0.95596,     0.95696,     0.95796,     0.95896,     0.95996,\n",
              "           0.96096,     0.96196,     0.96296,     0.96396,     0.96496,     0.96597,     0.96697,     0.96797,     0.96897,     0.96997,     0.97097,     0.97197,     0.97297,     0.97397,     0.97497,     0.97598,     0.97698,     0.97798,     0.97898,     0.97998,     0.98098,     0.98198,     0.98298,     0.98398,\n",
              "           0.98498,     0.98599,     0.98699,     0.98799,     0.98899,     0.98999,     0.99099,     0.99199,     0.99299,     0.99399,     0.99499,       0.996,       0.997,       0.998,       0.999,           1]), array([[   0.013162,    0.013162,    0.015306,    0.020031,    0.025545,    0.031235,    0.036457,    0.041539,     0.04633,    0.051453,      0.0565,      0.0619,      0.0676,    0.072725,    0.077397,    0.082883,    0.087887,    0.093195,     0.09773,     0.10353,     0.10914,     0.11243,      0.1183,\n",
              "            0.12369,     0.12817,     0.13356,     0.13707,     0.14055,     0.14632,      0.1519,     0.15618,     0.16117,     0.16717,     0.17144,       0.178,     0.18464,     0.18998,     0.19621,     0.19894,     0.20397,     0.21025,     0.21357,     0.21962,     0.22721,     0.23274,     0.23841,\n",
              "            0.24518,     0.25101,     0.25622,     0.26081,     0.26656,      0.2709,     0.27701,     0.28119,      0.2854,     0.29212,     0.29768,     0.30236,     0.30793,     0.30953,     0.31443,     0.31931,     0.32229,     0.32802,     0.33065,     0.33353,     0.33892,     0.34155,      0.3469,\n",
              "            0.35139,     0.35458,     0.35958,      0.3645,     0.36735,     0.36908,     0.37736,     0.37795,     0.38454,     0.38982,     0.39367,     0.40079,     0.40652,     0.41349,     0.41831,     0.42564,     0.43018,     0.43383,     0.43599,     0.44072,     0.44344,     0.44681,     0.45136,\n",
              "            0.45571,     0.45682,      0.4616,     0.46429,     0.46666,     0.46846,     0.47058,     0.47534,     0.47826,     0.47961,     0.48575,     0.48631,     0.49801,     0.50059,     0.50251,     0.50182,     0.50692,      0.5093,     0.51126,     0.51787,     0.52342,     0.52478,     0.52365,\n",
              "            0.52562,     0.52788,     0.52983,     0.53307,     0.53532,     0.53917,     0.54161,     0.54108,     0.54242,     0.54597,     0.54523,     0.54584,     0.55044,     0.55277,       0.554,     0.55339,     0.55539,     0.55432,      0.5565,     0.56108,     0.56271,      0.5645,     0.56606,\n",
              "             0.5683,      0.5716,     0.57471,     0.57662,     0.57892,     0.58102,     0.58479,      0.5865,     0.58944,      0.5918,     0.59692,     0.59597,     0.59881,     0.60019,     0.60196,     0.60809,     0.61039,     0.61116,      0.6132,     0.61541,     0.61783,     0.61907,      0.6202,\n",
              "            0.62263,     0.63006,     0.63364,     0.63578,     0.63934,     0.64178,     0.64493,     0.65049,     0.65417,     0.65995,     0.66602,      0.6747,      0.6757,     0.67669,     0.67768,     0.68013,     0.68127,     0.69143,     0.69353,     0.69468,     0.69583,     0.69871,     0.70189,\n",
              "            0.70366,     0.70471,     0.70576,     0.70897,     0.70821,     0.70755,     0.70758,     0.70947,     0.71118,     0.71256,     0.71394,     0.71832,     0.71926,      0.7202,     0.72115,     0.72261,     0.72467,     0.72923,     0.73208,      0.7359,     0.73648,     0.73601,     0.73554,\n",
              "            0.74064,      0.7432,     0.74288,     0.74243,     0.74198,     0.74315,      0.7445,     0.74585,     0.74827,     0.75822,     0.75769,     0.75717,      0.7578,     0.75958,     0.76125,     0.76222,      0.7632,     0.76417,     0.76515,     0.76488,     0.76425,     0.76567,     0.76813,\n",
              "            0.76803,     0.76766,     0.76729,     0.76683,      0.7662,     0.76593,     0.76689,     0.76784,     0.76879,     0.76974,     0.77058,     0.77133,     0.77208,     0.77283,     0.77358,     0.77434,     0.77602,     0.77812,     0.78675,     0.78795,     0.78761,     0.78727,     0.78692,\n",
              "            0.78645,     0.78599,       0.786,     0.78668,     0.78736,     0.78804,     0.78872,      0.7894,     0.79008,     0.79368,     0.79491,     0.79455,     0.79419,     0.79447,      0.7962,     0.79794,     0.79947,      0.8008,     0.80214,     0.80348,     0.80895,     0.81059,     0.81222,\n",
              "            0.81357,     0.81282,     0.81336,     0.81483,      0.8163,     0.81749,     0.81645,     0.81628,      0.8161,     0.81593,     0.81576,     0.81559,     0.81541,     0.81614,      0.8193,     0.82082,     0.82131,      0.8218,      0.8223,     0.82279,     0.82328,     0.82377,     0.82427,\n",
              "            0.82476,     0.82525,     0.82575,     0.82684,     0.82802,      0.8292,     0.83038,     0.83053,     0.82999,     0.82988,     0.82978,     0.82968,     0.82957,     0.82947,     0.82937,     0.82926,     0.82916,     0.82906,     0.82895,     0.83141,       0.834,     0.83436,     0.83427,\n",
              "            0.83418,     0.83409,       0.834,     0.83391,     0.83382,     0.83373,     0.83364,     0.83355,     0.83346,     0.83337,     0.83227,     0.83829,     0.83901,     0.83972,     0.84044,     0.84115,     0.84187,     0.84259,      0.8433,     0.84345,     0.84331,     0.84317,     0.84303,\n",
              "             0.8429,     0.84276,     0.84262,     0.84249,     0.84395,     0.84569,     0.84743,     0.84753,     0.84872,     0.84992,     0.85111,      0.8523,     0.85251,     0.85413,     0.85658,     0.85811,     0.85799,     0.85786,     0.85774,     0.85762,     0.85749,     0.85737,     0.85725,\n",
              "             0.8572,     0.85756,     0.85791,     0.85827,     0.85862,     0.85898,     0.85933,     0.85969,     0.86004,      0.8604,     0.86075,     0.86111,     0.86146,     0.86182,     0.86217,     0.86253,     0.86288,     0.86324,     0.86951,     0.86938,     0.86924,     0.86911,     0.86898,\n",
              "            0.86885,     0.86872,     0.86857,     0.86839,     0.86821,     0.86803,     0.86786,     0.86768,     0.86753,     0.86739,     0.86725,     0.86711,     0.86697,     0.86683,      0.8667,     0.86826,     0.87026,     0.87227,     0.87259,     0.87151,     0.87285,     0.87418,     0.87552,\n",
              "            0.87686,     0.87782,     0.87764,     0.87746,     0.87728,     0.87711,     0.87693,     0.87898,     0.88111,     0.88324,     0.88703,     0.89159,     0.89763,     0.89754,     0.89745,     0.89735,     0.89726,     0.89717,     0.89707,     0.89698,     0.89688,     0.90397,     0.90386,\n",
              "            0.90375,     0.90363,     0.90352,     0.90341,      0.9033,     0.90321,     0.90316,     0.90312,     0.90307,     0.90302,     0.90297,     0.90293,     0.90288,     0.90283,     0.90278,     0.90274,     0.90269,     0.90264,      0.9026,     0.90255,      0.9025,     0.90245,     0.90301,\n",
              "             0.9038,     0.90459,     0.90539,     0.90618,     0.90698,     0.90777,     0.90857,     0.90936,     0.91046,     0.91199,     0.91352,     0.91506,     0.91659,     0.91715,     0.91673,     0.91589,     0.91574,     0.91559,     0.91545,      0.9153,     0.91514,     0.91496,     0.91478,\n",
              "            0.91461,     0.91366,     0.91365,     0.91469,     0.91573,     0.91678,     0.91782,     0.91886,     0.91991,     0.92095,     0.92318,     0.92554,      0.9279,     0.92914,       0.929,     0.92885,     0.92871,     0.92856,     0.92803,      0.9271,     0.92645,     0.92607,     0.92518,\n",
              "            0.92504,     0.92489,     0.92474,      0.9246,     0.92413,     0.92376,     0.92368,      0.9236,     0.92352,     0.92344,     0.92336,     0.92328,     0.92319,     0.92311,     0.92294,     0.92269,     0.92244,     0.92167,     0.92475,     0.92821,     0.93322,     0.94035,     0.94186,\n",
              "            0.94337,     0.94487,     0.94638,     0.94789,      0.9494,     0.95397,     0.95868,     0.95857,     0.95846,     0.95835,     0.95828,     0.95821,     0.95815,     0.95808,     0.95801,     0.95794,     0.95787,     0.95779,     0.95771,     0.95762,     0.95754,     0.95746,     0.95713,\n",
              "            0.95654,     0.95638,     0.95623,     0.95608,     0.96118,     0.96666,     0.96661,     0.96656,     0.96652,     0.96647,     0.96643,     0.96638,     0.96633,     0.96628,     0.96618,     0.96608,     0.96598,      0.9659,     0.96586,     0.96582,     0.96577,     0.96573,     0.96569,\n",
              "            0.96565,     0.96561,     0.96557,     0.96553,     0.96526,     0.96506,     0.96498,     0.96489,     0.96481,     0.96472,     0.96462,     0.96452,     0.96441,      0.9643,     0.96419,     0.96408,     0.96397,     0.96387,     0.96376,     0.96366,     0.96356,     0.96346,     0.96332,\n",
              "            0.96317,     0.96302,     0.96269,     0.96219,     0.96153,     0.96146,      0.9614,     0.96133,     0.96126,     0.96119,     0.96112,     0.96106,     0.96085,      0.9606,     0.96012,     0.95945,     0.95933,     0.95922,     0.95911,       0.959,     0.95854,     0.95761,     0.95563,\n",
              "            0.95527,     0.95507,     0.95488,      0.9547,     0.95452,     0.95433,     0.95414,     0.95394,     0.95304,     0.95285,     0.95267,     0.95248,     0.95231,     0.95214,     0.95198,     0.95182,     0.95165,      0.9507,     0.95048,     0.95027,     0.95005,      0.9497,     0.94931,\n",
              "             0.9487,     0.94768,     0.94724,     0.94707,     0.94691,     0.94674,     0.94658,     0.94555,      0.9447,     0.94432,     0.94413,     0.94394,     0.94375,     0.94356,     0.94338,     0.94323,     0.94309,     0.94294,      0.9428,     0.94266,     0.94251,     0.94237,     0.94196,\n",
              "            0.94135,     0.94311,     0.94585,     0.94858,     0.95132,     0.95406,     0.95679,     0.95953,     0.95902,      0.9587,     0.95838,     0.95807,     0.95775,     0.95811,     0.97564,     0.97787,     0.97729,     0.97718,     0.97708,     0.97698,     0.97688,     0.97678,     0.97634,\n",
              "             0.9779,     0.98015,      0.9824,     0.98465,      0.9869,     0.98914,     0.99139,     0.99364,     0.99589,     0.99814,           1,           1,           1,           1,           1,           1,           1,           1,           1,           1,           1,           1,           1,\n",
              "                  1,           1,           1,           1,           1,           1,           1,           1,           1,           1,           1,           1,           1,           1,           1,           1,           1,           1,           1,           1,           1,           1,           1,\n",
              "                  1,           1,           1,           1,           1,           1,           1,           1,           1,           1,           1,           1,           1,           1,           1,           1,           1,           1,           1,           1,           1,           1,           1,\n",
              "                  1,           1,           1,           1,           1,           1,           1,           1,           1,           1,           1,           1,           1,           1,           1,           1,           1,           1,           1,           1,           1,           1,           1,\n",
              "                  1,           1,           1,           1,           1,           1,           1,           1,           1,           1,           1,           1,           1,           1,           1,           1,           1,           1,           1,           1,           1,           1,           1,\n",
              "                  1,           1,           1,           1,           1,           1,           1,           1,           1,           1,           1,           1,           1,           1,           1,           1,           1,           1,           1,           1,           1,           1,           1,\n",
              "                  1,           1,           1,           1,           1,           1,           1,           1,           1,           1,           1,           1,           1,           1,           1,           1,           1,           1,           1,           1,           1,           1,           1,\n",
              "                  1,           1,           1,           1,           1,           1,           1,           1,           1,           1,           1,           1,           1,           1,           1,           1,           1,           1,           1,           1,           1,           1,           1,\n",
              "                  1,           1,           1,           1,           1,           1,           1,           1,           1,           1,           1,           1,           1,           1,           1,           1,           1,           1,           1,           1,           1,           1,           1,\n",
              "                  1,           1,           1,           1,           1,           1,           1,           1,           1,           1,           1,           1,           1,           1,           1,           1,           1,           1,           1,           1,           1,           1,           1,\n",
              "                  1,           1,           1,           1,           1,           1,           1,           1,           1,           1,           1,           1,           1,           1,           1,           1,           1,           1,           1,           1,           1,           1,           1,\n",
              "                  1,           1,           1,           1,           1,           1,           1,           1,           1,           1,           1,           1,           1,           1,           1,           1,           1,           1,           1,           1,           1,           1,           1,\n",
              "                  1,           1,           1,           1,           1,           1,           1,           1,           1,           1,           1,           1,           1,           1,           1,           1,           1,           1,           1,           1,           1,           1,           1,\n",
              "                  1,           1,           1,           1,           1,           1,           1,           1,           1,           1,           1]]), 'Confidence', 'Precision'], [array([          0,    0.001001,    0.002002,    0.003003,    0.004004,    0.005005,    0.006006,    0.007007,    0.008008,    0.009009,     0.01001,    0.011011,    0.012012,    0.013013,    0.014014,    0.015015,    0.016016,    0.017017,    0.018018,    0.019019,     0.02002,    0.021021,    0.022022,    0.023023,\n",
              "          0.024024,    0.025025,    0.026026,    0.027027,    0.028028,    0.029029,     0.03003,    0.031031,    0.032032,    0.033033,    0.034034,    0.035035,    0.036036,    0.037037,    0.038038,    0.039039,     0.04004,    0.041041,    0.042042,    0.043043,    0.044044,    0.045045,    0.046046,    0.047047,\n",
              "          0.048048,    0.049049,     0.05005,    0.051051,    0.052052,    0.053053,    0.054054,    0.055055,    0.056056,    0.057057,    0.058058,    0.059059,     0.06006,    0.061061,    0.062062,    0.063063,    0.064064,    0.065065,    0.066066,    0.067067,    0.068068,    0.069069,     0.07007,    0.071071,\n",
              "          0.072072,    0.073073,    0.074074,    0.075075,    0.076076,    0.077077,    0.078078,    0.079079,     0.08008,    0.081081,    0.082082,    0.083083,    0.084084,    0.085085,    0.086086,    0.087087,    0.088088,    0.089089,     0.09009,    0.091091,    0.092092,    0.093093,    0.094094,    0.095095,\n",
              "          0.096096,    0.097097,    0.098098,    0.099099,      0.1001,      0.1011,      0.1021,      0.1031,      0.1041,     0.10511,     0.10611,     0.10711,     0.10811,     0.10911,     0.11011,     0.11111,     0.11211,     0.11311,     0.11411,     0.11512,     0.11612,     0.11712,     0.11812,     0.11912,\n",
              "           0.12012,     0.12112,     0.12212,     0.12312,     0.12412,     0.12513,     0.12613,     0.12713,     0.12813,     0.12913,     0.13013,     0.13113,     0.13213,     0.13313,     0.13413,     0.13514,     0.13614,     0.13714,     0.13814,     0.13914,     0.14014,     0.14114,     0.14214,     0.14314,\n",
              "           0.14414,     0.14515,     0.14615,     0.14715,     0.14815,     0.14915,     0.15015,     0.15115,     0.15215,     0.15315,     0.15415,     0.15516,     0.15616,     0.15716,     0.15816,     0.15916,     0.16016,     0.16116,     0.16216,     0.16316,     0.16416,     0.16517,     0.16617,     0.16717,\n",
              "           0.16817,     0.16917,     0.17017,     0.17117,     0.17217,     0.17317,     0.17417,     0.17518,     0.17618,     0.17718,     0.17818,     0.17918,     0.18018,     0.18118,     0.18218,     0.18318,     0.18418,     0.18519,     0.18619,     0.18719,     0.18819,     0.18919,     0.19019,     0.19119,\n",
              "           0.19219,     0.19319,     0.19419,      0.1952,      0.1962,      0.1972,      0.1982,      0.1992,      0.2002,      0.2012,      0.2022,      0.2032,      0.2042,     0.20521,     0.20621,     0.20721,     0.20821,     0.20921,     0.21021,     0.21121,     0.21221,     0.21321,     0.21421,     0.21522,\n",
              "           0.21622,     0.21722,     0.21822,     0.21922,     0.22022,     0.22122,     0.22222,     0.22322,     0.22422,     0.22523,     0.22623,     0.22723,     0.22823,     0.22923,     0.23023,     0.23123,     0.23223,     0.23323,     0.23423,     0.23524,     0.23624,     0.23724,     0.23824,     0.23924,\n",
              "           0.24024,     0.24124,     0.24224,     0.24324,     0.24424,     0.24525,     0.24625,     0.24725,     0.24825,     0.24925,     0.25025,     0.25125,     0.25225,     0.25325,     0.25425,     0.25526,     0.25626,     0.25726,     0.25826,     0.25926,     0.26026,     0.26126,     0.26226,     0.26326,\n",
              "           0.26426,     0.26527,     0.26627,     0.26727,     0.26827,     0.26927,     0.27027,     0.27127,     0.27227,     0.27327,     0.27427,     0.27528,     0.27628,     0.27728,     0.27828,     0.27928,     0.28028,     0.28128,     0.28228,     0.28328,     0.28428,     0.28529,     0.28629,     0.28729,\n",
              "           0.28829,     0.28929,     0.29029,     0.29129,     0.29229,     0.29329,     0.29429,      0.2953,      0.2963,      0.2973,      0.2983,      0.2993,      0.3003,      0.3013,      0.3023,      0.3033,      0.3043,     0.30531,     0.30631,     0.30731,     0.30831,     0.30931,     0.31031,     0.31131,\n",
              "           0.31231,     0.31331,     0.31431,     0.31532,     0.31632,     0.31732,     0.31832,     0.31932,     0.32032,     0.32132,     0.32232,     0.32332,     0.32432,     0.32533,     0.32633,     0.32733,     0.32833,     0.32933,     0.33033,     0.33133,     0.33233,     0.33333,     0.33433,     0.33534,\n",
              "           0.33634,     0.33734,     0.33834,     0.33934,     0.34034,     0.34134,     0.34234,     0.34334,     0.34434,     0.34535,     0.34635,     0.34735,     0.34835,     0.34935,     0.35035,     0.35135,     0.35235,     0.35335,     0.35435,     0.35536,     0.35636,     0.35736,     0.35836,     0.35936,\n",
              "           0.36036,     0.36136,     0.36236,     0.36336,     0.36436,     0.36537,     0.36637,     0.36737,     0.36837,     0.36937,     0.37037,     0.37137,     0.37237,     0.37337,     0.37437,     0.37538,     0.37638,     0.37738,     0.37838,     0.37938,     0.38038,     0.38138,     0.38238,     0.38338,\n",
              "           0.38438,     0.38539,     0.38639,     0.38739,     0.38839,     0.38939,     0.39039,     0.39139,     0.39239,     0.39339,     0.39439,      0.3954,      0.3964,      0.3974,      0.3984,      0.3994,      0.4004,      0.4014,      0.4024,      0.4034,      0.4044,     0.40541,     0.40641,     0.40741,\n",
              "           0.40841,     0.40941,     0.41041,     0.41141,     0.41241,     0.41341,     0.41441,     0.41542,     0.41642,     0.41742,     0.41842,     0.41942,     0.42042,     0.42142,     0.42242,     0.42342,     0.42442,     0.42543,     0.42643,     0.42743,     0.42843,     0.42943,     0.43043,     0.43143,\n",
              "           0.43243,     0.43343,     0.43443,     0.43544,     0.43644,     0.43744,     0.43844,     0.43944,     0.44044,     0.44144,     0.44244,     0.44344,     0.44444,     0.44545,     0.44645,     0.44745,     0.44845,     0.44945,     0.45045,     0.45145,     0.45245,     0.45345,     0.45445,     0.45546,\n",
              "           0.45646,     0.45746,     0.45846,     0.45946,     0.46046,     0.46146,     0.46246,     0.46346,     0.46446,     0.46547,     0.46647,     0.46747,     0.46847,     0.46947,     0.47047,     0.47147,     0.47247,     0.47347,     0.47447,     0.47548,     0.47648,     0.47748,     0.47848,     0.47948,\n",
              "           0.48048,     0.48148,     0.48248,     0.48348,     0.48448,     0.48549,     0.48649,     0.48749,     0.48849,     0.48949,     0.49049,     0.49149,     0.49249,     0.49349,     0.49449,      0.4955,      0.4965,      0.4975,      0.4985,      0.4995,      0.5005,      0.5015,      0.5025,      0.5035,\n",
              "            0.5045,     0.50551,     0.50651,     0.50751,     0.50851,     0.50951,     0.51051,     0.51151,     0.51251,     0.51351,     0.51451,     0.51552,     0.51652,     0.51752,     0.51852,     0.51952,     0.52052,     0.52152,     0.52252,     0.52352,     0.52452,     0.52553,     0.52653,     0.52753,\n",
              "           0.52853,     0.52953,     0.53053,     0.53153,     0.53253,     0.53353,     0.53453,     0.53554,     0.53654,     0.53754,     0.53854,     0.53954,     0.54054,     0.54154,     0.54254,     0.54354,     0.54454,     0.54555,     0.54655,     0.54755,     0.54855,     0.54955,     0.55055,     0.55155,\n",
              "           0.55255,     0.55355,     0.55455,     0.55556,     0.55656,     0.55756,     0.55856,     0.55956,     0.56056,     0.56156,     0.56256,     0.56356,     0.56456,     0.56557,     0.56657,     0.56757,     0.56857,     0.56957,     0.57057,     0.57157,     0.57257,     0.57357,     0.57457,     0.57558,\n",
              "           0.57658,     0.57758,     0.57858,     0.57958,     0.58058,     0.58158,     0.58258,     0.58358,     0.58458,     0.58559,     0.58659,     0.58759,     0.58859,     0.58959,     0.59059,     0.59159,     0.59259,     0.59359,     0.59459,      0.5956,      0.5966,      0.5976,      0.5986,      0.5996,\n",
              "            0.6006,      0.6016,      0.6026,      0.6036,      0.6046,     0.60561,     0.60661,     0.60761,     0.60861,     0.60961,     0.61061,     0.61161,     0.61261,     0.61361,     0.61461,     0.61562,     0.61662,     0.61762,     0.61862,     0.61962,     0.62062,     0.62162,     0.62262,     0.62362,\n",
              "           0.62462,     0.62563,     0.62663,     0.62763,     0.62863,     0.62963,     0.63063,     0.63163,     0.63263,     0.63363,     0.63463,     0.63564,     0.63664,     0.63764,     0.63864,     0.63964,     0.64064,     0.64164,     0.64264,     0.64364,     0.64464,     0.64565,     0.64665,     0.64765,\n",
              "           0.64865,     0.64965,     0.65065,     0.65165,     0.65265,     0.65365,     0.65465,     0.65566,     0.65666,     0.65766,     0.65866,     0.65966,     0.66066,     0.66166,     0.66266,     0.66366,     0.66466,     0.66567,     0.66667,     0.66767,     0.66867,     0.66967,     0.67067,     0.67167,\n",
              "           0.67267,     0.67367,     0.67467,     0.67568,     0.67668,     0.67768,     0.67868,     0.67968,     0.68068,     0.68168,     0.68268,     0.68368,     0.68468,     0.68569,     0.68669,     0.68769,     0.68869,     0.68969,     0.69069,     0.69169,     0.69269,     0.69369,     0.69469,      0.6957,\n",
              "            0.6967,      0.6977,      0.6987,      0.6997,      0.7007,      0.7017,      0.7027,      0.7037,      0.7047,     0.70571,     0.70671,     0.70771,     0.70871,     0.70971,     0.71071,     0.71171,     0.71271,     0.71371,     0.71471,     0.71572,     0.71672,     0.71772,     0.71872,     0.71972,\n",
              "           0.72072,     0.72172,     0.72272,     0.72372,     0.72472,     0.72573,     0.72673,     0.72773,     0.72873,     0.72973,     0.73073,     0.73173,     0.73273,     0.73373,     0.73473,     0.73574,     0.73674,     0.73774,     0.73874,     0.73974,     0.74074,     0.74174,     0.74274,     0.74374,\n",
              "           0.74474,     0.74575,     0.74675,     0.74775,     0.74875,     0.74975,     0.75075,     0.75175,     0.75275,     0.75375,     0.75475,     0.75576,     0.75676,     0.75776,     0.75876,     0.75976,     0.76076,     0.76176,     0.76276,     0.76376,     0.76476,     0.76577,     0.76677,     0.76777,\n",
              "           0.76877,     0.76977,     0.77077,     0.77177,     0.77277,     0.77377,     0.77477,     0.77578,     0.77678,     0.77778,     0.77878,     0.77978,     0.78078,     0.78178,     0.78278,     0.78378,     0.78478,     0.78579,     0.78679,     0.78779,     0.78879,     0.78979,     0.79079,     0.79179,\n",
              "           0.79279,     0.79379,     0.79479,      0.7958,      0.7968,      0.7978,      0.7988,      0.7998,      0.8008,      0.8018,      0.8028,      0.8038,      0.8048,     0.80581,     0.80681,     0.80781,     0.80881,     0.80981,     0.81081,     0.81181,     0.81281,     0.81381,     0.81481,     0.81582,\n",
              "           0.81682,     0.81782,     0.81882,     0.81982,     0.82082,     0.82182,     0.82282,     0.82382,     0.82482,     0.82583,     0.82683,     0.82783,     0.82883,     0.82983,     0.83083,     0.83183,     0.83283,     0.83383,     0.83483,     0.83584,     0.83684,     0.83784,     0.83884,     0.83984,\n",
              "           0.84084,     0.84184,     0.84284,     0.84384,     0.84484,     0.84585,     0.84685,     0.84785,     0.84885,     0.84985,     0.85085,     0.85185,     0.85285,     0.85385,     0.85485,     0.85586,     0.85686,     0.85786,     0.85886,     0.85986,     0.86086,     0.86186,     0.86286,     0.86386,\n",
              "           0.86486,     0.86587,     0.86687,     0.86787,     0.86887,     0.86987,     0.87087,     0.87187,     0.87287,     0.87387,     0.87487,     0.87588,     0.87688,     0.87788,     0.87888,     0.87988,     0.88088,     0.88188,     0.88288,     0.88388,     0.88488,     0.88589,     0.88689,     0.88789,\n",
              "           0.88889,     0.88989,     0.89089,     0.89189,     0.89289,     0.89389,     0.89489,      0.8959,      0.8969,      0.8979,      0.8989,      0.8999,      0.9009,      0.9019,      0.9029,      0.9039,      0.9049,     0.90591,     0.90691,     0.90791,     0.90891,     0.90991,     0.91091,     0.91191,\n",
              "           0.91291,     0.91391,     0.91491,     0.91592,     0.91692,     0.91792,     0.91892,     0.91992,     0.92092,     0.92192,     0.92292,     0.92392,     0.92492,     0.92593,     0.92693,     0.92793,     0.92893,     0.92993,     0.93093,     0.93193,     0.93293,     0.93393,     0.93493,     0.93594,\n",
              "           0.93694,     0.93794,     0.93894,     0.93994,     0.94094,     0.94194,     0.94294,     0.94394,     0.94494,     0.94595,     0.94695,     0.94795,     0.94895,     0.94995,     0.95095,     0.95195,     0.95295,     0.95395,     0.95495,     0.95596,     0.95696,     0.95796,     0.95896,     0.95996,\n",
              "           0.96096,     0.96196,     0.96296,     0.96396,     0.96496,     0.96597,     0.96697,     0.96797,     0.96897,     0.96997,     0.97097,     0.97197,     0.97297,     0.97397,     0.97497,     0.97598,     0.97698,     0.97798,     0.97898,     0.97998,     0.98098,     0.98198,     0.98298,     0.98398,\n",
              "           0.98498,     0.98599,     0.98699,     0.98799,     0.98899,     0.98999,     0.99099,     0.99199,     0.99299,     0.99399,     0.99499,       0.996,       0.997,       0.998,       0.999,           1]), array([[    0.99487,     0.99487,     0.99487,     0.98974,     0.98974,     0.98974,     0.98974,     0.98974,     0.98974,     0.98974,     0.98974,     0.98974,     0.98974,     0.98974,     0.98462,     0.98462,     0.97949,     0.97949,     0.97436,     0.96923,     0.96923,     0.95897,     0.95897,\n",
              "            0.95385,     0.95385,     0.95385,     0.94359,     0.93846,     0.93846,     0.93846,     0.93333,     0.93333,     0.93333,     0.93333,     0.93333,     0.93333,     0.92308,     0.92308,     0.91282,     0.90769,     0.90769,     0.89744,     0.89744,     0.89744,     0.89744,     0.89744,\n",
              "            0.89744,     0.89744,     0.89744,     0.89231,     0.88718,     0.88718,     0.88718,     0.88205,     0.87692,     0.87692,     0.87692,     0.87692,     0.87692,     0.87179,     0.86667,     0.86667,     0.85846,     0.85641,     0.85641,     0.84615,     0.84615,     0.84615,     0.84615,\n",
              "            0.84103,     0.84103,     0.84103,      0.8359,      0.8359,       0.831,     0.83077,     0.82881,     0.82564,     0.82564,     0.82564,     0.82564,     0.82564,     0.82564,     0.82051,     0.82051,     0.81538,     0.81538,     0.81538,     0.81538,     0.81538,     0.81538,     0.81538,\n",
              "            0.81538,     0.81538,     0.81538,     0.81538,     0.81538,     0.81538,     0.81538,     0.81538,     0.81538,     0.81538,     0.81379,     0.81026,     0.81026,     0.81026,     0.81026,     0.80584,     0.80513,     0.80513,     0.80513,     0.80513,     0.80513,     0.80513,     0.79487,\n",
              "            0.79487,     0.79487,     0.79487,     0.78974,     0.78974,     0.78974,     0.78974,     0.78602,     0.78462,     0.78316,     0.78083,     0.77949,     0.77949,     0.77949,     0.77949,     0.77523,     0.76872,     0.76539,      0.7641,      0.7641,      0.7641,      0.7641,      0.7641,\n",
              "             0.7641,      0.7641,      0.7641,     0.76129,     0.75897,     0.75897,     0.75897,     0.75897,     0.75897,     0.75385,     0.75385,     0.74888,     0.74872,     0.74872,     0.74872,     0.74872,     0.74872,     0.74359,     0.73846,     0.73846,     0.73846,     0.73846,     0.73846,\n",
              "            0.73846,     0.73846,     0.73846,     0.73846,     0.73846,     0.73846,     0.73846,     0.73494,     0.73333,     0.73333,     0.73333,     0.73333,     0.73333,     0.73333,     0.73333,     0.73057,     0.72821,     0.72821,     0.72821,     0.72821,     0.72821,     0.72821,     0.72821,\n",
              "            0.72821,     0.72821,     0.72821,     0.72821,     0.72193,     0.71963,     0.71795,     0.71795,     0.71795,     0.71795,     0.71795,     0.71795,     0.71795,     0.71795,     0.71795,     0.71795,     0.71795,     0.71795,     0.71795,     0.71795,      0.7166,     0.71487,     0.71314,\n",
              "            0.71282,     0.71282,     0.71122,     0.70953,     0.70785,     0.70769,     0.70769,     0.70769,     0.70769,     0.70761,     0.70558,     0.70356,     0.70256,     0.70256,     0.70256,     0.70256,     0.70256,     0.70256,     0.70256,     0.70068,     0.69825,     0.69744,     0.69744,\n",
              "            0.69613,     0.69469,     0.69325,     0.69147,     0.68905,     0.68718,     0.68718,     0.68718,     0.68718,     0.68718,     0.68718,     0.68718,     0.68718,     0.68718,     0.68718,     0.68718,     0.68718,     0.68718,     0.68718,     0.68603,     0.68464,     0.68325,     0.68179,\n",
              "            0.67991,     0.67802,     0.67692,     0.67692,     0.67692,     0.67692,     0.67692,     0.67692,     0.67692,     0.67692,     0.67578,      0.6743,     0.67283,     0.67179,     0.67179,     0.67179,     0.67179,     0.67179,     0.67179,     0.67179,     0.67179,     0.67179,     0.67179,\n",
              "            0.67139,     0.66805,     0.66667,     0.66667,     0.66667,     0.66612,     0.66151,     0.66075,     0.65999,     0.65923,     0.65848,     0.65772,     0.65696,     0.65641,     0.65641,     0.65641,     0.65641,     0.65641,     0.65641,     0.65641,     0.65641,     0.65641,     0.65641,\n",
              "            0.65641,     0.65641,     0.65641,     0.65641,     0.65641,     0.65641,     0.65641,     0.65346,     0.65092,     0.65045,     0.64998,      0.6495,     0.64903,     0.64855,     0.64808,      0.6476,     0.64713,     0.64665,     0.64618,     0.64615,     0.64615,      0.6458,     0.64539,\n",
              "            0.64497,     0.64455,     0.64413,     0.64371,     0.64329,     0.64287,     0.64245,     0.64203,     0.64161,     0.64119,     0.63613,      0.6359,      0.6359,      0.6359,      0.6359,      0.6359,      0.6359,      0.6359,      0.6359,     0.63546,      0.6348,     0.63415,     0.63349,\n",
              "            0.63283,     0.63218,     0.63152,     0.63086,     0.63077,     0.63077,     0.63077,     0.62564,     0.62564,     0.62564,     0.62564,     0.62564,     0.62247,     0.62051,     0.62051,     0.62029,     0.61966,     0.61904,     0.61841,     0.61778,     0.61716,     0.61653,     0.61591,\n",
              "            0.61538,     0.61538,     0.61538,     0.61538,     0.61538,     0.61538,     0.61538,     0.61538,     0.61538,     0.61538,     0.61538,     0.61538,     0.61538,     0.61538,     0.61538,     0.61538,     0.61538,     0.61538,     0.61508,     0.61437,     0.61366,     0.61294,     0.61223,\n",
              "            0.61152,     0.61081,     0.61004,     0.60909,     0.60814,     0.60719,     0.60624,     0.60528,     0.60452,     0.60379,     0.60306,     0.60233,     0.60161,     0.60088,     0.60015,         0.6,         0.6,         0.6,      0.5971,     0.58974,     0.58974,     0.58974,     0.58974,\n",
              "            0.58974,      0.5895,     0.58853,     0.58756,     0.58659,     0.58562,     0.58465,     0.58462,     0.58462,     0.58462,     0.58462,     0.58462,     0.58462,     0.58402,     0.58342,     0.58283,     0.58223,     0.58164,     0.58104,     0.58044,     0.57985,     0.57926,     0.57853,\n",
              "             0.5778,     0.57707,     0.57634,     0.57561,     0.57488,     0.57427,     0.57396,     0.57365,     0.57334,     0.57303,     0.57272,     0.57241,      0.5721,     0.57179,     0.57149,     0.57118,     0.57087,     0.57056,     0.57025,     0.56994,     0.56963,     0.56932,     0.56923,\n",
              "            0.56923,     0.56923,     0.56923,     0.56923,     0.56923,     0.56923,     0.56923,     0.56923,     0.56923,     0.56923,     0.56923,     0.56923,     0.56923,     0.56767,     0.56457,      0.5584,     0.55734,     0.55629,     0.55524,     0.55419,       0.553,     0.55175,      0.5505,\n",
              "            0.54925,     0.54267,     0.53846,     0.53846,     0.53846,     0.53846,     0.53846,     0.53846,     0.53846,     0.53846,     0.53846,     0.53846,     0.53846,     0.53794,     0.53678,     0.53562,     0.53446,     0.53323,     0.52902,     0.52173,      0.5168,     0.51391,      0.5073,\n",
              "            0.50625,     0.50519,     0.50414,     0.50308,     0.49969,      0.4971,     0.49653,     0.49596,      0.4954,     0.49483,     0.49426,      0.4937,     0.49313,     0.49257,     0.49137,     0.48964,     0.48792,      0.4827,     0.48205,     0.48205,     0.48205,     0.48205,     0.48205,\n",
              "            0.48205,     0.48205,     0.48205,     0.48205,     0.48205,     0.47692,     0.47597,     0.47466,     0.47335,     0.47204,     0.47116,     0.47038,      0.4696,     0.46881,     0.46803,     0.46725,     0.46642,     0.46547,     0.46451,     0.46355,     0.46259,     0.46164,     0.45796,\n",
              "            0.45153,     0.44974,     0.44815,     0.44656,     0.44615,     0.44602,     0.44539,     0.44476,     0.44413,      0.4435,     0.44287,     0.44223,      0.4416,     0.44091,     0.43955,     0.43819,     0.43683,     0.43573,      0.4352,     0.43467,     0.43414,     0.43361,     0.43308,\n",
              "            0.43255,     0.43202,     0.43149,     0.43096,     0.42752,     0.42498,     0.42392,     0.42286,      0.4218,     0.42074,     0.41949,     0.41819,     0.41688,     0.41558,     0.41428,     0.41298,     0.41167,     0.41037,     0.40917,     0.40799,      0.4068,     0.40561,     0.40409,\n",
              "            0.40236,     0.40063,     0.39699,     0.39153,     0.38454,     0.38385,     0.38315,     0.38245,     0.38176,     0.38106,     0.38037,     0.37967,      0.3776,     0.37505,     0.37039,     0.36399,     0.36295,     0.36192,     0.36089,     0.35985,      0.3557,     0.34755,     0.33134,\n",
              "            0.32856,     0.32701,     0.32564,     0.32427,      0.3229,     0.32148,     0.32007,     0.31866,     0.31224,     0.31096,     0.30968,      0.3084,     0.30721,     0.30611,     0.30502,     0.30392,     0.30282,     0.29667,     0.29532,     0.29398,     0.29264,     0.29052,     0.28814,\n",
              "            0.28454,     0.27868,     0.27623,     0.27532,     0.27442,     0.27351,     0.27261,     0.26716,     0.26284,     0.26092,        0.26,     0.25907,     0.25814,     0.25721,     0.25632,     0.25564,     0.25496,     0.25428,     0.25361,     0.25293,     0.25225,     0.25157,     0.24971,\n",
              "            0.24696,     0.24615,     0.24615,     0.24615,     0.24615,     0.24615,     0.24615,     0.24615,     0.24006,     0.23813,      0.2362,     0.23436,     0.23253,     0.23077,     0.23077,     0.22667,      0.2207,     0.21958,     0.21862,     0.21765,     0.21669,     0.21573,     0.21166,\n",
              "            0.21026,     0.21026,     0.21026,     0.21026,     0.21026,     0.21026,     0.21026,     0.21026,     0.21026,     0.21026,     0.20997,     0.20832,     0.20666,     0.20443,     0.19676,     0.18964,     0.18905,     0.18845,     0.18785,     0.18725,     0.18666,     0.18606,     0.18546,\n",
              "            0.18486,      0.1831,     0.18051,     0.17661,     0.16898,     0.16605,     0.16324,     0.16064,     0.15371,     0.15287,     0.15204,      0.1512,     0.15037,     0.14953,      0.1487,       0.148,     0.14731,     0.14661,     0.14592,     0.14522,     0.14453,     0.14383,     0.14121,\n",
              "            0.13316,     0.13138,      0.1296,     0.12809,     0.12755,     0.12701,     0.12647,     0.12592,     0.12538,     0.12484,      0.1243,     0.12376,     0.12322,     0.12226,     0.12116,     0.12006,     0.11896,     0.11786,     0.11681,     0.11576,     0.11471,     0.11366,     0.10765,\n",
              "            0.10736,     0.10706,     0.10677,     0.10648,     0.10618,     0.10589,     0.10559,      0.1053,       0.105,     0.10471,     0.10441,     0.10412,     0.10383,     0.10353,     0.10324,     0.10294,     0.10265,     0.09504,    0.091921,    0.090747,    0.089574,      0.0884,    0.087226,\n",
              "           0.083099,    0.077884,    0.076557,    0.076114,    0.075671,    0.075228,    0.074785,    0.074342,    0.073899,    0.073456,    0.073013,     0.07257,    0.072127,    0.071062,     0.06813,     0.06638,    0.065809,    0.065237,    0.064666,    0.064094,    0.063522,    0.062951,    0.062379,\n",
              "           0.061808,    0.061179,    0.060498,    0.059817,    0.059137,    0.058456,    0.057776,    0.057095,    0.056415,    0.055346,    0.054274,    0.053202,    0.052131,    0.051206,     0.05084,    0.050474,    0.050108,    0.049742,    0.049376,    0.049009,    0.048643,    0.048277,    0.047911,\n",
              "           0.047545,    0.047179,    0.046813,    0.046447,    0.045719,    0.043534,    0.041348,    0.038313,    0.035632,    0.034527,    0.033423,    0.032319,    0.031214,    0.030328,    0.029589,    0.028849,     0.02811,    0.027371,    0.026632,    0.025892,     0.02508,    0.024229,    0.023378,\n",
              "           0.022527,    0.021677,    0.020826,    0.020315,    0.020001,    0.019688,    0.019374,    0.019061,    0.018747,    0.018434,     0.01812,    0.017807,    0.017493,     0.01718,    0.016866,    0.016553,    0.016239,    0.015926,    0.015612,    0.014855,    0.012917,    0.010978,    0.009964,\n",
              "          0.0094982,   0.0090324,   0.0085665,   0.0081007,   0.0076349,   0.0071691,   0.0067033,   0.0062375,   0.0057717,   0.0053058,           0,           0,           0,           0,           0,           0,           0,           0,           0,           0,           0,           0,           0,\n",
              "                  0,           0,           0,           0,           0,           0,           0,           0,           0,           0,           0,           0,           0,           0,           0,           0,           0,           0,           0,           0,           0,           0,           0,\n",
              "                  0,           0,           0,           0,           0,           0,           0,           0,           0,           0,           0,           0,           0,           0,           0,           0,           0,           0,           0,           0,           0,           0,           0,\n",
              "                  0,           0,           0,           0,           0,           0,           0,           0,           0,           0,           0,           0,           0,           0,           0,           0,           0,           0,           0,           0,           0,           0,           0,\n",
              "                  0,           0,           0,           0,           0,           0,           0,           0,           0,           0,           0,           0,           0,           0,           0,           0,           0,           0,           0,           0,           0,           0,           0,\n",
              "                  0,           0,           0,           0,           0,           0,           0,           0,           0,           0,           0]]), 'Confidence', 'Recall']]\n",
              "fitness: 0.44782763082762966\n",
              "keys: ['metrics/precision(B)', 'metrics/recall(B)', 'metrics/mAP50(B)', 'metrics/mAP50-95(B)']\n",
              "maps: array([    0.41161])\n",
              "names: {0: 'Butterfly'}\n",
              "plot: True\n",
              "results_dict: {'metrics/precision(B)': 0.794188775989701, 'metrics/recall(B)': 0.6728251243375428, 'metrics/mAP50(B)': 0.773827395167996, 'metrics/mAP50-95(B)': 0.41160543478981115, 'fitness': 0.44782763082762966}\n",
              "save_dir: PosixPath('runs/detect/train14')\n",
              "speed: {'preprocess': 2.2605514526367188, 'inference': 210.57231426239014, 'loss': 0.00045299530029296875, 'postprocess': 4.774761199951172}\n",
              "task: 'detect'"
            ]
          },
          "metadata": {},
          "execution_count": 19
        }
      ],
      "source": [
        "from ultralytics import YOLO\n",
        "\n",
        "model = YOLO(\"yolov8n.yaml\")\n",
        "model.train(data=\"config.yaml\", epochs=100)  # train the model"
      ]
    },
    {
      "cell_type": "code",
      "source": [
        "import os\n",
        "import cv2\n",
        "\n",
        "# Define the path to the dataset (update this your actual path)\n",
        "image_dir = \"/content/datasets/coco8/images/train\"\n",
        "label_dir = \"/content/datasets/coco8/labels/train\"\n",
        "\n",
        "class_mapping = {\n",
        "    'Butterfly': 0,\n",
        "    # Add other mappings here if only if you have one\n",
        "}\n",
        "\n",
        "def fix_labels(label_path):\n",
        "    new_lines = []\n",
        "    with open(label_path, 'r') as f:\n",
        "        lines = f.readlines()\n",
        "        for line in lines:\n",
        "            parts = line.strip().split()\n",
        "            # Check if the label has the correct number of columns (5)\n",
        "            if len(parts) == 5:\n",
        "                new_lines.append(line)\n",
        "            elif len(parts) == 4:  # If 4 columns, pad or fix\n",
        "                print(f\"Incorrect label format: {label_path}\")\n",
        "            else:\n",
        "                # If the label contains a class name instead of ID\n",
        "                if parts[0] in class_mapping:\n",
        "                    parts[0] = str(class_mapping[parts[0]])\n",
        "                    if len(parts) == 5:\n",
        "                        new_lines.append(\" \".join(parts) + \"\\n\")\n",
        "                    else:\n",
        "                        print(f\"Label shape issue: {label_path}\")\n",
        "\n",
        "    # Write corrected labels\n",
        "    with open(label_path, 'w') as f:\n",
        "        f.writelines(new_lines)\n",
        "\n",
        "def remove_corrupt_images(image_path):\n",
        "    try:\n",
        "        img = cv2.imread(image_path)\n",
        "        if img is None:\n",
        "            print(f\"Corrupt image: {image_path}\")\n",
        "            os.remove(image_path)\n",
        "    except Exception as e:\n",
        "        print(f\"Error reading image {image_path}: {e}\")\n",
        "        os.remove(image_path)\n",
        "\n",
        "# Iterate over the dataset\n",
        "for label_file in os.listdir(label_dir):\n",
        "    label_path = os.path.join(label_dir, label_file)\n",
        "    image_path = os.path.join(image_dir, label_file.replace('.txt', '.jpg'))\n",
        "\n",
        "    fix_labels(label_path)\n",
        "\n",
        "    # Check and remove corrupt images\n",
        "    remove_corrupt_images(image_path)\n",
        "\n",
        "print(\"Dataset cleaning complete!\")\n"
      ],
      "metadata": {
        "id": "-uWIezU_fbun",
        "colab": {
          "base_uri": "https://localhost:8080/"
        },
        "outputId": "654e4d92-206e-43e9-8dc5-66352d362463"
      },
      "execution_count": null,
      "outputs": [
        {
          "output_type": "stream",
          "name": "stdout",
          "text": [
            "Incorrect label format: /content/datasets/coco8/labels/train/02542b5ce29dfe83.txt\n",
            "Incorrect label format: /content/datasets/coco8/labels/train/05a52f3dc9b1e73d.txt\n",
            "Incorrect label format: /content/datasets/coco8/labels/train/05a52f3dc9b1e73d.txt\n",
            "Incorrect label format: /content/datasets/coco8/labels/train/05a52f3dc9b1e73d.txt\n",
            "Incorrect label format: /content/datasets/coco8/labels/train/05a52f3dc9b1e73d.txt\n",
            "Incorrect label format: /content/datasets/coco8/labels/train/05a52f3dc9b1e73d.txt\n",
            "Incorrect label format: /content/datasets/coco8/labels/train/05a52f3dc9b1e73d.txt\n",
            "Incorrect label format: /content/datasets/coco8/labels/train/05a52f3dc9b1e73d.txt\n",
            "Incorrect label format: /content/datasets/coco8/labels/train/05a52f3dc9b1e73d.txt\n",
            "Incorrect label format: /content/datasets/coco8/labels/train/05a52f3dc9b1e73d.txt\n",
            "Incorrect label format: /content/datasets/coco8/labels/train/05a52f3dc9b1e73d.txt\n",
            "Incorrect label format: /content/datasets/coco8/labels/train/05a52f3dc9b1e73d.txt\n",
            "Incorrect label format: /content/datasets/coco8/labels/train/05a52f3dc9b1e73d.txt\n",
            "Incorrect label format: /content/datasets/coco8/labels/train/05a52f3dc9b1e73d.txt\n",
            "Incorrect label format: /content/datasets/coco8/labels/train/05a52f3dc9b1e73d.txt\n",
            "Incorrect label format: /content/datasets/coco8/labels/train/05a52f3dc9b1e73d.txt\n",
            "Incorrect label format: /content/datasets/coco8/labels/train/05a52f3dc9b1e73d.txt\n",
            "Incorrect label format: /content/datasets/coco8/labels/train/05a52f3dc9b1e73d.txt\n",
            "Incorrect label format: /content/datasets/coco8/labels/train/047d4e7216b9f6cc.txt\n",
            "Incorrect label format: /content/datasets/coco8/labels/train/00c43814d22064ba.txt\n",
            "Incorrect label format: /content/datasets/coco8/labels/train/01548d4c407ffa69.txt\n",
            "Dataset cleaning complete!\n"
          ]
        }
      ]
    },
    {
      "cell_type": "code",
      "source": [
        "import os\n",
        "import cv2\n",
        "\n",
        "image_dir = \"/content/datasets/coco8/images/train\"\n",
        "label_dir = \"/content/datasets/coco8/labels/train\"\n",
        "\n",
        "class_mapping = {\n",
        "    'Butterfly': 0,\n",
        "}\n",
        "\n",
        "def inspect_label_file(label_path):\n",
        "    \"\"\"\n",
        "    Inspect label files and log issues. Return True if file can be fixed, False otherwise.\n",
        "    \"\"\"\n",
        "    with open(label_path, 'r') as f:\n",
        "        lines = f.readlines()\n",
        "        for line in lines:\n",
        "            parts = line.strip().split()\n",
        "            if len(parts) < 4 or len(parts) > 5:\n",
        "                print(f\"Incorrect label format: {label_path} -> {line.strip()}\")\n",
        "                return False  # Cannot fix automatically\n",
        "            if len(parts) == 5:\n",
        "                # Check if the first element is a class name instead of a number\n",
        "                if parts[0].isalpha():\n",
        "                    if parts[0] not in class_mapping:\n",
        "                        print(f\"Unknown class: {parts[0]} in {label_path}\")\n",
        "                        return False  # Unmapped class\n",
        "    return True  # File is either correct or can be fixed\n",
        "\n",
        "def fix_labels(label_path):\n",
        "    new_lines = []\n",
        "    with open(label_path, 'r') as f:\n",
        "        lines = f.readlines()\n",
        "        for line in lines:\n",
        "            parts = line.strip().split()\n",
        "            if len(parts) == 5:\n",
        "                if parts[0] in class_mapping:\n",
        "                    parts[0] = str(class_mapping[parts[0]])\n",
        "                new_lines.append(\" \".join(parts) + \"\\n\")\n",
        "            else:\n",
        "                print(f\"Skipping badly formatted line in {label_path}: {line.strip()}\")\n",
        "\n",
        "    with open(label_path, 'w') as f:\n",
        "        f.writelines(new_lines)\n",
        "\n",
        "def remove_corrupt_images(image_path):\n",
        "    try:\n",
        "        img = cv2.imread(image_path)\n",
        "        if img is None:\n",
        "            print(f\"Corrupt image: {image_path}\")\n",
        "            os.remove(image_path)\n",
        "    except Exception as e:\n",
        "        print(f\"Error reading image {image_path}: {e}\")\n",
        "        os.remove(image_path)\n",
        "\n",
        "for label_file in os.listdir(label_dir):\n",
        "    label_path = os.path.join(label_dir, label_file)\n",
        "    image_path = os.path.join(image_dir, label_file.replace('.txt', '.jpg'))\n",
        "\n",
        "    if inspect_label_file(label_path):\n",
        "\n",
        "        fix_labels(label_path)\n",
        "\n",
        "    remove_corrupt_images(image_path)\n",
        "\n",
        "print(\"Dataset inspection and cleaning complete!\")\n"
      ],
      "metadata": {
        "colab": {
          "base_uri": "https://localhost:8080/"
        },
        "id": "vG4KZptYmky-",
        "outputId": "6ab344e1-235c-4e86-bd5b-b8bd7303c547"
      },
      "execution_count": null,
      "outputs": [
        {
          "output_type": "stream",
          "name": "stdout",
          "text": [
            "Dataset inspection and cleaning complete!\n"
          ]
        }
      ]
    },
    {
      "cell_type": "code",
      "source": [
        "import os\n",
        "from PIL import Image\n",
        "\n",
        "image_dir = \"/content/datasets/coco8/images/train\"\n",
        "label_dir = \"/content/datasets/coco8/labels/train\"\n",
        "\n",
        "def normalize_labels(image_dir, label_dir):\n",
        "    for label_file in os.listdir(label_dir):\n",
        "        label_path = os.path.join(label_dir, label_file)\n",
        "        image_name_jpg = label_file.replace('.txt', '.jpg')\n",
        "        image_name_png = label_file.replace('.txt', '.png')\n",
        "\n",
        "        # Determine image file extension\n",
        "        if os.path.exists(os.path.join(image_dir, image_name_jpg)):\n",
        "            image_path = os.path.join(image_dir, image_name_jpg)\n",
        "        elif os.path.exists(os.path.join(image_dir, image_name_png)):\n",
        "            image_path = os.path.join(image_dir, image_name_png)\n",
        "        else:\n",
        "            print(f\"Image file not found for label {label_file}\")\n",
        "            continue\n",
        "\n",
        "        try:\n",
        "            with Image.open(image_path) as img:\n",
        "                img_width, img_height = img.size\n",
        "        except Exception as e:\n",
        "            print(f\"Error opening image {image_path}: {e}\")\n",
        "            continue\n",
        "\n",
        "        new_lines = []\n",
        "        with open(label_path, 'r') as f:\n",
        "            lines = f.readlines()\n",
        "            for line in lines:\n",
        "                parts = line.strip().split()\n",
        "                if len(parts) == 5:\n",
        "                    class_id = parts[0]\n",
        "                    x1 = float(parts[1])\n",
        "                    y1 = float(parts[2])\n",
        "                    x2 = float(parts[3])\n",
        "                    y2 = float(parts[4])\n",
        "\n",
        "                    # Check if coordinates are pixel values\n",
        "                    if x1 > 1 or y1 > 1 or x2 > 1 or y2 > 1:\n",
        "                        # Calculate bounding box dimensions\n",
        "                        bbox_width = x2 - x1\n",
        "                        bbox_height = y2 - y1\n",
        "                        x_center = x1 + (bbox_width / 2)\n",
        "                        y_center = y1 + (bbox_height / 2)\n",
        "\n",
        "                        # Normalize coordinates\n",
        "                        x_center_norm = x_center / img_width\n",
        "                        y_center_norm = y_center / img_height\n",
        "                        bbox_width_norm = bbox_width / img_width\n",
        "                        bbox_height_norm = bbox_height / img_height\n",
        "\n",
        "                        # Ensure normalized coordinates are between 0 and 1\n",
        "                        if not (0 <= x_center_norm <= 1 and 0 <= y_center_norm <= 1 and\n",
        "                                0 <= bbox_width_norm <= 1 and 0 <= bbox_height_norm <= 1):\n",
        "                            print(f\"Normalized coordinates out of bounds in {label_path}: {line.strip()}\")\n",
        "                            continue\n",
        "\n",
        "                        new_line = f\"{class_id} {x_center_norm} {y_center_norm} {bbox_width_norm} {bbox_height_norm}\\n\"\n",
        "                        new_lines.append(new_line)\n",
        "                    else:\n",
        "                        new_lines.append(line)\n",
        "                else:\n",
        "                    print(f\"Incorrect label format in {label_path}: {line.strip()}\")\n",
        "                    continue\n",
        "\n",
        "        with open(label_path, 'w') as f:\n",
        "            f.writelines(new_lines)\n",
        "\n",
        "    print(\"Label normalization complete!\")\n",
        "\n",
        "normalize_labels(image_dir, label_dir)\n"
      ],
      "metadata": {
        "colab": {
          "base_uri": "https://localhost:8080/"
        },
        "id": "pLB_tOuenbYN",
        "outputId": "67d267d8-5da9-4481-baba-2f46a326e9b9"
      },
      "execution_count": null,
      "outputs": [
        {
          "output_type": "stream",
          "name": "stdout",
          "text": [
            "Label normalization complete!\n"
          ]
        }
      ]
    },
    {
      "cell_type": "code",
      "source": [
        "import cv2\n",
        "from ultralytics import YOLO\n",
        "\n",
        "# Load the trained YOLOv8 model\n",
        "model = YOLO('/content/runs/detect/train15/weights/best.pt')  # Replace with your model's file path\n",
        "\n",
        "# Function to process video and apply object detection\n",
        "def process_video(video_path):\n",
        "    # Open the video file\n",
        "    cap = cv2.VideoCapture(video_path)\n",
        "\n",
        "    if not cap.isOpened():\n",
        "        print(\"Error: Could not open video.\")\n",
        "        return\n",
        "\n",
        "    # Video properties\n",
        "    width = int(cap.get(cv2.CAP_PROP_FRAME_WIDTH))\n",
        "    height = int(cap.get(cv2.CAP_PROP_FRAME_HEIGHT))\n",
        "    fps = cap.get(cv2.CAP_PROP_FPS)\n",
        "\n",
        "    # Output video writer to save the video with detections\n",
        "    output_video = cv2.VideoWriter('output_with_detections.mp4', cv2.VideoWriter_fourcc(*'mp4v'), fps, (width, height))\n",
        "\n",
        "    while cap.isOpened():\n",
        "        ret, frame = cap.read()\n",
        "        if not ret:\n",
        "            break\n",
        "\n",
        "        # Run the YOLOv8 model on each frame\n",
        "        results = model(frame)\n",
        "\n",
        "        # Annotate the frame with the detections\n",
        "        annotated_frame = results[0].plot()  # plot() draws the bounding boxes and labels\n",
        "\n",
        "        # Write the annotated frame to the output video\n",
        "        output_video.write(annotated_frame)\n",
        "\n",
        "    # Release the video capture and output writer\n",
        "    cap.release()\n",
        "    output_video.release()\n",
        "    print(\"Video saved as output_with_detections.mp4\")\n",
        "\n",
        "# Replace 'your_video.mp4' with the actual path to your video file\n",
        "video_path = '/content/drive/MyDrive/vide.mp4'\n",
        "\n",
        "# Call the process_video function to perform object detection\n",
        "process_video(video_path)\n"
      ],
      "metadata": {
        "id": "JhMsLFXDTsec"
      },
      "execution_count": null,
      "outputs": []
    }
  ]
}